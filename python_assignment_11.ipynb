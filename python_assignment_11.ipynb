{
 "cells": [
  {
   "cell_type": "raw",
   "id": "e3d8384e",
   "metadata": {},
   "source": [
    "QUES->1. Create an assert statement that throws an AssertionError if the variable spam is a negative integer.\n",
    "\n",
    "ANS->"
   ]
  },
  {
   "cell_type": "code",
   "execution_count": 30,
   "id": "4740c19a",
   "metadata": {},
   "outputs": [
    {
     "ename": "AssertionError",
     "evalue": " variable spam should not be a negative integer",
     "output_type": "error",
     "traceback": [
      "\u001b[1;31m---------------------------------------------------------------------------\u001b[0m",
      "\u001b[1;31mAssertionError\u001b[0m                            Traceback (most recent call last)",
      "Cell \u001b[1;32mIn[30], line 3\u001b[0m\n\u001b[0;32m      1\u001b[0m \u001b[38;5;66;03m#ANS->\u001b[39;00m\n\u001b[0;32m      2\u001b[0m spam \u001b[38;5;241m=\u001b[39m \u001b[38;5;241m-\u001b[39m\u001b[38;5;241m1\u001b[39m\n\u001b[1;32m----> 3\u001b[0m \u001b[38;5;28;01massert\u001b[39;00m spam \u001b[38;5;241m>\u001b[39m\u001b[38;5;241m=\u001b[39m \u001b[38;5;241m0\u001b[39m,\u001b[38;5;124m'\u001b[39m\u001b[38;5;124m variable spam should not be a negative integer\u001b[39m\u001b[38;5;124m'\u001b[39m\n",
      "\u001b[1;31mAssertionError\u001b[0m:  variable spam should not be a negative integer"
     ]
    }
   ],
   "source": [
    "#ANS->\n",
    "spam = -1\n",
    "assert spam >= 0,' variable spam should not be a negative integer'\n"
   ]
  },
  {
   "cell_type": "raw",
   "id": "aba14b10",
   "metadata": {},
   "source": [
    "QUES->2. Write an assert statement that triggers an AssertionError if the variables eggs and bacon contain strings that are the same as each other, even if their cases are different (that is, 'hello' and 'hello' are considered the same, and 'goodbye' and 'GOODbye' are also considered the same)."
   ]
  },
  {
   "cell_type": "code",
   "execution_count": 9,
   "id": "aa54eb76",
   "metadata": {},
   "outputs": [
    {
     "ename": "AssertionError",
     "evalue": "Variables 'eggs' and 'bacon' should not have the same value.",
     "output_type": "error",
     "traceback": [
      "\u001b[1;31m---------------------------------------------------------------------------\u001b[0m",
      "\u001b[1;31mAssertionError\u001b[0m                            Traceback (most recent call last)",
      "Cell \u001b[1;32mIn[9], line 5\u001b[0m\n\u001b[0;32m      2\u001b[0m eggs\u001b[38;5;241m=\u001b[39m\u001b[38;5;124m'\u001b[39m\u001b[38;5;124mEgGS\u001b[39m\u001b[38;5;124m'\u001b[39m\n\u001b[0;32m      3\u001b[0m bacon\u001b[38;5;241m=\u001b[39m\u001b[38;5;124m'\u001b[39m\u001b[38;5;124meGGs\u001b[39m\u001b[38;5;124m'\u001b[39m\n\u001b[1;32m----> 5\u001b[0m \u001b[38;5;28;01massert\u001b[39;00m eggs\u001b[38;5;241m.\u001b[39mlower() \u001b[38;5;241m!=\u001b[39m bacon\u001b[38;5;241m.\u001b[39mlower(), \u001b[38;5;124m\"\u001b[39m\u001b[38;5;124mVariables \u001b[39m\u001b[38;5;124m'\u001b[39m\u001b[38;5;124meggs\u001b[39m\u001b[38;5;124m'\u001b[39m\u001b[38;5;124m and \u001b[39m\u001b[38;5;124m'\u001b[39m\u001b[38;5;124mbacon\u001b[39m\u001b[38;5;124m'\u001b[39m\u001b[38;5;124m should not have the same value.\u001b[39m\u001b[38;5;124m\"\u001b[39m\n",
      "\u001b[1;31mAssertionError\u001b[0m: Variables 'eggs' and 'bacon' should not have the same value."
     ]
    }
   ],
   "source": [
    "#ANS->\n",
    "eggs='EgGS'\n",
    "bacon='eGGs'\n",
    "\n",
    "assert eggs.lower() != bacon.lower(), \"Variables 'eggs' and 'bacon' should not have the same value.\"\n"
   ]
  },
  {
   "cell_type": "raw",
   "id": "46e89c15",
   "metadata": {},
   "source": [
    "QUES->3. Create an assert statement that throws an AssertionError every time.\n",
    "\n",
    "\n",
    "ANS->\n",
    "To create an assert statement that throws an AssertionError every time, you can use a condition that is always false\n"
   ]
  },
  {
   "cell_type": "code",
   "execution_count": 27,
   "id": "39edae1b",
   "metadata": {},
   "outputs": [
    {
     "ename": "AssertionError",
     "evalue": "True is not false : Test value is not false.",
     "output_type": "error",
     "traceback": [
      "\u001b[1;31m---------------------------------------------------------------------------\u001b[0m",
      "\u001b[1;31mAssertionError\u001b[0m                            Traceback (most recent call last)",
      "Cell \u001b[1;32mIn[27], line 10\u001b[0m\n\u001b[0;32m      8\u001b[0m         \u001b[38;5;28mself\u001b[39m\u001b[38;5;241m.\u001b[39massertFalse( testValue, message)\n\u001b[0;32m      9\u001b[0m obj\u001b[38;5;241m=\u001b[39mTest_assert_method()\n\u001b[1;32m---> 10\u001b[0m \u001b[43mobj\u001b[49m\u001b[38;5;241;43m.\u001b[39;49m\u001b[43mcheck_method\u001b[49m\u001b[43m(\u001b[49m\u001b[43m)\u001b[49m\n",
      "Cell \u001b[1;32mIn[27], line 8\u001b[0m, in \u001b[0;36mTest_assert_method.check_method\u001b[1;34m(self)\u001b[0m\n\u001b[0;32m      6\u001b[0m message \u001b[38;5;241m=\u001b[39m \u001b[38;5;124m\"\u001b[39m\u001b[38;5;124mTest value is not false.\u001b[39m\u001b[38;5;124m\"\u001b[39m\n\u001b[0;32m      7\u001b[0m \u001b[38;5;66;03m# assertFalse() to check test value as false\u001b[39;00m\n\u001b[1;32m----> 8\u001b[0m \u001b[38;5;28;43mself\u001b[39;49m\u001b[38;5;241;43m.\u001b[39;49m\u001b[43massertFalse\u001b[49m\u001b[43m(\u001b[49m\u001b[43m \u001b[49m\u001b[43mtestValue\u001b[49m\u001b[43m,\u001b[49m\u001b[43m \u001b[49m\u001b[43mmessage\u001b[49m\u001b[43m)\u001b[49m\n",
      "File \u001b[1;32m~\\anaconda3\\anacondas\\lib\\unittest\\case.py:681\u001b[0m, in \u001b[0;36mTestCase.assertFalse\u001b[1;34m(self, expr, msg)\u001b[0m\n\u001b[0;32m    679\u001b[0m \u001b[38;5;28;01mif\u001b[39;00m expr:\n\u001b[0;32m    680\u001b[0m     msg \u001b[38;5;241m=\u001b[39m \u001b[38;5;28mself\u001b[39m\u001b[38;5;241m.\u001b[39m_formatMessage(msg, \u001b[38;5;124m\"\u001b[39m\u001b[38;5;132;01m%s\u001b[39;00m\u001b[38;5;124m is not false\u001b[39m\u001b[38;5;124m\"\u001b[39m \u001b[38;5;241m%\u001b[39m safe_repr(expr))\n\u001b[1;32m--> 681\u001b[0m     \u001b[38;5;28;01mraise\u001b[39;00m \u001b[38;5;28mself\u001b[39m\u001b[38;5;241m.\u001b[39mfailureException(msg)\n",
      "\u001b[1;31mAssertionError\u001b[0m: True is not false : Test value is not false."
     ]
    }
   ],
   "source": [
    "#Example:\n",
    "class Test_assert_method(unittest.TestCase):\n",
    "    def check_method(self):\n",
    "        testValue = True\n",
    "        # error message in case if test case got failed\n",
    "        message = \"Test value is not false.\"\n",
    "        # assertFalse() to check test value as false\n",
    "        self.assertFalse( testValue, message)\n",
    "obj=Test_assert_method()\n",
    "obj.check_method()"
   ]
  },
  {
   "cell_type": "raw",
   "id": "5d313c0e",
   "metadata": {},
   "source": [
    "QUES->4. What are the two lines that must be present in your software in order to call logging.debug()?"
   ]
  },
  {
   "cell_type": "code",
   "execution_count": null,
   "id": "b373c763",
   "metadata": {},
   "outputs": [],
   "source": [
    "#ANS->\n",
    "\n",
    "import logging\n",
    "logging.basicConfig(level=logging.DEBUG)\n",
    "\n",
    "#The first line imports the logging module, while the second line configures the logging module to display debug messages.\n"
   ]
  },
  {
   "cell_type": "raw",
   "id": "fae1d16e",
   "metadata": {},
   "source": [
    "QUES->5. What are the two lines that your program must have in order to have logging.debug() send a logging message to a file named programLog.txt?"
   ]
  },
  {
   "cell_type": "code",
   "execution_count": null,
   "id": "66393761",
   "metadata": {},
   "outputs": [],
   "source": [
    "#ANS->\n",
    "\n",
    "import logging\n",
    "\n",
    "logging.basicConfig(filename='programLog.txt', level=logging.DEBUG)\n",
    "\n",
    "#The first line imports the logging module, and the second line configures the logging module to write debug messages to the specified file.\n",
    "\n",
    "\n",
    "\n",
    "\n",
    "\n"
   ]
  },
  {
   "cell_type": "raw",
   "id": "51379159",
   "metadata": {},
   "source": [
    "QUES->6. What are the five levels of logging?\n",
    "\n",
    "ANS->\n",
    "The five levels of logging, in increasing order of severity, are:\n",
    "\n",
    "DEBUG: Detailed information, typically useful for debugging purposes.\n",
    "INFO: General information about the program's execution.\n",
    "WARNING: Indicates a potential problem or something that should be addressed.\n",
    "ERROR: Indicates an error that caused the program to perform an unexpected action or unable to proceed.\n",
    "CRITICAL: Indicates a critical error or a severe issue that may cause the program to crash."
   ]
  },
  {
   "cell_type": "raw",
   "id": "04adad6d",
   "metadata": {},
   "source": [
    "QUES->7. What line of code would you add to your software to disable all logging messages?\n",
    "\n",
    "ANS->\n",
    "logging.disable(logging.CRITICAL)\n",
    "This line disables all logging messages with a severity level of CRITICAL or lower.\n"
   ]
  },
  {
   "cell_type": "raw",
   "id": "0e9faba1",
   "metadata": {},
   "source": [
    "QUES->8.Why is using logging messages better than using print() to display the same message?\n",
    "\n",
    "ANS->\n",
    "Using logging messages is generally better than using print() to display messages for several reasons:\n",
    "\n",
    "Logging messages can be easily enabled or disabled based on the configured log level without modifying the code, allowing for better control over the verbosity of output.\n",
    "Logging messages can be redirected to various outputs, such as files, consoles, or external services, making it more flexible for different environments.\n",
    "Logging messages can include additional contextual information, such as timestamps, log levels, and loggers, making it easier to analyze and understand the log output.\n",
    "Logging messages can be formatted consistently across the entire application, providing a standardized way of logging and improving code readability."
   ]
  },
  {
   "cell_type": "raw",
   "id": "a83f8071",
   "metadata": {},
   "source": [
    "QUES->9. What are the differences between the Step Over, Step In, and Step Out buttons in the debugger?\n",
    "\n",
    "ANS->\n",
    "The differences between the Step Over, Step In, and Step Out buttons in the debugger are as follows:\n",
    "\n",
    "Step Over: Executes the current line of code and moves to the next line in the current function. If there is a function call on the current line, it will execute the function entirely without stepping into it.\n",
    "Step In: If there is a function call on the current line, it will step into the function and move the debugger to the first line of the called function, allowing you to step through the function line by line.\n",
    "Step Out: If the debugger is currently inside a function, it will execute the remaining lines of the function without stepping through them and returns control to the line where the function was called. It continues stepping from there."
   ]
  },
  {
   "cell_type": "raw",
   "id": "d6f8f68c",
   "metadata": {},
   "source": [
    "QUES->10.After you click Continue, when will the debugger stop ?\n",
    "\n",
    "ANS->\n",
    "After clicking Continue, the debugger will stop when it reaches the next breakpoint or when the program execution is complete. It will continue executing the code without interruption until it encounters either of these conditions."
   ]
  },
  {
   "cell_type": "raw",
   "id": "7ea0f0d2",
   "metadata": {},
   "source": [
    "QUES->11. What is the concept of a breakpoint?\n",
    "\n",
    "ANS->\n",
    "A breakpoint is a designated point in the code where the debugger will pause program execution, allowing you to inspect the program's state and step through the code line by line. It helps in debugging by providing a controlled environment for analyzing the code's behavior and identifying issues. Breakpoints can be set at specific lines of code, functions, or conditions and are useful for gaining insights into the program's execution flow and variables at specific points in time."
   ]
  }
 ],
 "metadata": {
  "kernelspec": {
   "display_name": "Python 3 (ipykernel)",
   "language": "python",
   "name": "python3"
  },
  "language_info": {
   "codemirror_mode": {
    "name": "ipython",
    "version": 3
   },
   "file_extension": ".py",
   "mimetype": "text/x-python",
   "name": "python",
   "nbconvert_exporter": "python",
   "pygments_lexer": "ipython3",
   "version": "3.10.9"
  }
 },
 "nbformat": 4,
 "nbformat_minor": 5
}
