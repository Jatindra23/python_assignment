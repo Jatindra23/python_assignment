{
 "cells": [
  {
   "cell_type": "code",
   "execution_count": 2,
   "id": "a634adf8",
   "metadata": {},
   "outputs": [
    {
     "name": "stdout",
     "output_type": "stream",
     "text": [
      "[1, 2, 3, 40, 5]\n",
      "[1, 2, 3, 40, 5, 6, 7, 80]\n",
      "[1, 2, 3, 40, 5, 6, 7, 80, 9, 10]\n"
     ]
    }
   ],
   "source": [
    "# Question1\n",
    "# Create a function that takes an integer and returns a list from 1 to the given number, where:\n",
    "# 1. If the number can be divided evenly by 4, amplify it by 10 (i.e. return 10 times the\n",
    "# number).\n",
    "# 2. If the number cannot be divided evenly by 4, simply return the number.\n",
    "\n",
    "def amplify(num):\n",
    "    return [x * 10 if x % 4 == 0 else x for x in range(1, num + 1)]\n",
    "\n",
    "# Test cases\n",
    "print(amplify(5))\n",
    "print(amplify(8))\n",
    "print(amplify(10)) \n"
   ]
  },
  {
   "cell_type": "code",
   "execution_count": 3,
   "id": "2555c260",
   "metadata": {},
   "outputs": [
    {
     "name": "stdout",
     "output_type": "stream",
     "text": [
      "None\n",
      "2\n",
      "2\n"
     ]
    }
   ],
   "source": [
    "# Question2\n",
    "# Create a function that takes a list of numbers and return the number that's unique.\n",
    "\n",
    "def unique(lst):\n",
    "    for num in lst:\n",
    "        if lst.count(num) == 1:\n",
    "            return num\n",
    "\n",
    "\n",
    "print(unique([1, 2, 2, 1, 2, 1]))\n",
    "print(unique([4, 4, 2, 8, 7]))   \n",
    "print(unique([2, 12, 11, 13, 13, 13, 11, 11]))\n"
   ]
  },
  {
   "cell_type": "code",
   "execution_count": 4,
   "id": "0e91b21e",
   "metadata": {},
   "outputs": [
    {
     "name": "stdout",
     "output_type": "stream",
     "text": [
      "2827\n",
      "188.5\n",
      "475\n",
      "77.28\n"
     ]
    }
   ],
   "source": [
    "# Question3\n",
    "# Your task is to create a Circle constructor that creates a circle with a radius provided by an\n",
    "# argument. The circles constructed must have two getters getArea() (PIr^2) and\n",
    "# getPerimeter() (2PI*r) which give both respective areas and perimeter (circumference).\n",
    "# For help with this class, I have provided you with a Rectangle constructor which you can use\n",
    "# as a base example.\n",
    "\n",
    "import math\n",
    "\n",
    "class Circle:\n",
    "    def __init__(self, radius):\n",
    "        self.radius = radius\n",
    "    \n",
    "    def getArea(self):\n",
    "        return round(math.pi * self.radius ** 2)\n",
    "    \n",
    "    def getPerimeter(self):\n",
    "        return round(2 * math.pi * self.radius, 2)\n",
    "\n",
    "# Test cases\n",
    "circy = Circle(30)\n",
    "print(circy.getArea())      \n",
    "print(circy.getPerimeter())\n",
    "\n",
    "circy = Circle(12.3)\n",
    "print(circy.getArea())      \n",
    "print(circy.getPerimeter()) "
   ]
  },
  {
   "cell_type": "code",
   "execution_count": 6,
   "id": "2ca785a3",
   "metadata": {},
   "outputs": [
    {
     "name": "stdout",
     "output_type": "stream",
     "text": [
      "['Adobe', 'TESLA', 'two SIgma']\n",
      "['Amanda', 'Rachel', 'Toretto', 'Tony Stark']\n",
      "['Thomas', 'Albert', 'Openhiemer']\n"
     ]
    }
   ],
   "source": [
    "# Question4\n",
    "# Create a function that takes a list of strings and return a list, sorted from shortest to longest.\n",
    "\n",
    "def sort_by_length(lst):\n",
    "    return sorted(lst, key=len)\n",
    "\n",
    "print(sort_by_length([\"Adobe\", \"two SIgma\", \"TESLA\"])) \n",
    "\n",
    "print(sort_by_length([\"Tony Stark\", \"Amanda\", \"Rachel\", \"Toretto\"])) \n",
    "\n",
    "print(sort_by_length([\"Thomas\", \"Albert\", \"Openhiemer\"])) \n",
    "\n"
   ]
  },
  {
   "cell_type": "code",
   "execution_count": 11,
   "id": "2c427de4",
   "metadata": {},
   "outputs": [
    {
     "name": "stdout",
     "output_type": "stream",
     "text": [
      "True\n",
      "False\n",
      "False\n"
     ]
    }
   ],
   "source": [
    "# Question5\n",
    "# Create a function that validates whether three given integers form a Pythagorean triplet. The\n",
    "# sum of the squares of the two smallest integers must equal the square of the largest number to\n",
    "# be validated.\n",
    "\n",
    "def is_triplet(a, b, c):\n",
    "    # Sort the numbers in ascending order\n",
    "    a, b, c = sorted([a, b, c])\n",
    "    \n",
    "    # Check if the sum of squares of the two smallest numbers equals the square of the largest number\n",
    "    return a**2 + b**2 == c**2\n",
    "\n",
    "\n",
    "print(is_triplet(3, 4, 5)) \n",
    "print(is_triplet(1, 1, 42))\n",
    "print(is_triplet(21, 52, 33)) \n"
   ]
  }
 ],
 "metadata": {
  "kernelspec": {
   "display_name": "Python 3 (ipykernel)",
   "language": "python",
   "name": "python3"
  },
  "language_info": {
   "codemirror_mode": {
    "name": "ipython",
    "version": 3
   },
   "file_extension": ".py",
   "mimetype": "text/x-python",
   "name": "python",
   "nbconvert_exporter": "python",
   "pygments_lexer": "ipython3",
   "version": "3.10.9"
  }
 },
 "nbformat": 4,
 "nbformat_minor": 5
}
