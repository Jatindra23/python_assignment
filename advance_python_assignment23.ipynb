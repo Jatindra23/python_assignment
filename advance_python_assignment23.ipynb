{
 "cells": [
  {
   "cell_type": "markdown",
   "id": "17c6748b",
   "metadata": {},
   "source": [
    "Q1.If you have any, what are your choices for increasing the comparison between different figures on\n",
    "the same graph?\n",
    "\n",
    "ANS->\n",
    "To increase the comparison between different figures on the same graph, employ various visualization techniques, depending on the nature of the data and specific goals. Some options include:\n",
    "\n",
    "   a. Using different colors or patterns for different figures to make them visually distinct.\n",
    "   b. Adding labels, legends, or annotations to provide context and clarify which figure represents what.\n",
    "   c. Adjusting the scale or axis limits to ensure that all figures are visible and comparable.\n",
    "   d. Using side-by-side subplots or small multiples to display multiple figures in a grid for direct comparison.\n",
    "   e. Employing interactive features such as tooltips or zooming in interactive graphs for detailed exploration.\n",
    "   f. Using statistical measures like mean lines or error bars to highlight key statistics.\n",
    "\n",
    "Q2.Can you explain the benefit of compound interest over a higher rate of interest that does not\n",
    "compound after reading this chapter?\n",
    "\n",
    "ANS->\n",
    "Compound interest offers the benefit of earning interest not only on the initial principal but also on the accumulated interest from previous periods. This compounding effect can lead to exponential growth in the value of an investment over time. In contrast, a higher rate of simple interest (interest that doesn't compound) would only apply to the initial principal amount. Compound interest allows your money to grow at an accelerating rate, making it a more powerful way to accumulate wealth over the long term.\n",
    "\n",
    "Q3.Q3. What is a histogram, exactly? Name a numpy method for creating such a graph. \n",
    "\n",
    "ANS->\n",
    "A histogram is a graphical representation of the distribution of a dataset. It consists of bars, where each bar represents a range or bin of values, and the height of the bar indicates the frequency or count of data points within that range. In Python with NumPy, you can create a histogram using the `numpy.histogram()` function or by directly using the `matplotlib.pyplot.hist()` function, which is often used for visualization.\n",
    "\n",
    "Q4.If necessary, how do you change the aspect ratios between the X and Y axes?\n",
    "\n",
    "AMS->\n",
    "To change the aspect ratios between the X and Y axes in a matplotlib plot (commonly used with NumPy arrays), you can use the `matplotlib.pyplot.figure()` function and specify the `figsize` parameter. For example:\n",
    "\n",
    "```python\n",
    "import matplotlib.pyplot as plt\n",
    "\n",
    "# Create a plot with a specific aspect ratio (e.g., 2:1)\n",
    "plt.figure(figsize=(6, 3))  # 6 units wide, 3 units high\n",
    "plt.plot(x, y)  # Replace with data\n",
    "plt.show()\n",
    "```\n",
    "\n",
    "This code will create a plot with an aspect ratio of 2:1.\n",
    "\n",
    "Q5.Compare and contrast the three types of array multiplication between two numpy arrays: dot\n",
    "product, outer product, and regular multiplication of two numpy arrays.\n",
    "\n",
    "ANS->\n",
    "Comparing the three types of array multiplication between two NumPy arrays:\n",
    "\n",
    "   a. Dot Product: The dot product, calculated using `numpy.dot()` or the `@` operator, yields a scalar value. It's used for various mathematical operations and is essential for linear algebra operations like matrix multiplication.\n",
    "\n",
    "   b. Outer Product: The outer product, calculated using `numpy.outer()`, produces a new array where each element of the first array is multiplied by each element of the second array. The resulting array is generally of higher dimension and is used in various mathematical contexts.\n",
    "\n",
    "   c. Regular Multiplication: Regular multiplication, performed using the `*` operator, performs element-wise multiplication between two arrays of the same shape. It results in a new array where each element is the product of the corresponding elements in the input arrays. This operation is used for element-wise operations and broadcasting.\n",
    "\n",
    "\n",
    "\n"
   ]
  },
  {
   "cell_type": "code",
   "execution_count": 5,
   "id": "deff2bbf",
   "metadata": {},
   "outputs": [
    {
     "name": "stdout",
     "output_type": "stream",
     "text": [
      "Collecting numpy-financial\n",
      "  Downloading numpy_financial-1.0.0-py3-none-any.whl (14 kB)\n",
      "Requirement already satisfied: numpy>=1.15 in c:\\users\\joy\\anaconda3\\lib\\site-packages (from numpy-financial) (1.23.5)\n",
      "Installing collected packages: numpy-financial\n",
      "Successfully installed numpy-financial-1.0.0\n"
     ]
    },
    {
     "name": "stderr",
     "output_type": "stream",
     "text": [
      "WARNING: Ignoring invalid distribution -atplotlib (c:\\users\\joy\\appdata\\roaming\\python\\python310\\site-packages)\n",
      "WARNING: Ignoring invalid distribution -atplotlib (c:\\users\\joy\\appdata\\roaming\\python\\python310\\site-packages)\n",
      "WARNING: Ignoring invalid distribution -atplotlib (c:\\users\\joy\\appdata\\roaming\\python\\python310\\site-packages)\n",
      "WARNING: Ignoring invalid distribution -atplotlib (c:\\users\\joy\\appdata\\roaming\\python\\python310\\site-packages)\n",
      "WARNING: Ignoring invalid distribution -atplotlib (c:\\users\\joy\\appdata\\roaming\\python\\python310\\site-packages)\n",
      "WARNING: Ignoring invalid distribution -atplotlib (c:\\users\\joy\\appdata\\roaming\\python\\python310\\site-packages)\n",
      "\n",
      "[notice] A new release of pip is available: 23.1.2 -> 23.2.1\n",
      "[notice] To update, run: python.exe -m pip install --upgrade pip\n"
     ]
    }
   ],
   "source": [
    "!pip install numpy-financial"
   ]
  },
  {
   "cell_type": "code",
   "execution_count": 7,
   "id": "e1335c4e",
   "metadata": {},
   "outputs": [
    {
     "name": "stdout",
     "output_type": "stream",
     "text": [
      "Your monthly mortgage payment is: 954.83\n"
     ]
    }
   ],
   "source": [
    "#Q6. Before you buy a home, which numpy function will you use to measure your monthly mortgage payment?\n",
    "\n",
    "#ANS->\n",
    "##To calculate your monthly mortgage payment, you would need to use financial libraries like `numpy_financial` or\n",
    "###external financial libraries like `numpy-financial` or `scipy`. \n",
    "\n",
    "import numpy_financial as npf\n",
    "\n",
    "# Define your loan parameters\n",
    "principal = 200000  # The principal amount of the loan\n",
    "annual_interest_rate = 0.04  # Annual interest rate (4%)\n",
    "loan_duration_years = 30  # Loan duration in years\n",
    "\n",
    "# Calculate the monthly mortgage payment\n",
    "monthly_interest_rate = annual_interest_rate / 12\n",
    "total_payments = loan_duration_years * 12  # Total number of monthly payments\n",
    "monthly_payment = npf.pmt(monthly_interest_rate, total_payments, -principal)\n",
    "\n",
    "print(\"Your monthly mortgage payment is:\", round(monthly_payment, 2))"
   ]
  },
  {
   "cell_type": "markdown",
   "id": "3c075267",
   "metadata": {},
   "source": [
    "Q7.Can string data be stored in numpy arrays? If so, list at least one restriction that applies to this\n",
    "data.\n",
    "\n",
    "ANS->\n",
    "Yes, string data can be stored in NumPy arrays using the `numpy.array()` function with the `dtype` parameter set to `'str'` or `'object'`. However, there are some restrictions and considerations:\n",
    "\n",
    "   a. Homogeneous Data: NumPy arrays are most efficient when they contain homogeneous data types. Mixing strings with numerical data can lead to performance issues.\n",
    "\n",
    "   b. Fixed Length: NumPy arrays require a fixed length for each element. If you create a NumPy array with a specified `dtype` for strings, all strings in the array should have the same maximum length. If you exceed this length, the data may be truncated.\n",
    "\n",
    "   c. Limited Operations: String data in NumPy arrays doesn't support the same mathematical operations as numerical data. You can perform basic array operations, but complex string manipulations are typically done using other libraries like Python's built-in string functions.\n",
    "\n",
    "   d. Memory Overhead: Storing strings in NumPy arrays can result in increased memory usage compared to other data types, as strings can be variable in length.\n",
    "\n",
    "For more flexible handling of text data, you may also consider using pandas DataFrames, which allow mixed data types and provide more extensive text manipulation capabilities."
   ]
  },
  {
   "cell_type": "code",
   "execution_count": null,
   "id": "c106f79e",
   "metadata": {},
   "outputs": [],
   "source": []
  }
 ],
 "metadata": {
  "kernelspec": {
   "display_name": "Python 3 (ipykernel)",
   "language": "python",
   "name": "python3"
  },
  "language_info": {
   "codemirror_mode": {
    "name": "ipython",
    "version": 3
   },
   "file_extension": ".py",
   "mimetype": "text/x-python",
   "name": "python",
   "nbconvert_exporter": "python",
   "pygments_lexer": "ipython3",
   "version": "3.10.9"
  }
 },
 "nbformat": 4,
 "nbformat_minor": 5
}
