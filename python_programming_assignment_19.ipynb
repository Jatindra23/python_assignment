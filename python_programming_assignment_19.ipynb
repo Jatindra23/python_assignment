{
 "cells": [
  {
   "cell_type": "code",
   "execution_count": 2,
   "id": "ea9e47dc",
   "metadata": {},
   "outputs": [
    {
     "name": "stdout",
     "output_type": "stream",
     "text": [
      "ddrriivvee\n",
      "ggooooddnniigghhtt  WWoorrlldd!!\n",
      "99998888333344443333__  \n"
     ]
    }
   ],
   "source": [
    "# Question1\n",
    "# Create a function that takes a string and returns a string in which each character is repeated\n",
    "# once.\n",
    "\n",
    "def double_char(input_str):\n",
    "    doubled_str = \"\"\n",
    "    \n",
    "    for char in input_str:\n",
    "        doubled_str += char * 2\n",
    "    \n",
    "    return doubled_str\n",
    "\n",
    "# Test cases\n",
    "print(double_char(\"drive\"))     \n",
    "print(double_char(\"goodnight World!\")) \n",
    "print(double_char(\"9988334433_ \"))    \n"
   ]
  },
  {
   "cell_type": "code",
   "execution_count": 3,
   "id": "2591f3f1",
   "metadata": {},
   "outputs": [],
   "source": [
    "# Question2\n",
    "# Create a function that reverses a boolean value and returns the string &quot;boolean expected&quot;\n",
    "# if another variable type is given.\n",
    "\n",
    "def reverse(value):\n",
    "    if isinstance(value, bool):\n",
    "        return not value\n",
    "    else:\n",
    "        return \"boolean expected\"\n",
    "\n",
    "# Test cases\n",
    "print(reverse(True)) \n",
    "print(reverse(False))  \n",
    "print(reverse(0))      \n",
    "print(reverse(None))\n"
   ]
  },
  {
   "cell_type": "code",
   "execution_count": 10,
   "id": "6619d1ad",
   "metadata": {},
   "outputs": [
    {
     "name": "stdout",
     "output_type": "stream",
     "text": [
      "0.001m\n",
      "0.016m\n",
      "8589934.592m\n"
     ]
    }
   ],
   "source": [
    "# Question3\n",
    "# Create a function that returns the thickness (in meters) of a piece of paper after folding it n\n",
    "# number of times. The paper starts off with a thickness of 0.5mm.\n",
    "\n",
    "def num_layers(n):\n",
    "    initial_thickness_mm = 0.5\n",
    "    final_thickness_mm = initial_thickness_mm * (2 ** n)\n",
    "    final_thickness_m = final_thickness_mm / 1000  # Convert to meters\n",
    "    return \"{:.3f}m\".format(final_thickness_m)\n",
    "\n",
    "# Test cases\n",
    "print(num_layers(1))   \n",
    "print(num_layers(5))\n",
    "print(num_layers(34))\n"
   ]
  },
  {
   "cell_type": "code",
   "execution_count": 12,
   "id": "aeee6b78",
   "metadata": {},
   "outputs": [
    {
     "name": "stdout",
     "output_type": "stream",
     "text": [
      "[1, 2]\n",
      "[0, 2, 7]\n",
      "[]\n",
      "[0, 1, 2]\n",
      "[0, 2, 3]\n"
     ]
    }
   ],
   "source": [
    "# Question4\n",
    "# Create a function that takes a single string as argument and returns an ordered list containing\n",
    "# the indices of all capital letters in the string.\n",
    "\n",
    "def index_of_caps(input_str):\n",
    "    capital_indices = [index for index, char in enumerate(input_str) if char.isupper()]\n",
    "    return capital_indices\n",
    "\n",
    "# Test cases\n",
    "print(index_of_caps(\"rABbit\"))      \n",
    "print(index_of_caps(\"CoCacolA\"))   \n",
    "print(index_of_caps(\"distingush\"))  \n",
    "print(index_of_caps(\"BYE\"))      \n",
    "print(index_of_caps(\"MoON\"))       \n"
   ]
  },
  {
   "cell_type": "code",
   "execution_count": 14,
   "id": "658bc5e3",
   "metadata": {},
   "outputs": [
    {
     "name": "stdout",
     "output_type": "stream",
     "text": [
      "[2, 4]\n",
      "[2, 4, 6, 8]\n",
      "[2, 4, 6, 8, 10, 12]\n"
     ]
    }
   ],
   "source": [
    "# Question5\n",
    "# Using list comprehensions, create a function that finds all even numbers from 1 to the given\n",
    "# number.\n",
    "\n",
    "def find_even_nums(n):\n",
    "    even_nums = [num for num in range(2, n + 1) if num % 2 == 0]\n",
    "    return even_nums\n",
    "\n",
    "# Test cases\n",
    "print(find_even_nums(5)) \n",
    "print(find_even_nums(9))\n",
    "print(find_even_nums(12))\n"
   ]
  }
 ],
 "metadata": {
  "kernelspec": {
   "display_name": "Python 3 (ipykernel)",
   "language": "python",
   "name": "python3"
  },
  "language_info": {
   "codemirror_mode": {
    "name": "ipython",
    "version": 3
   },
   "file_extension": ".py",
   "mimetype": "text/x-python",
   "name": "python",
   "nbconvert_exporter": "python",
   "pygments_lexer": "ipython3",
   "version": "3.10.9"
  }
 },
 "nbformat": 4,
 "nbformat_minor": 5
}
