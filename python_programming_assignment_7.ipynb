{
 "cells": [
  {
   "cell_type": "code",
   "execution_count": 1,
   "id": "3a697357",
   "metadata": {},
   "outputs": [
    {
     "name": "stdout",
     "output_type": "stream",
     "text": [
      "Sum of the array: 15\n"
     ]
    }
   ],
   "source": [
    "#QUES-> 1. Write a Python Program to find sum of array?\n",
    "\n",
    "#ANS->\n",
    "def sum_of_array(arr):\n",
    "    total = 0\n",
    "    for num in arr:\n",
    "        total += num\n",
    "    return total\n",
    "\n",
    "# Example usage\n",
    "array = [1, 2, 3, 4, 5]\n",
    "print(\"Sum of the array:\", sum_of_array(array))\n",
    "  "
   ]
  },
  {
   "cell_type": "code",
   "execution_count": 2,
   "id": "877d722f",
   "metadata": {},
   "outputs": [
    {
     "name": "stdout",
     "output_type": "stream",
     "text": [
      "Largest element in the array: 78\n"
     ]
    }
   ],
   "source": [
    "#QUES->2. Write a Python Program to find largest element in an array?\n",
    "\n",
    "#ANS->\n",
    "def find_largest_element(arr):\n",
    "    max_element = arr[0]\n",
    "    for num in arr:\n",
    "        if num > max_element:\n",
    "            max_element = num\n",
    "    return max_element\n",
    "\n",
    "# Example usage\n",
    "array = [12, 45, 78, 23, 56]\n",
    "print(\"Largest element in the array:\", find_largest_element(array))\n"
   ]
  },
  {
   "cell_type": "code",
   "execution_count": 3,
   "id": "e4868dbf",
   "metadata": {},
   "outputs": [
    {
     "name": "stdout",
     "output_type": "stream",
     "text": [
      "Rotated array: [4, 5, 1, 2, 3]\n"
     ]
    }
   ],
   "source": [
    "#QUES->3. Write a Python Program for array rotation?\n",
    "\n",
    "#ANS->\n",
    "def rotate_array(arr, k):\n",
    "    n = len(arr)\n",
    "    k = k % n\n",
    "    rotated = arr[-k:] + arr[:-k]\n",
    "    return rotated\n",
    "\n",
    "# Example usage\n",
    "array = [1, 2, 3, 4, 5]\n",
    "rotation_amount = 2\n",
    "rotated_array = rotate_array(array, rotation_amount)\n",
    "print(\"Rotated array:\", rotated_array)\n"
   ]
  },
  {
   "cell_type": "code",
   "execution_count": 4,
   "id": "0757f332",
   "metadata": {},
   "outputs": [
    {
     "name": "stdout",
     "output_type": "stream",
     "text": [
      "Array after split and addition: [30, 40, 50, 10, 20]\n"
     ]
    }
   ],
   "source": [
    "#QUES->4. Write a Python Program to Split the array and add the first part to the end?\n",
    "\n",
    "\n",
    "#ANS->\n",
    "def split_and_add(arr, k):\n",
    "    n = len(arr)\n",
    "    k = k % n\n",
    "    split_array = arr[:k]\n",
    "    remaining_array = arr[k:]\n",
    "    new_array = remaining_array + split_array\n",
    "    return new_array\n",
    "\n",
    "# Example usage\n",
    "array = [10, 20, 30, 40, 50]\n",
    "split_amount = 2\n",
    "new_array = split_and_add(array, split_amount)\n",
    "print(\"Array after split and addition:\", new_array)\n"
   ]
  },
  {
   "cell_type": "code",
   "execution_count": 7,
   "id": "e6bfb07c",
   "metadata": {},
   "outputs": [
    {
     "name": "stdout",
     "output_type": "stream",
     "text": [
      "Is the array monotonic?\n",
      "ANS : True\n"
     ]
    }
   ],
   "source": [
    "#QUES->5. Write a Python Program to check if given array is Monotonic?\n",
    "\n",
    "#ANS->\n",
    "def is_monotonic(arr):\n",
    "    increasing = decreasing = True\n",
    "    \n",
    "    for i in range(1, len(arr)):\n",
    "        if arr[i] < arr[i - 1]:\n",
    "            increasing = False\n",
    "        if arr[i] > arr[i - 1]:\n",
    "            decreasing = False\n",
    "    \n",
    "    return increasing or decreasing\n",
    "\n",
    "# Example usage\n",
    "array = [1, 2, 2, 3]\n",
    "print(\"Is the array monotonic?\\nANS :\", is_monotonic(array))\n"
   ]
  },
  {
   "cell_type": "code",
   "execution_count": null,
   "id": "69165ace",
   "metadata": {},
   "outputs": [],
   "source": []
  }
 ],
 "metadata": {
  "kernelspec": {
   "display_name": "Python 3 (ipykernel)",
   "language": "python",
   "name": "python3"
  },
  "language_info": {
   "codemirror_mode": {
    "name": "ipython",
    "version": 3
   },
   "file_extension": ".py",
   "mimetype": "text/x-python",
   "name": "python",
   "nbconvert_exporter": "python",
   "pygments_lexer": "ipython3",
   "version": "3.10.9"
  }
 },
 "nbformat": 4,
 "nbformat_minor": 5
}
