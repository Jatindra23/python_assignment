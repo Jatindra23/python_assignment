{
 "cells": [
  {
   "cell_type": "markdown",
   "id": "6debd3e2",
   "metadata": {},
   "source": [
    "Q1. **Difference between `__getattr__` and `__getattribute__` in Python:**\n",
    "\n",
    "ANS->\n",
    "- `__getattr__`: This is a special method that is invoked when an attribute is not found via the usual attribute lookup. It's called only when the attribute is not present in the instance's dictionary or in its class hierarchy. It's often used to provide default behavior or dynamically compute attributes.\n",
    "- `__getattribute__`: This is another special method that's called for every attribute access, regardless of whether the attribute exists or not. It can be used to customize attribute access behavior globally for an object, but it must be used with caution to avoid infinite recursion.\n",
    "\n",
    "Q2. **Difference between Properties and Descriptors:**\n",
    "\n",
    "ANS->\n",
    "- **Properties:** Properties are a way to define getter, setter, and deleter methods for an attribute, but they are accessed like regular attributes. They allow you to encapsulate logic around attribute access and modification, providing controlled access to class attributes.\n",
    "- **Descriptors:** Descriptors are a more general mechanism that allows you to customize attribute access, modification, and deletion. They are created by defining classes with special methods (`__get__`, `__set__`, and/or `__delete__`) and then associating instances of these classes with class attributes. Descriptors offer greater flexibility and can be reused across different classes.\n",
    "\n",
    "Q3. **Differences in Functionality between `__getattr__`, `__getattribute__`, Properties, and Descriptors:**\n",
    "\n",
    "ANS->\n",
    "- `__getattr__` and `__getattribute__`:\n",
    "  - `__getattr__` is only invoked when an attribute is not found.\n",
    "  - `__getattribute__` is called for every attribute access and is used to customize the behavior of attribute access globally.\n",
    "- Properties:\n",
    "  - Properties allow you to encapsulate attribute access behavior and can be defined using decorators or methods.\n",
    "  - They provide a more concise and intuitive syntax for defining getter, setter, and deleter methods.\n",
    "- Descriptors:\n",
    "  - Descriptors offer full control over attribute access, modification, and deletion.\n",
    "  - They are defined as separate classes with special methods and can be used across multiple classes.\n",
    "  - They can be used to implement custom behaviors beyond simple attribute access.\n",
    "\n",
    "In summary, `__getattr__` and `__getattribute__` are methods for customizing attribute access on an instance level, while properties and descriptors are mechanisms for customizing attribute access and modification in a more controlled and reusable manner."
   ]
  },
  {
   "cell_type": "code",
   "execution_count": null,
   "id": "c44f9591",
   "metadata": {},
   "outputs": [],
   "source": []
  }
 ],
 "metadata": {
  "kernelspec": {
   "display_name": "Python 3 (ipykernel)",
   "language": "python",
   "name": "python3"
  },
  "language_info": {
   "codemirror_mode": {
    "name": "ipython",
    "version": 3
   },
   "file_extension": ".py",
   "mimetype": "text/x-python",
   "name": "python",
   "nbconvert_exporter": "python",
   "pygments_lexer": "ipython3",
   "version": "3.10.9"
  }
 },
 "nbformat": 4,
 "nbformat_minor": 5
}
