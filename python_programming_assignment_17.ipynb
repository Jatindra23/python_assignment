{
 "cells": [
  {
   "cell_type": "code",
   "execution_count": 1,
   "id": "138d1844",
   "metadata": {},
   "outputs": [
    {
     "name": "stdout",
     "output_type": "stream",
     "text": [
      "20\n",
      "13\n",
      "0\n"
     ]
    }
   ],
   "source": [
    "# Question1. Create a function that takes three arguments a, b, c and returns the sum of the\n",
    "# numbers that are evenly divided by c from the range a, b inclusive.\n",
    "\n",
    "def evenly_divisible(a, b, c):\n",
    "    total_sum = 0\n",
    "    \n",
    "    for num in range(a, b + 1):\n",
    "        if num % c == 0:\n",
    "            total_sum += num\n",
    "    \n",
    "    return total_sum\n",
    "\n",
    "# Test cases\n",
    "print(evenly_divisible(3, 20, 20))  \n",
    "print(evenly_divisible(1, 15, 13))   \n",
    "print(evenly_divisible(1, 10, 23))   \n"
   ]
  },
  {
   "cell_type": "code",
   "execution_count": 5,
   "id": "08cbc312",
   "metadata": {},
   "outputs": [
    {
     "name": "stdout",
     "output_type": "stream",
     "text": [
      "False\n",
      "True\n",
      "False\n"
     ]
    }
   ],
   "source": [
    "# Question2. Create a function that returns True if a given inequality expression is correct and\n",
    "# False otherwise.\n",
    "\n",
    "def correct_signs(expression):\n",
    "    try:\n",
    "        return eval(expression)\n",
    "    except:\n",
    "        return False\n",
    "\n",
    "# Test cases\n",
    "print(correct_signs(\"3 < 7 < 6\"))     \n",
    "print(correct_signs(\"35 > 34 > 33 > 1\")) \n",
    "print(correct_signs(\"1 < 22 < 6 < 7 > 3\")) \n"
   ]
  },
  {
   "cell_type": "code",
   "execution_count": 8,
   "id": "1db79e20",
   "metadata": {},
   "outputs": [
    {
     "name": "stdout",
     "output_type": "stream",
     "text": [
      "th# ##rdv#rk\n",
      "m?nn?? m??s?\n",
      "sh*k*sp**r*\n"
     ]
    }
   ],
   "source": [
    "# Question3. Create a function that replaces all the vowels in a string with a specified character.\n",
    "\n",
    "def replace_vowels(input_string, replacement_char):\n",
    "    vowels = \"aeiouAEIOU\"\n",
    "    replaced_string = \"\"\n",
    "    \n",
    "    for char in input_string:\n",
    "        if char in vowels:\n",
    "            replaced_string += replacement_char\n",
    "        else:\n",
    "            replaced_string += char\n",
    "    \n",
    "    return replaced_string\n",
    "\n",
    "# Test cases\n",
    "print(replace_vowels(\"the aardvark\", \"#\"))   \n",
    "print(replace_vowels(\"minnie mouse\", \"?\"))   \n",
    "print(replace_vowels(\"shakespeare\", \"*\"))    \n"
   ]
  },
  {
   "cell_type": "code",
   "execution_count": 11,
   "id": "0bf700b9",
   "metadata": {},
   "outputs": [
    {
     "name": "stdout",
     "output_type": "stream",
     "text": [
      "120\n",
      "3628800\n",
      "6227020800\n",
      "5040\n"
     ]
    }
   ],
   "source": [
    "# Question4. Write a function that calculates the factorial of a number recursively.\n",
    "\n",
    "def factorial(n):\n",
    "    if n == 0 or n == 1:\n",
    "        return 1\n",
    "    else:\n",
    "        return n * factorial(n - 1)\n",
    "\n",
    "# Test cases\n",
    "print(factorial(5))  \n",
    "print(factorial(10))  \n",
    "print(factorial(13))  \n",
    "print(factorial(7))  \n"
   ]
  },
  {
   "cell_type": "code",
   "execution_count": 10,
   "id": "38e1ac0b",
   "metadata": {},
   "outputs": [
    {
     "name": "stdout",
     "output_type": "stream",
     "text": [
      "5\n",
      "0\n",
      "1\n"
     ]
    }
   ],
   "source": [
    "# Question 5\n",
    "# Hamming distance is the number of characters that differ between two strings.\n",
    "\n",
    "def hamming_distance(str1, str2):\n",
    "    if len(str1) != len(str2):\n",
    "        raise ValueError(\"Input strings must have equal length\")\n",
    "    \n",
    "    distance = sum(c1 != c2 for c1, c2 in zip(str1, str2))\n",
    "    return distance\n",
    "\n",
    "# Test cases\n",
    "print(hamming_distance(\"abcde\", \"bcdef\"))   \n",
    "print(hamming_distance(\"abcde\", \"abcde\")) \n",
    "print(hamming_distance(\"strong\", \"strung\")) \n"
   ]
  },
  {
   "cell_type": "code",
   "execution_count": null,
   "id": "2162dce3",
   "metadata": {},
   "outputs": [],
   "source": []
  }
 ],
 "metadata": {
  "kernelspec": {
   "display_name": "Python 3 (ipykernel)",
   "language": "python",
   "name": "python3"
  },
  "language_info": {
   "codemirror_mode": {
    "name": "ipython",
    "version": 3
   },
   "file_extension": ".py",
   "mimetype": "text/x-python",
   "name": "python",
   "nbconvert_exporter": "python",
   "pygments_lexer": "ipython3",
   "version": "3.10.9"
  }
 },
 "nbformat": 4,
 "nbformat_minor": 5
}
