{
 "cells": [
  {
   "cell_type": "code",
   "execution_count": 6,
   "id": "c772760e",
   "metadata": {},
   "outputs": [
    {
     "name": "stdout",
     "output_type": "stream",
     "text": [
      "89 is a Disarium Number.\n"
     ]
    }
   ],
   "source": [
    "###1. Write a Python program to check if the given number is a Disarium Number?\n",
    "\n",
    "###ANS:\n",
    "def is_disarium_number(num):\n",
    "    num_str = str(num)\n",
    "    total = sum(int(digit) ** (index + 1) for index, digit in enumerate(num_str))\n",
    "    return total == num\n",
    "\n",
    "# Example usage\n",
    "number = 89\n",
    "if is_disarium_number(number):\n",
    "    print(f\"{number} is a Disarium Number.\")\n",
    "else:\n",
    "    print(f\"{number} is not a Disarium Number.\")\n"
   ]
  },
  {
   "cell_type": "code",
   "execution_count": 7,
   "id": "12bea621",
   "metadata": {},
   "outputs": [
    {
     "name": "stdout",
     "output_type": "stream",
     "text": [
      "Disarium numbers between 1 and 100: [1, 2, 3, 4, 5, 6, 7, 8, 9, 89]\n"
     ]
    }
   ],
   "source": [
    "###2. Write a Python program to print all disarium numbers between 1 to 100?\n",
    "\n",
    "###ANS:\n",
    "def get_disarium_numbers(start, end):\n",
    "    disarium_numbers = []\n",
    "    for num in range(start, end + 1):\n",
    "        if is_disarium_number(num):\n",
    "            disarium_numbers.append(num)\n",
    "    return disarium_numbers\n",
    "\n",
    "# Example usage\n",
    "disarium_numbers = get_disarium_numbers(1, 100)\n",
    "print(\"Disarium numbers between 1 and 100:\", disarium_numbers)\n"
   ]
  },
  {
   "cell_type": "code",
   "execution_count": 8,
   "id": "27f31ee1",
   "metadata": {},
   "outputs": [
    {
     "name": "stdout",
     "output_type": "stream",
     "text": [
      "19 is a Happy Number.\n"
     ]
    }
   ],
   "source": [
    "###3. Write a Python program to check if the given number is Happy Number?\n",
    "\n",
    "###ANS:\n",
    "def is_happy_number(num):\n",
    "    seen = set()\n",
    "    while num != 1 and num not in seen:\n",
    "        seen.add(num)\n",
    "        num = sum(int(digit) ** 2 for digit in str(num))\n",
    "    return num == 1\n",
    "\n",
    "# Example usage\n",
    "number = 19\n",
    "if is_happy_number(number):\n",
    "    print(f\"{number} is a Happy Number.\")\n",
    "else:\n",
    "    print(f\"{number} is not a Happy Number.\")\n"
   ]
  },
  {
   "cell_type": "code",
   "execution_count": 9,
   "id": "99c0644c",
   "metadata": {},
   "outputs": [
    {
     "name": "stdout",
     "output_type": "stream",
     "text": [
      "Happy numbers between 1 and 100: [1, 7, 10, 13, 19, 23, 28, 31, 32, 44, 49, 68, 70, 79, 82, 86, 91, 94, 97, 100]\n"
     ]
    }
   ],
   "source": [
    "###4. Write a Python program to print all happy numbers between 1 and 100?\n",
    "\n",
    "###ANS:\n",
    "def get_happy_numbers(start, end):\n",
    "    happy_numbers = []\n",
    "    for num in range(start, end + 1):\n",
    "        if is_happy_number(num):\n",
    "            happy_numbers.append(num)\n",
    "    return happy_numbers\n",
    "\n",
    "# Example usage\n",
    "happy_numbers = get_happy_numbers(1, 100)\n",
    "print(\"Happy numbers between 1 and 100:\", happy_numbers)\n"
   ]
  },
  {
   "cell_type": "code",
   "execution_count": 10,
   "id": "af62e168",
   "metadata": {},
   "outputs": [
    {
     "name": "stdout",
     "output_type": "stream",
     "text": [
      "18 is a Harshad Number.\n"
     ]
    }
   ],
   "source": [
    "###5. Write a Python program to determine whether the given number is a Harshad Number?\n",
    "\n",
    "###ANS:\n",
    "def is_harshad_number(num):\n",
    "    digit_sum = sum(int(digit) for digit in str(num))\n",
    "    return num % digit_sum == 0\n",
    "\n",
    "# Example usage\n",
    "number = 18\n",
    "if is_harshad_number(number):\n",
    "    print(f\"{number} is a Harshad Number.\")\n",
    "else:\n",
    "    print(f\"{number} is not a Harshad Number.\")\n"
   ]
  },
  {
   "cell_type": "code",
   "execution_count": 11,
   "id": "bd970e57",
   "metadata": {},
   "outputs": [
    {
     "name": "stdout",
     "output_type": "stream",
     "text": [
      "Pronic numbers between 1 and 100: [2, 6, 12, 20, 30, 42, 56, 72, 90]\n"
     ]
    }
   ],
   "source": [
    "###6. Write a Python program to print all pronic numbers between 1 and 100?\n",
    "\n",
    "###ANS:\n",
    "def get_pronic_numbers(start, end):\n",
    "    pronic_numbers = []\n",
    "    for num in range(start, end + 1):\n",
    "        sqrt = int(num ** 0.5)\n",
    "        if num == sqrt * (sqrt + 1):\n",
    "            pronic_numbers.append(num)\n",
    "    return pronic_numbers\n",
    "\n",
    "# Example usage\n",
    "pronic_numbers = get_pronic_numbers(1, 100)\n",
    "print(\"Pronic numbers between 1 and 100:\", pronic_numbers)\n"
   ]
  },
  {
   "cell_type": "code",
   "execution_count": null,
   "id": "0d3349d9",
   "metadata": {},
   "outputs": [],
   "source": []
  }
 ],
 "metadata": {
  "kernelspec": {
   "display_name": "Python 3 (ipykernel)",
   "language": "python",
   "name": "python3"
  },
  "language_info": {
   "codemirror_mode": {
    "name": "ipython",
    "version": 3
   },
   "file_extension": ".py",
   "mimetype": "text/x-python",
   "name": "python",
   "nbconvert_exporter": "python",
   "pygments_lexer": "ipython3",
   "version": "3.10.9"
  }
 },
 "nbformat": 4,
 "nbformat_minor": 5
}
