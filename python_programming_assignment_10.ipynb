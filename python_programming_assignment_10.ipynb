{
 "cells": [
  {
   "cell_type": "code",
   "execution_count": 11,
   "id": "2c4781cf",
   "metadata": {},
   "outputs": [
    {
     "name": "stdout",
     "output_type": "stream",
     "text": [
      "Sum of elements: 15\n"
     ]
    }
   ],
   "source": [
    "#1. Write a Python program to find sum of elements in list?\n",
    "\n",
    "#ANS:\n",
    "def sum_of_elements(lst):\n",
    "    total = sum(lst)\n",
    "    return total\n",
    "\n",
    "# Example usage\n",
    "numbers = [1, 2, 3, 4, 5]\n",
    "print(\"Sum of elements:\", sum_of_elements(numbers))\n"
   ]
  },
  {
   "cell_type": "code",
   "execution_count": 12,
   "id": "0b2d7834",
   "metadata": {},
   "outputs": [
    {
     "name": "stdout",
     "output_type": "stream",
     "text": [
      "Product of elements: 24\n"
     ]
    }
   ],
   "source": [
    "#2. Write a Python program to Multiply all numbers in the list?\n",
    "\n",
    "#ANS:\n",
    "def multiply_elements(lst):\n",
    "    result = 1\n",
    "    for num in lst:\n",
    "        result *= num\n",
    "    return result\n",
    "\n",
    "# Example usage\n",
    "numbers = [2, 3, 4]\n",
    "print(\"Product of elements:\", multiply_elements(numbers))\n"
   ]
  },
  {
   "cell_type": "code",
   "execution_count": 13,
   "id": "81507fc4",
   "metadata": {},
   "outputs": [
    {
     "name": "stdout",
     "output_type": "stream",
     "text": [
      "Smallest number: 1\n"
     ]
    }
   ],
   "source": [
    "# 3. Write a Python program to find smallest number in a list?\n",
    "\n",
    "#ANS:\n",
    "def find_smallest(lst):\n",
    "    smallest = min(lst)\n",
    "    return smallest\n",
    "\n",
    "# Example usage\n",
    "numbers = [5, 2, 9, 1, 7]\n",
    "print(\"Smallest number:\", find_smallest(numbers))\n"
   ]
  },
  {
   "cell_type": "code",
   "execution_count": 14,
   "id": "0f76f031",
   "metadata": {},
   "outputs": [
    {
     "name": "stdout",
     "output_type": "stream",
     "text": [
      "Largest number: 9\n"
     ]
    }
   ],
   "source": [
    "# 4. Write a Python program to find largest number in a list?\n",
    "\n",
    "#ANS:\n",
    "def find_largest(lst):\n",
    "    largest = max(lst)\n",
    "    return largest\n",
    "\n",
    "# Example usage\n",
    "numbers = [5, 2, 9, 1, 7]\n",
    "print(\"Largest number:\", find_largest(numbers))\n"
   ]
  },
  {
   "cell_type": "code",
   "execution_count": 15,
   "id": "d98143c9",
   "metadata": {},
   "outputs": [
    {
     "name": "stdout",
     "output_type": "stream",
     "text": [
      "Second largest number: 7\n"
     ]
    }
   ],
   "source": [
    "# 5. Write a Python program to find second largest number in a list?\n",
    "\n",
    "#ANS:\n",
    "def find_second_largest(lst):\n",
    "    sorted_lst = sorted(lst, reverse=True)\n",
    "    return sorted_lst[1]\n",
    "\n",
    "# Example usage\n",
    "numbers = [5, 2, 9, 1, 7]\n",
    "print(\"Second largest number:\", find_second_largest(numbers))\n"
   ]
  },
  {
   "cell_type": "code",
   "execution_count": 16,
   "id": "3a30729b",
   "metadata": {},
   "outputs": [
    {
     "name": "stdout",
     "output_type": "stream",
     "text": [
      "3 largest elements: [9, 8, 7]\n"
     ]
    }
   ],
   "source": [
    "# 6. Write a Python program to find N largest elements from a list?\n",
    "\n",
    "#ANS:\n",
    "def find_n_largest(lst, n):\n",
    "    sorted_lst = sorted(lst, reverse=True)\n",
    "    return sorted_lst[:n]\n",
    "\n",
    "# Example usage\n",
    "numbers = [5, 2, 9, 1, 7, 3, 8]\n",
    "n = 3\n",
    "print(f\"{n} largest elements:\", find_n_largest(numbers, n))\n"
   ]
  },
  {
   "cell_type": "code",
   "execution_count": 17,
   "id": "a60b8264",
   "metadata": {},
   "outputs": [
    {
     "name": "stdout",
     "output_type": "stream",
     "text": [
      "Even numbers: [2, 4, 6]\n"
     ]
    }
   ],
   "source": [
    "# 7. Write a Python program to print even numbers in a list?\n",
    "\n",
    "#ANS:\n",
    "def even_numbers(lst):\n",
    "    even_nums = [num for num in lst if num % 2 == 0]\n",
    "    return even_nums\n",
    "\n",
    "# Example usage\n",
    "numbers = [1, 2, 3, 4, 5, 6]\n",
    "print(\"Even numbers:\", even_numbers(numbers))\n"
   ]
  },
  {
   "cell_type": "code",
   "execution_count": 18,
   "id": "f19c6745",
   "metadata": {},
   "outputs": [
    {
     "name": "stdout",
     "output_type": "stream",
     "text": [
      "Odd numbers: [1, 3, 5]\n"
     ]
    }
   ],
   "source": [
    "# 8. Write a Python program to print odd numbers in a List?\n",
    "\n",
    "#ANS:\n",
    "def odd_numbers(lst):\n",
    "    odd_nums = [num for num in lst if num % 2 != 0]\n",
    "    return odd_nums\n",
    "\n",
    "# Example usage\n",
    "numbers = [1, 2, 3, 4, 5, 6]\n",
    "print(\"Odd numbers:\", odd_numbers(numbers))\n"
   ]
  },
  {
   "cell_type": "code",
   "execution_count": 19,
   "id": "9d003ee6",
   "metadata": {},
   "outputs": [
    {
     "name": "stdout",
     "output_type": "stream",
     "text": [
      "List without empty sublists: [[1, 2], [3, 4], [5, 6]]\n"
     ]
    }
   ],
   "source": [
    "# 9. Write a Python program to Remove empty List from List?\n",
    "\n",
    "#ANS:\n",
    "def remove_empty_lists(lst):\n",
    "    non_empty = [sublist for sublist in lst if sublist]\n",
    "    return non_empty\n",
    "\n",
    "# Example usage\n",
    "my_list = [[1, 2], [], [3, 4], [], [5, 6], []]\n",
    "print(\"List without empty sublists:\", remove_empty_lists(my_list))\n"
   ]
  },
  {
   "cell_type": "code",
   "execution_count": 20,
   "id": "e90522d6",
   "metadata": {},
   "outputs": [
    {
     "name": "stdout",
     "output_type": "stream",
     "text": [
      "Copied list: [1, 2, 3]\n"
     ]
    }
   ],
   "source": [
    "# 10. Write a Python program to Cloning or Copying a list?\n",
    "\n",
    "#ANS:\n",
    "def clone_list(lst):\n",
    "    cloned = lst.copy()\n",
    "    return cloned\n",
    "\n",
    "# Example usage\n",
    "original_list = [1, 2, 3]\n",
    "copied_list = clone_list(original_list)\n",
    "print(\"Copied list:\", copied_list)\n"
   ]
  },
  {
   "cell_type": "code",
   "execution_count": 21,
   "id": "2315e034",
   "metadata": {},
   "outputs": [
    {
     "name": "stdout",
     "output_type": "stream",
     "text": [
      "Number of occurrences of 2: 4\n"
     ]
    }
   ],
   "source": [
    "# 11. Write a Python program to Count occurrences of an element in a list?\n",
    "\n",
    "#ANS:\n",
    "def count_occurrences(lst, element):\n",
    "    count = lst.count(element)\n",
    "    return count\n",
    "\n",
    "# Example usage\n",
    "numbers = [1, 2, 2, 3, 2, 4, 2]\n",
    "element = 2\n",
    "print(f\"Number of occurrences of {element}:\", count_occurrences(numbers, element))\n"
   ]
  }
 ],
 "metadata": {
  "kernelspec": {
   "display_name": "Python 3 (ipykernel)",
   "language": "python",
   "name": "python3"
  },
  "language_info": {
   "codemirror_mode": {
    "name": "ipython",
    "version": 3
   },
   "file_extension": ".py",
   "mimetype": "text/x-python",
   "name": "python",
   "nbconvert_exporter": "python",
   "pygments_lexer": "ipython3",
   "version": "3.10.9"
  }
 },
 "nbformat": 4,
 "nbformat_minor": 5
}
