{
 "cells": [
  {
   "cell_type": "markdown",
   "id": "e0d7698f",
   "metadata": {},
   "source": [
    "Q1. **Applications for Exception Processing:**\n",
    "\n",
    "ANS->\n",
    "Exception processing is a critical part of handling unexpected situations in a program. Three applications for exception processing are:\n",
    "- **Input Validation:** Catching exceptions during user input validation to handle cases where the user provides incorrect or unexpected data.\n",
    "- **File Operations:** Handling exceptions when working with files, like opening, reading, or writing. This is important to prevent crashes due to missing or inaccessible files.\n",
    "- **Network Operations:** Exception handling is crucial when dealing with network connections, such as catching connection errors or timeouts.\n",
    "\n",
    "Q2. **Handling an Exception Without Extra Treatment:**\n",
    "\n",
    "ANS->\n",
    "If you don't provide specific exception handling code (such as a `try` and `except` block), the unhandled exception will propagate up the call stack until it reaches the top-level of the script. If it's not caught there either, the script will terminate, and a traceback will be displayed showing where the exception occurred.\n",
    "\n",
    "Q3. **Options for Recovering from an Exception:**\n",
    "\n",
    "ANS->\n",
    "When an exception occurs, you have several options for recovery:\n",
    "- **Ignore the Exception:** If the exception isn't critical, you might choose to ignore it and continue with the script execution.\n",
    "- **Retry Logic:** You can use loops to retry a failed operation a certain number of times before raising an error.\n",
    "- **Graceful Termination:** You can catch the exception, perform any cleanup tasks, and then exit the script gracefully.\n",
    "- **Fallback Values:** Provide default values or alternative paths when an exception occurs, allowing the script to continue executing.\n",
    "\n",
    "Q4. **Methods for Triggering Exceptions:**\n",
    "\n",
    "ANS->\n",
    "- **Using the `raise` Statement:** You can use the `raise` statement to manually raise exceptions at specific points in your code. For example: `raise ValueError(\"Invalid value entered\")`\n",
    "- **Invoking Built-in Functions:** Certain built-in functions can raise exceptions. For instance, `int(\"not_an_integer\")` raises a `ValueError` due to the conversion error.\n",
    "\n",
    "Q5. **Methods for Specifying Actions at Termination:**\n",
    "\n",
    "ANS->\n",
    "- **Using `try` and `finally`:** The `finally` block is used to define code that will be executed regardless of whether an exception was raised or not. It's often used for cleanup operations, like closing files or releasing resources.\n",
    "- **Using the `atexit` Module:** The `atexit` module provides a way to register functions that will be called when the script is about to terminate, whether normally or due to an unhandled exception. This is particularly useful for tasks like closing connections or saving state before the script exits."
   ]
  },
  {
   "cell_type": "code",
   "execution_count": null,
   "id": "9abb3bbe",
   "metadata": {},
   "outputs": [],
   "source": []
  }
 ],
 "metadata": {
  "kernelspec": {
   "display_name": "Python 3 (ipykernel)",
   "language": "python",
   "name": "python3"
  },
  "language_info": {
   "codemirror_mode": {
    "name": "ipython",
    "version": 3
   },
   "file_extension": ".py",
   "mimetype": "text/x-python",
   "name": "python",
   "nbconvert_exporter": "python",
   "pygments_lexer": "ipython3",
   "version": "3.10.9"
  }
 },
 "nbformat": 4,
 "nbformat_minor": 5
}
