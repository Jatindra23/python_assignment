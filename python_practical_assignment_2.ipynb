{
 "cells": [
  {
   "cell_type": "code",
   "execution_count": 5,
   "id": "b2d316d0",
   "metadata": {},
   "outputs": [
    {
     "name": "stdout",
     "output_type": "stream",
     "text": [
      "Enter the distance in kilometers: 20\n",
      "20.0 kilometers is equal to 12.42742 miles.\n"
     ]
    }
   ],
   "source": [
    "#QUES->1. Write a Python program to convert kilometers to miles?\n",
    "\n",
    "#ANS->\n",
    "\n",
    "def km_to_miles(kilometers):\n",
    "    miles = kilometers * 0.621371\n",
    "    return miles\n",
    "\n",
    "kilometers = float(input(\"Enter the distance in kilometers: \"))\n",
    "converted_miles = km_to_miles(kilometers)\n",
    "print(f\"{kilometers} kilometers is equal to {converted_miles} miles.\")\n"
   ]
  },
  {
   "cell_type": "code",
   "execution_count": 6,
   "id": "7c7224de",
   "metadata": {},
   "outputs": [
    {
     "name": "stdout",
     "output_type": "stream",
     "text": [
      "Enter the temperature in Celsius: 55\n",
      "55.0 degrees Celsius is equal to 131.0 degrees Fahrenheit.\n"
     ]
    }
   ],
   "source": [
    "#QUES->2. Write a Python program to convert Celsius to Fahrenheit?\n",
    "\n",
    "#ANS->\n",
    "\n",
    "def celsius_to_fahrenheit(celsius):\n",
    "    fahrenheit = (celsius * 9/5) + 32\n",
    "    return fahrenheit\n",
    "\n",
    "celsius = float(input(\"Enter the temperature in Celsius: \"))\n",
    "converted_fahrenheit = celsius_to_fahrenheit(celsius)\n",
    "print(f\"{celsius} degrees Celsius is equal to {converted_fahrenheit} degrees Fahrenheit.\")\n"
   ]
  },
  {
   "cell_type": "code",
   "execution_count": 7,
   "id": "4b74f26d",
   "metadata": {},
   "outputs": [
    {
     "name": "stdout",
     "output_type": "stream",
     "text": [
      "Enter the year: 2050\n",
      "Enter the month: 8\n",
      "    August 2050\n",
      "Mo Tu We Th Fr Sa Su\n",
      " 1  2  3  4  5  6  7\n",
      " 8  9 10 11 12 13 14\n",
      "15 16 17 18 19 20 21\n",
      "22 23 24 25 26 27 28\n",
      "29 30 31\n",
      "\n"
     ]
    }
   ],
   "source": [
    "#QUES->3. Write a Python program to display calendar?\n",
    "\n",
    "#ANS->\n",
    "\n",
    "import calendar\n",
    "\n",
    "year = int(input(\"Enter the year: \"))\n",
    "month = int(input(\"Enter the month: \"))\n",
    "\n",
    "print(calendar.month(year, month))\n"
   ]
  },
  {
   "cell_type": "code",
   "execution_count": 8,
   "id": "42df4f7e",
   "metadata": {},
   "outputs": [
    {
     "name": "stdout",
     "output_type": "stream",
     "text": [
      "Enter the coefficient of x^2: 4\n",
      "Enter the coefficient of x: 4\n",
      "Enter the constant term: 5\n",
      "The solutions are: (-0.5-1j) and (-0.5+1j)\n"
     ]
    }
   ],
   "source": [
    "#QUES->4. Write a Python program to solve quadratic equation?\n",
    "\n",
    "#ANS->\n",
    "\n",
    "import cmath\n",
    "\n",
    "def solve_quadratic(a, b, c):\n",
    "    # Calculate the discriminant\n",
    "    discriminant = (b**2) - (4*a*c)\n",
    "\n",
    "    # Find two solutions\n",
    "    solution1 = (-b - cmath.sqrt(discriminant)) / (2*a)\n",
    "    solution2 = (-b + cmath.sqrt(discriminant)) / (2*a)\n",
    "\n",
    "    return solution1, solution2\n",
    "\n",
    "a = float(input(\"Enter the coefficient of x^2: \"))\n",
    "b = float(input(\"Enter the coefficient of x: \"))\n",
    "c = float(input(\"Enter the constant term: \"))\n",
    "\n",
    "solutions = solve_quadratic(a, b, c)\n",
    "print(f\"The solutions are: {solutions[0]} and {solutions[1]}\")\n"
   ]
  },
  {
   "cell_type": "code",
   "execution_count": 9,
   "id": "4d05194f",
   "metadata": {},
   "outputs": [
    {
     "name": "stdout",
     "output_type": "stream",
     "text": [
      "Enter the value of x: 2\n",
      "Enter the value of y: 4\n",
      "After swapping, x = 4 and y = 2\n"
     ]
    }
   ],
   "source": [
    "#QUES->5. Write a Python program to swap two variables without temp variable?\n",
    "\n",
    "#ANS->\n",
    "def swap_variables(a, b):\n",
    "    a, b = b, a\n",
    "    return a, b\n",
    "\n",
    "x = int(input(\"Enter the value of x: \"))\n",
    "y = int(input(\"Enter the value of y: \"))\n",
    "\n",
    "x, y = swap_variables(x, y)\n",
    "print(f\"After swapping, x = {x} and y = {y}\")\n"
   ]
  },
  {
   "cell_type": "code",
   "execution_count": null,
   "id": "df539716",
   "metadata": {},
   "outputs": [],
   "source": []
  }
 ],
 "metadata": {
  "kernelspec": {
   "display_name": "Python 3 (ipykernel)",
   "language": "python",
   "name": "python3"
  },
  "language_info": {
   "codemirror_mode": {
    "name": "ipython",
    "version": 3
   },
   "file_extension": ".py",
   "mimetype": "text/x-python",
   "name": "python",
   "nbconvert_exporter": "python",
   "pygments_lexer": "ipython3",
   "version": "3.10.9"
  }
 },
 "nbformat": 4,
 "nbformat_minor": 5
}
