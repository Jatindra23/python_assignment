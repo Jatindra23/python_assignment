{
 "cells": [
  {
   "cell_type": "markdown",
   "id": "7488cfd1",
   "metadata": {},
   "source": [
    "Q1. **Purpose of the `try` Statement:**\n",
    "\n",
    "ANS->\n",
    "The `try` statement in Python is used for exception handling. It allows you to specify a block of code that might raise exceptions. If an exception occurs within the `try` block, the program's flow is transferred to the corresponding `except` block, where you can handle the exception or perform specific actions.\n",
    "\n",
    "Q2. **Two Most Popular `try` Statement Variations:**\n",
    "\n",
    "ANS->\n",
    "The two most popular variations of the `try` statement are:\n",
    "- **`except` Clause:** This variation catches specific exceptions that occur within the `try` block. For example:\n",
    "  ```python\n",
    "  try:\n",
    "      # code that might raise an exception\n",
    "  except SomeException:\n",
    "      # code to handle SomeException\n",
    "  ```\n",
    "- **`finally` Clause:** This variation is used to define code that will be executed regardless of whether an exception was raised or not. It's often used for cleanup tasks, like closing files or releasing resources. For example:\n",
    "  ```python\n",
    "  try:\n",
    "      # code that might raise an exception\n",
    "  finally:\n",
    "      # cleanup code that will run no matter what\n",
    "  ```\n",
    "\n",
    "Q3. **Purpose of the `raise` Statement:**\n",
    "\n",
    "ANS->\n",
    "The `raise` statement is used to manually raise exceptions in Python. You can use it to create custom exceptions or to re-raise exceptions caught in a `try` block. It allows you to control the flow of your program when exceptional conditions are encountered.\n",
    "\n",
    "Q4. **Purpose of the `assert` Statement:**\n",
    "\n",
    "ANS->\n",
    "The `assert` statement is used for debugging and testing. It checks whether a given condition is `True`. If the condition is `False`, it raises an `AssertionError` exception, allowing you to identify issues in your code during development. It's similar to writing custom error checks, but it's more concise and can be enabled/disabled globally.\n",
    "\n",
    "Q5. **Purpose of the `with/as` Statement:**\n",
    "\n",
    "ANs->\n",
    "The `with/as` statement is used in context managers, a way to manage resources (such as files or network connections) efficiently and automatically. It ensures that resources are properly acquired and released, even if exceptions are raised. The `with` statement creates a context for the resource to be managed, and the `as` clause assigns the resource to a variable for use within the context. The `with` statement is similar to using `try` and `finally` for resource management, but it's more concise and readable."
   ]
  },
  {
   "cell_type": "code",
   "execution_count": null,
   "id": "b1eb5294",
   "metadata": {},
   "outputs": [],
   "source": []
  }
 ],
 "metadata": {
  "kernelspec": {
   "display_name": "Python 3 (ipykernel)",
   "language": "python",
   "name": "python3"
  },
  "language_info": {
   "codemirror_mode": {
    "name": "ipython",
    "version": 3
   },
   "file_extension": ".py",
   "mimetype": "text/x-python",
   "name": "python",
   "nbconvert_exporter": "python",
   "pygments_lexer": "ipython3",
   "version": "3.10.9"
  }
 },
 "nbformat": 4,
 "nbformat_minor": 5
}
