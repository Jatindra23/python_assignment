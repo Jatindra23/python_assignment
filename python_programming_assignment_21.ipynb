{
 "cells": [
  {
   "cell_type": "code",
   "execution_count": 2,
   "id": "6f4a2316",
   "metadata": {},
   "outputs": [
    {
     "name": "stdout",
     "output_type": "stream",
     "text": [
      "[26, 17, 2, 9, 4]\n",
      "[1, 3, 3, 1, 2]\n",
      "[0, 20, 54, 7]\n",
      "No list has been selected\n"
     ]
    }
   ],
   "source": [
    "# Question1\n",
    "# Write a function that takes a list and a number as arguments. Add the number to the end of\n",
    "# the list, then remove the first element of the list. The function should then return the updated list.\n",
    "\n",
    "\n",
    "def next_in_line(lst, number):\n",
    "    if not lst:\n",
    "        return \"No list has been selected\"\n",
    "    lst.pop(0)\n",
    "    lst.append(number)\n",
    "    return lst\n",
    "\n",
    "\n",
    "print(next_in_line([33, 26, 17, 2, 9], 4))      \n",
    "print(next_in_line([99, 1, 3, 3, 1], 2)) \n",
    "print(next_in_line([4, 0, 20, 54], 7))     \n",
    "print(next_in_line([], 9))                 \n"
   ]
  },
  {
   "cell_type": "code",
   "execution_count": 3,
   "id": "d99c542f",
   "metadata": {},
   "outputs": [
    {
     "name": "stdout",
     "output_type": "stream",
     "text": [
      "146700\n",
      "247400\n"
     ]
    }
   ],
   "source": [
    "# Question2\n",
    "# Create the function that takes a list of dictionaries and returns the sum of people's budgets.\n",
    "\n",
    "def get_budgets(people):\n",
    "    total_budget = sum(person[\"budget\"] for person in people)\n",
    "    return total_budget\n",
    "\n",
    "people1 = [\n",
    "    {\"name\": \"joginder\", \"age\": 23, \"budget\": 73000},\n",
    "    {\"name\": \"harvey\", \"age\": 42, \"budget\": 50000},\n",
    "    {\"name\": \"angelina\", \"age\": 56, \"budget\": 23700}\n",
    "]\n",
    "print(get_budgets(people1)) \n",
    "\n",
    "people2 = [\n",
    "    {\"name\": \"mike\", \"age\": 26, \"budget\": 34000},\n",
    "    {\"name\": \"jessica\", \"age\": 47, \"budget\": 210000},\n",
    "    {\"name\": \"louis\", \"age\": 45, \"budget\": 3400}\n",
    "]\n",
    "print(get_budgets(people2)) \n"
   ]
  },
  {
   "cell_type": "code",
   "execution_count": 4,
   "id": "2b9c0ae3",
   "metadata": {},
   "outputs": [
    {
     "name": "stdout",
     "output_type": "stream",
     "text": [
      " dgghinoot\n",
      "hiilnst\n",
      " Daaceiinssttt\n",
      "blow\n",
      "++C\n"
     ]
    }
   ],
   "source": [
    "# Question3\n",
    "# Create a function that takes a string and returns a string with its letters in alphabetical order.\n",
    "\n",
    "def alphabet_soup(s):\n",
    "    sorted_string = ''.join(sorted(s))\n",
    "    return sorted_string\n",
    "\n",
    "print(alphabet_soup(\"good night\"))       \n",
    "print(alphabet_soup(\"nilhist\"))      \n",
    "print(alphabet_soup(\"Data scientist\"))      \n",
    "print(alphabet_soup(\"bowl\"))        \n",
    "print(alphabet_soup(\"C++\"))\n"
   ]
  },
  {
   "cell_type": "code",
   "execution_count": 5,
   "id": "4764e4f0",
   "metadata": {},
   "outputs": [
    {
     "name": "stdout",
     "output_type": "stream",
     "text": [
      "38066473.22\n",
      "257.4\n",
      "28598.63\n",
      "3408998.72\n"
     ]
    }
   ],
   "source": [
    "# Question4\n",
    "# Suppose that you invest $10,000 for 10 years at an interest rate of 6% compounded monthly.\n",
    "# What will be the value of your investment at the end of the 10 year period?\n",
    "# Create a function that accepts the principal p, the term in years t, the interest rate r, and the\n",
    "# number of compounding periods per year n. The function returns the value at the end of term\n",
    "# rounded to the nearest cent.\n",
    "\n",
    "\n",
    "def compound_interest(p, t, r, n):\n",
    "    a = p * (1 + r/n)**(n*t)\n",
    "    return round(a, 2)\n",
    "\n",
    "print(compound_interest(24000, 10, 0.76, 12)) \n",
    "print(compound_interest(234, 1, 0.1, 1)) \n",
    "print(compound_interest(6500, 15, 0.1, 4)) \n",
    "print(compound_interest(23009, 20, 0.25, 365))\n"
   ]
  },
  {
   "cell_type": "code",
   "execution_count": 7,
   "id": "b89356dd",
   "metadata": {},
   "outputs": [
    {
     "name": "stdout",
     "output_type": "stream",
     "text": [
      "[6, 0, 44]\n",
      "[90, 456]\n",
      "[77, 56, 34, 12]\n",
      "[False, 45]\n"
     ]
    }
   ],
   "source": [
    "# Question5\n",
    "# Write a function that takes a list of elements and returns only the integers.\n",
    "\n",
    "def return_only_integer(lst):\n",
    "    integer_list = [x for x in lst if isinstance(x, int)]\n",
    "    return integer_list\n",
    "\n",
    "print(return_only_integer([6, 0, \"puppy\", \"laborgini\", \"peacock\", 44])) \n",
    "print(return_only_integer([\"hello\", 90, \"football\", 456, \"owl\"]))  \n",
    "print(return_only_integer([77, \"23\", 56, 34, \"bat\", 12, \"cheetah\"])) \n",
    "print(return_only_integer([\"List\", False, 2.6, 45]))  \n"
   ]
  }
 ],
 "metadata": {
  "kernelspec": {
   "display_name": "Python 3 (ipykernel)",
   "language": "python",
   "name": "python3"
  },
  "language_info": {
   "codemirror_mode": {
    "name": "ipython",
    "version": 3
   },
   "file_extension": ".py",
   "mimetype": "text/x-python",
   "name": "python",
   "nbconvert_exporter": "python",
   "pygments_lexer": "ipython3",
   "version": "3.10.9"
  }
 },
 "nbformat": 4,
 "nbformat_minor": 5
}
