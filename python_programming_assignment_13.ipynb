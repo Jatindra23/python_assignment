{
 "cells": [
  {
   "cell_type": "code",
   "execution_count": 1,
   "id": "e8695d58",
   "metadata": {},
   "outputs": [
    {
     "name": "stdout",
     "output_type": "stream",
     "text": [
      "Enter comma-separated values of D: 100,150,180\n",
      "Output: 18,22,24\n"
     ]
    }
   ],
   "source": [
    "# Question 1:\n",
    "# Write a program that calculates and prints the value according to the given formula:\n",
    "# Q = Square root of [(2 * C * D)/H]\n",
    "# Following are the fixed values of C and H:\n",
    "# C is 50. H is 30.\n",
    "# D is the variable whose values should be input to your program in a comma-separated\n",
    "# sequence.\n",
    "# Example\n",
    "# Let us assume the following comma separated input sequence is given to the program:\n",
    "# 100,150,180\n",
    "# The output of the program should be:\n",
    "# 18,22,24\n",
    "\n",
    "import math\n",
    "\n",
    "C = 50\n",
    "H = 30\n",
    "\n",
    "def calculate_value(D):\n",
    "    Q = math.sqrt((2 * C * D) / H)\n",
    "    return int(Q)\n",
    "\n",
    "input_sequence = input(\"Enter comma-separated values of D: \")\n",
    "D_values = [int(d) for d in input_sequence.split(',')]\n",
    "result = [calculate_value(D) for D in D_values]\n",
    "output = \",\".join(str(val) for val in result)\n",
    "print(\"Output:\", output)\n"
   ]
  },
  {
   "cell_type": "code",
   "execution_count": 5,
   "id": "e96f1762",
   "metadata": {},
   "outputs": [
    {
     "name": "stdout",
     "output_type": "stream",
     "text": [
      "Enter two digits X and Y: 5,3\n",
      "[0, 0, 0]\n",
      "[0, 1, 2]\n",
      "[0, 2, 4]\n",
      "[0, 3, 6]\n",
      "[0, 4, 8]\n"
     ]
    }
   ],
   "source": [
    "# Question 2:\n",
    "# Write a program which takes 2 digits, X,Y as input and generates a 2-dimensional array. The\n",
    "# element value in the i-th row and j-th column of the array should be i*j.\n",
    "# Note: i=0,1.., X-1; j=0,1,¡Y-1.\n",
    "# Example\n",
    "# Suppose the following inputs are given to the program:\n",
    "# 3,5\n",
    "# Then, the output of the program should be:\n",
    "# [[0, 0, 0, 0, 0], [0, 1, 2, 3, 4], [0, 2, 4, 6, 8]]\n",
    "\n",
    "def generate_2d_array(x, y):\n",
    "    array_2d = [[0 for _ in range(y)] for _ in range(x)]\n",
    "    for i in range(x):\n",
    "        for j in range(y):\n",
    "            array_2d[i][j] = i * j\n",
    "    return array_2d\n",
    "\n",
    "x, y = map(int, input(\"Enter two digits X and Y: \").split(','))\n",
    "result = generate_2d_array(x, y)\n",
    "\n",
    "for row in result:\n",
    "    print(row)\n"
   ]
  },
  {
   "cell_type": "code",
   "execution_count": 7,
   "id": "f6d75c93",
   "metadata": {},
   "outputs": [
    {
     "name": "stdout",
     "output_type": "stream",
     "text": [
      "Enter a comma-separated sequence of words: hello,good,bad\n",
      "Sorted sequence: bad,good,hello\n"
     ]
    }
   ],
   "source": [
    "# Question 3:\n",
    "# Write a program that accepts a comma separated sequence of words as input and prints the\n",
    "# words in a comma-separated sequence after sorting them alphabetically.\n",
    "# Suppose the following input is supplied to the program:\n",
    "# without,hello,bag,world\n",
    "# Then, the output should be:\n",
    "# bag,hello,without,world\n",
    "\n",
    "input_sequence = input(\"Enter a comma-separated sequence of words: \")\n",
    "words = input_sequence.split(',')\n",
    "sorted_words = sorted(words)\n",
    "sorted_sequence = \",\".join(sorted_words)\n",
    "print(\"Sorted sequence:\", sorted_sequence)\n"
   ]
  },
  {
   "cell_type": "code",
   "execution_count": 9,
   "id": "24edbf01",
   "metadata": {},
   "outputs": [
    {
     "name": "stdout",
     "output_type": "stream",
     "text": [
      "Enter a sequence of whitespace-separated words: i'm good how are you i'm good\n",
      "Result: are good how i'm you\n"
     ]
    }
   ],
   "source": [
    "# Question 4:\n",
    "# Write a program that accepts a sequence of whitespace separated words as input and prints\n",
    "# the words after removing all duplicate words and sorting them alphanumerically.\n",
    "# Suppose the following input is supplied to the program:\n",
    "# hello world and practice makes perfect and hello world again\n",
    "# Then, the output should be:\n",
    "# again and hello makes perfect practice world\n",
    "\n",
    "input_sequence = input(\"Enter a sequence of whitespace-separated words: \")\n",
    "words = input_sequence.split()\n",
    "unique_words = list(set(words))\n",
    "sorted_unique_words = sorted(unique_words)\n",
    "result = \" \".join(sorted_unique_words)\n",
    "print(\"Result:\", result)\n"
   ]
  },
  {
   "cell_type": "code",
   "execution_count": 10,
   "id": "806dce35",
   "metadata": {},
   "outputs": [
    {
     "name": "stdout",
     "output_type": "stream",
     "text": [
      "Enter a sentence: i got 98 percent\n",
      "LETTERS 11\n",
      "DIGITS 2\n"
     ]
    }
   ],
   "source": [
    "# Question 5:\n",
    "# Write a program that accepts a sentence and calculate the number of letters and digits.\n",
    "\n",
    "input_sentence = input(\"Enter a sentence: \")\n",
    "letters_count = 0\n",
    "digits_count = 0\n",
    "\n",
    "for char in input_sentence:\n",
    "    if char.isalpha():\n",
    "        letters_count += 1\n",
    "    elif char.isdigit():\n",
    "        digits_count += 1\n",
    "\n",
    "print(\"LETTERS\", letters_count)\n",
    "print(\"DIGITS\", digits_count)\n"
   ]
  },
  {
   "cell_type": "code",
   "execution_count": 13,
   "id": "257ed3fb",
   "metadata": {},
   "outputs": [
    {
     "name": "stdout",
     "output_type": "stream",
     "text": [
      "Enter comma-separated passwords: dfbd34,hdg#fgn23,wreyrt@QA123\n",
      "wreyrt@QA123\n"
     ]
    }
   ],
   "source": [
    "# Question 6:\n",
    "# A website requires the users to input username and password to register. Write a program to\n",
    "# check the validity of password input by users.\n",
    "# Following are the criteria for checking the password:\n",
    "# 1. At least 1 letter between [a-z]\n",
    "# 2. At least 1 number between [0-9]\n",
    "# 1. At least 1 letter between [A-Z]\n",
    "# 3. At least 1 character from [$#@]\n",
    "# 4. Minimum length of transaction password: 6\n",
    "# 5. Maximum length of transaction password: 12\n",
    "# Your program should accept a sequence of comma separated passwords and will check them\n",
    "# according to the above criteria. Passwords that match the criteria are to be printed, each\n",
    "# separated by a comma.\n",
    "# Example\n",
    "# If the following passwords are given as input to the program:\n",
    "# ABd1234@1,a F1#,2w3E*,2We3345\n",
    "# Then, the output of the program should be:\n",
    "# ABd1234@1\n",
    "\n",
    "\n",
    "import re\n",
    "\n",
    "def is_valid_password(password):\n",
    "    if len(password) < 6 or len(password) > 12:\n",
    "        return False\n",
    "    if not re.search(\"[a-z]\", password):\n",
    "        return False\n",
    "    if not re.search(\"[0-9]\", password):\n",
    "        return False\n",
    "    if not re.search(\"[A-Z]\", password):\n",
    "        return False\n",
    "    if not re.search(\"[$#@]\", password):\n",
    "        return False\n",
    "    return True\n",
    "\n",
    "input_passwords = input(\"Enter comma-separated passwords: \")\n",
    "passwords = input_passwords.split(',')\n",
    "valid_passwords = [password for password in passwords if is_valid_password(password)]\n",
    "print(\",\".join(valid_passwords))\n"
   ]
  },
  {
   "cell_type": "code",
   "execution_count": null,
   "id": "06a6b657",
   "metadata": {},
   "outputs": [],
   "source": []
  }
 ],
 "metadata": {
  "kernelspec": {
   "display_name": "Python 3 (ipykernel)",
   "language": "python",
   "name": "python3"
  },
  "language_info": {
   "codemirror_mode": {
    "name": "ipython",
    "version": 3
   },
   "file_extension": ".py",
   "mimetype": "text/x-python",
   "name": "python",
   "nbconvert_exporter": "python",
   "pygments_lexer": "ipython3",
   "version": "3.10.9"
  }
 },
 "nbformat": 4,
 "nbformat_minor": 5
}
