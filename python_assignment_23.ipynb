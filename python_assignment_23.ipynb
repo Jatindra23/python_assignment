{
 "cells": [
  {
   "cell_type": "code",
   "execution_count": 15,
   "id": "94f1d60f",
   "metadata": {},
   "outputs": [
    {
     "name": "stdout",
     "output_type": "stream",
     "text": [
      "1 2 8\n"
     ]
    }
   ],
   "source": [
    "#QUES->1. What is the result of the code, and why?\n",
    "def func(a, b=6, c=8):\n",
    "    print(a, b, c)\n",
    "    \n",
    "func(1, 2)\n",
    "\n",
    "#ANS->"
   ]
  },
  {
   "cell_type": "raw",
   "id": "371b1b79",
   "metadata": {},
   "source": [
    "ANS->\n",
    "In the function definition, a is a positional argument, while b and c are keyword arguments with default values of 6 and 8, respectively. When the function func(1, 2) is called, 1 is assigned to a and 2 is assigned to b because they are provided as positional arguments. Since no value is provided for c, it takes its default value of 8. The print statement outputs the values of a, b, and c as 1, 2, and 8, respectively."
   ]
  },
  {
   "cell_type": "code",
   "execution_count": 16,
   "id": "2d8860f8",
   "metadata": {},
   "outputs": [
    {
     "name": "stdout",
     "output_type": "stream",
     "text": [
      "1 2 3\n"
     ]
    }
   ],
   "source": [
    "#QUES->2. What is the result of this code, and why?\n",
    "def func(a, b, c=5):\n",
    "    print(a, b, c)\n",
    "    \n",
    "    \n",
    "func(1, c=3, b=2)\n",
    "\n",
    "#ANS->"
   ]
  },
  {
   "cell_type": "raw",
   "id": "1b94005a",
   "metadata": {},
   "source": [
    "ANS->\n",
    "In the function definition, a and b are positional arguments, while c is a keyword argument with a default value of 5. When the function func(1, c=3, b=2) is called, 1 is assigned to a as a positional argument, 2 is assigned to b as a keyword argument, and 3 is assigned to c as a keyword argument, overriding its default value. The print statement outputs the values of a, b, and c as 1, 2, and 3, respectively."
   ]
  },
  {
   "cell_type": "code",
   "execution_count": 13,
   "id": "33026646",
   "metadata": {},
   "outputs": [
    {
     "name": "stdout",
     "output_type": "stream",
     "text": [
      "1 (2, 3)\n"
     ]
    }
   ],
   "source": [
    "#QUES->3. How about this code: what is its result, and why?\n",
    "def func(a, *pargs):\n",
    "    print(a, pargs)\n",
    "    \n",
    "func(1, 2, 3)\n",
    "\n",
    "#ANS->"
   ]
  },
  {
   "cell_type": "raw",
   "id": "11bcff41",
   "metadata": {},
   "source": [
    "ANS->\n",
    "In the function definition, a is a positional argument, and *pargs is a variable-length argument that collects any additional positional arguments into a tuple. When the function func(1, 2, 3) is called, 1 is assigned to a as a positional argument, and 2 and 3 are collected into pargs as a tuple. The print statement outputs the values of a and pargs as 1 and (2, 3), respectively."
   ]
  },
  {
   "cell_type": "code",
   "execution_count": 14,
   "id": "9ab0eba2",
   "metadata": {},
   "outputs": [
    {
     "name": "stdout",
     "output_type": "stream",
     "text": [
      "1 {'c': 3, 'b': 2}\n"
     ]
    }
   ],
   "source": [
    "#QUES->4. What does this code print, and why?\n",
    "def func(a, **kargs):\n",
    "    print(a, kargs)\n",
    "    \n",
    "func(a=1, c=3, b=2)\n",
    "\n",
    "#ANS->"
   ]
  },
  {
   "cell_type": "raw",
   "id": "a465306d",
   "metadata": {},
   "source": [
    "ANS->\n",
    "n the function definition, a is a positional argument, and **kargs is a variable-length keyword argument that collects any additional keyword arguments into a dictionary. When the function func(a=1, c=3, b=2) is called, 1 is assigned to a as a keyword argument, and c=3 and b=2 are collected into kargs as a dictionary. The print statement outputs the values of a and kargs as 1 and {'c': 3, 'b': 2}, respectively."
   ]
  },
  {
   "cell_type": "code",
   "execution_count": 10,
   "id": "063885e6",
   "metadata": {},
   "outputs": [
    {
     "name": "stdout",
     "output_type": "stream",
     "text": [
      "1 5 6 5\n"
     ]
    }
   ],
   "source": [
    "#QUES->5. What gets printed by this, and explain?\n",
    "def func(a, b, c=8, d=5):\n",
    "    print(a, b, c, d)\n",
    "func(1, *(5, 6))\n",
    "\n",
    "#ANS->"
   ]
  },
  {
   "cell_type": "raw",
   "id": "bc6012cc",
   "metadata": {},
   "source": [
    "ANS->\n",
    "In the function definition, a, b, c, and d are positional arguments with default values. When the function func(1, *(5, 6)) is called, 1 is assigned to a as the first positional argument, and (5, 6) is unpacked and assigned to b and c. The value 5 is assigned to b, and 6 is assigned to c. Since no value is provided for d, it takes its default value of 5. The print statement outputs the values of a, b, c, and d as 1, 5, 6, and 5, respectively."
   ]
  },
  {
   "cell_type": "code",
   "execution_count": 17,
   "id": "905e55f3",
   "metadata": {},
   "outputs": [
    {
     "name": "stdout",
     "output_type": "stream",
     "text": [
      "1 ['x'] {'a': 'y'}\n"
     ]
    }
   ],
   "source": [
    "#QUES->6. what is the result of this, and explain?\n",
    "\n",
    "def func(a, b, c):\n",
    "    a = 2\n",
    "    b[0] = 'x'\n",
    "    c['a'] = 'y'\n",
    "\n",
    "l = 1\n",
    "m = [1]\n",
    "n = {'a': 0}\n",
    "\n",
    "func(l, m, n)\n",
    "print(l, m, n)\n",
    "\n",
    "#ANS->"
   ]
  },
  {
   "cell_type": "raw",
   "id": "3a99e11c",
   "metadata": {},
   "source": [
    "ANS->\n",
    "In the function func, the variables a, b, and c are passed as arguments. Inside the function, a is reassigned to the value 2, which doesn't affect the original variable l outside the function. However, both b[0] and c['a'] are modified. Since m is a list, modifying b[0] also changes the value of m outside the function, replacing 1 with 'x'. Similarly, modifying c['a'] changes the value of n outside the function, replacing 0 with 'y'. Therefore, after calling the function, the values of l, m, and n are 1, ['x'], and {'a': 'y'}, respectively."
   ]
  },
  {
   "cell_type": "code",
   "execution_count": 7,
   "id": "695f70d5",
   "metadata": {},
   "outputs": [],
   "source": [
    "#QUES->\n",
    "\n",
    "#ANS->"
   ]
  },
  {
   "cell_type": "code",
   "execution_count": 8,
   "id": "8c67f149",
   "metadata": {},
   "outputs": [],
   "source": [
    "#QUES->\n",
    "\n",
    "#ANS->"
   ]
  },
  {
   "cell_type": "code",
   "execution_count": null,
   "id": "dbc6b0f1",
   "metadata": {},
   "outputs": [],
   "source": [
    "#QUES->\n",
    "\n",
    "#ANS->"
   ]
  }
 ],
 "metadata": {
  "kernelspec": {
   "display_name": "Python 3 (ipykernel)",
   "language": "python",
   "name": "python3"
  },
  "language_info": {
   "codemirror_mode": {
    "name": "ipython",
    "version": 3
   },
   "file_extension": ".py",
   "mimetype": "text/x-python",
   "name": "python",
   "nbconvert_exporter": "python",
   "pygments_lexer": "ipython3",
   "version": "3.10.9"
  }
 },
 "nbformat": 4,
 "nbformat_minor": 5
}
