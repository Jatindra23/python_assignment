{
 "cells": [
  {
   "cell_type": "raw",
   "id": "3f0fd392",
   "metadata": {},
   "source": [
    "QUES->1. What is the name of the feature responsible for generating Regex objects?\n",
    "\n",
    "ANS->The feature responsible for generating Regex objects is the re module in Python."
   ]
  },
  {
   "cell_type": "raw",
   "id": "5bc8af99",
   "metadata": {},
   "source": [
    "QUES->2. Why do raw strings often appear in Regex objects?\n",
    "\n",
    "ANS->\n",
    "Raw strings often appear in Regex objects because they treat backslashes (\\) as literal characters, which is useful for defining regular expression patterns that contain special characters. Raw strings are created by prefixing the string literal with the letter 'r'.\n"
   ]
  },
  {
   "cell_type": "raw",
   "id": "caee268f",
   "metadata": {},
   "source": [
    "QUES->3. What is the return value of the search() method?\n",
    "\n",
    "ANS->\n",
    "The search() method returns a match object if it finds a match for the regular expression pattern in the searched string. If no match is found, it returns None.\n"
   ]
  },
  {
   "cell_type": "raw",
   "id": "f3111938",
   "metadata": {},
   "source": [
    "QUES->4. From a Match item, how do you get the actual strings that match the pattern?\n",
    "\n",
    "ANS->\n",
    "To get the actual strings that match the pattern from a match object, you can use the group() method with the argument 0 or no argument at all. For example, match.group() or match.group(0) will return the entire matched string."
   ]
  },
  {
   "cell_type": "raw",
   "id": "793b6efa",
   "metadata": {},
   "source": [
    "QUES->5. In the regex which created from the r'(\\d\\d\\d)-(\\d\\d\\d-\\d\\d\\d\\d)', what does group zero cover? Group 2? Group 1?\n",
    "\n",
    "ANS->\n",
    "In the given regex r'(\\d\\d\\d)-(\\d\\d\\d-\\d\\d\\d\\d)', group zero (group(0)) covers the entire matched string. Group 1 (group(1)) covers the first three digits surrounded by parentheses, and Group 2 (group(2)) covers the second part of the string which is a hyphen-separated group of seven digits."
   ]
  },
  {
   "cell_type": "raw",
   "id": "be621da0",
   "metadata": {},
   "source": [
    "QUES->6. In standard expression syntax, parentheses and intervals have distinct meanings. How can you tell a regex that you want it to fit real parentheses and periods?\n",
    "\n",
    "ANS->\n",
    "To specify real parentheses and periods in a regex, you need to escape them with a backslash (\\). For example, to match a literal parentheses, you would use \\( and \\) in the regex pattern.\n"
   ]
  },
  {
   "cell_type": "raw",
   "id": "f055d455",
   "metadata": {},
   "source": [
    "QUES->7. The findall() method returns a string list or a list of string tuples. What causes it to return one of the two options?\n",
    "\n",
    "ANS->\n",
    "The findall() method returns a list of all non-overlapping matches of the pattern in the searched string. If the pattern contains capturing groups, it returns a list of tuples where each tuple represents a match and contains the captured groups. If the pattern does not contain capturing groups, it returns a list of strings representing the matches."
   ]
  },
  {
   "cell_type": "raw",
   "id": "8050bf86",
   "metadata": {},
   "source": [
    "QUES->8. In standard expressions, what does the | character mean?\n",
    "\n",
    "ANS->\n",
    "In standard expressions, the | character acts as an OR operator, allowing you to specify multiple alternatives. It matches either the expression before it or the expression after it."
   ]
  },
  {
   "cell_type": "raw",
   "id": "ba8eb85d",
   "metadata": {},
   "source": [
    "QUES->9. In regular expressions, what does the character stand for?\n",
    "\n",
    "ANS->\n",
    "In regular expressions, the . (dot) character is a special metacharacter that matches any character except a newline character. It can be used to represent any character in a pattern."
   ]
  },
  {
   "cell_type": "raw",
   "id": "305500c9",
   "metadata": {},
   "source": [
    "QUES->10.In regular expressions, what is the difference between the + and * characters?\n",
    "\n",
    "ANS->\n",
    "In regular expressions, the + character matches one or more occurrences of the preceding element. It requires at least one occurrence. The * character, on the other hand, matches zero or more occurrences of the preceding element, including the case of no occurrence."
   ]
  },
  {
   "cell_type": "raw",
   "id": "5b66435c",
   "metadata": {},
   "source": [
    "QUES->11. What is the difference between {4} and {4,5} in regular expression?\n",
    "\n",
    "ANS->\n",
    "In regular expressions, {4} specifies that the preceding element must occur exactly four times. {4,5} specifies that the preceding element must occur at least four times and at most five times."
   ]
  },
  {
   "cell_type": "raw",
   "id": "ea821d88",
   "metadata": {},
   "source": [
    "QUES->12. What do you mean by the \\d, \\w, and \\s shorthand character classes signify in regular expressions?\n",
    "\n",
    "ANS->\n",
    "In regular expressions, the shorthand character class \\d represents any digit (0-9). It matches a single digit character.\n",
    "\\w represents any alphanumeric character (a-z, A-Z, 0-9, and underscore _). It matches a single alphanumeric character.\n",
    "\\s represents any whitespace character (spaces, tabs, newlines, etc.). It matches a single whitespace character."
   ]
  },
  {
   "cell_type": "raw",
   "id": "953ad8ca",
   "metadata": {},
   "source": [
    "QUES->13. What do means by \\D, \\W, and \\S shorthand character classes signify in regular expressions?\n",
    "\n",
    "ANS->\n",
    "The shorthand character classes \\D, \\W, and \\S are the negations of \\d, \\w, and \\s respectively.\n",
    "\\D represents any non-digit character. It matches a single character that is not a digit.\n",
    "\\W represents any non-alphanumeric character. It matches a single character that is neither a letter, a digit, nor an underscore.\n",
    "\\S represents any non-whitespace character. It matches a single character that is not a whitespace character."
   ]
  },
  {
   "cell_type": "raw",
   "id": "b8170bcf",
   "metadata": {},
   "source": [
    "QUES->14. What is the difference between .*? and .*?\n",
    "\n",
    "ANS->\n",
    "The difference between .*? and .* lies in their matching behavior. .*? is a non-greedy or lazy match, meaning it matches as little as possible. It will match any character zero or more times, but it will stop as soon as the next part of the pattern can be matched. .* is a greedy match, meaning it matches as much as possible. It will match any character zero or more times and continue until the last possible match in the string."
   ]
  },
  {
   "cell_type": "raw",
   "id": "c796018b",
   "metadata": {},
   "source": [
    "QUES->15. What is the syntax for matching both numbers and lowercase letters with a character class?\n",
    "\n",
    "ANS->\n",
    "The syntax for matching both numbers and lowercase letters with a character class is [0-9a-z]. This character class will match any single character that is either a lowercase letter (a-z) or a digit (0-9)."
   ]
  },
  {
   "cell_type": "raw",
   "id": "066c5fd7",
   "metadata": {},
   "source": [
    "QUES->16. What is the procedure for making a normal expression in regax case insensitive?\n",
    "\n",
    "ANS->\n",
    "To make a regular expression case-insensitive, you can pass the re.IGNORECASE flag as the second argument to re.compile(). For example, to create a case-insensitive regex object, you can use regex = re.compile(pattern, re.IGNORECASE)."
   ]
  },
  {
   "cell_type": "raw",
   "id": "5b720971",
   "metadata": {},
   "source": [
    "QUES->17. What does the . character normally match? What does it match if re.DOTALL is passed as 2nd argument in re.compile()?\n",
    "\n",
    "ANS->\n",
    "The . (dot) character normally matches any character except a newline character. It can match any single character.\n",
    "If re.DOTALL is passed as the second argument in re.compile(), then the . character will match any character including newline characters."
   ]
  },
  {
   "cell_type": "raw",
   "id": "5096be2e",
   "metadata": {},
   "source": [
    "QUES->18. If numReg = re.compile(r'\\d+'), what will numRegex.sub('X', '11 drummers, 10 pipers, five rings, 4 hen') return?\n",
    "\n",
    "ANS->\n",
    "If numReg = re.compile(r'\\d+'), the numReg.sub('X', '11 drummers, 10 pipers, five rings, 4 hen') will return the string 'X drummers, X pipers, five rings, X hen'. The sub() method replaces all occurrences of the pattern (one or more digits) with the replacement string ('X').\n"
   ]
  },
  {
   "cell_type": "raw",
   "id": "b194b587",
   "metadata": {},
   "source": [
    "QUES->19. What does passing re.VERBOSE as the 2nd argument to re.compile() allow to do?\n",
    "\n",
    "ANS->\n",
    "Passing re.VERBOSE as the second argument to re.compile() allows you to write regular expressions in a more readable and organized way by ignoring whitespace and adding comments. It enables the verbose mode for the regex pattern.\n"
   ]
  },
  {
   "cell_type": "raw",
   "id": "0bc7d295",
   "metadata": {},
   "source": [
    "QUES->20. How would you write a regex that match a number with comma for every three digits? It must match the given following:\n",
    "'42'\n",
    "'1,234'\n",
    "'6,368,745'\n",
    "but not the following:\n",
    "'12,34,567' (which has only two digits between the commas)\n",
    "'1234' (which lacks commas)\n",
    "\n",
    "\n",
    "ANS->\n",
    "o match a number with commas for every three digits, you can use the following regex pattern: r'^\\d{1,3}(,\\d{3})*$'. This pattern ensures that the number starts with 1 to 3 digits (\\d{1,3}), followed by zero or more occurrences of a comma followed by exactly 3 digits (,\\d{3})*. The ^ and $ anchors ensure that the pattern matches the entire string"
   ]
  },
  {
   "cell_type": "raw",
   "id": "a5fcabc4",
   "metadata": {},
   "source": [
    "QUES->21. How would you write a regex that matches the full name of someone whose last name is Watanabe? You can assume that the first name that comes before it will always be one word that begins with a capital letter. The regex must match the following:\n",
    "'Haruto Watanabe'\n",
    "'Alice Watanabe'\n",
    "'RoboCop Watanabe'\n",
    "but not the following:\n",
    "'haruto Watanabe' (where the first name is not capitalized)\n",
    "'Mr. Watanabe' (where the preceding word has a nonletter character)\n",
    "'Watanabe' (which has no first name)\n",
    "'Haruto watanabe' (where Watanabe is not capitalized)\n",
    "\n",
    "\n",
    "ANS->\n",
    "To match the full name of someone whose last name is Watanabe, assuming the first name is a single word that begins with a capital letter, you can use the following regex pattern:"
   ]
  },
  {
   "cell_type": "code",
   "execution_count": 5,
   "id": "24b54efc",
   "metadata": {},
   "outputs": [
    {
     "name": "stdout",
     "output_type": "stream",
     "text": [
      "sentence matched\n"
     ]
    }
   ],
   "source": [
    "#exapmle:\n",
    "import re\n",
    "sentence='Alice Watanabe'\n",
    "pattern = r'^[A-Z][a-zA-Z]* Watanabe$'\n",
    "match = re.match(pattern,sentence)\n",
    "\n",
    "if match:\n",
    "    print(\"sentence matched\")\n",
    "    \n",
    "else:\n",
    "    print(\"sentence not matched\")\n"
   ]
  },
  {
   "cell_type": "raw",
   "id": "a9ca11b9",
   "metadata": {},
   "source": [
    "\n",
    "Explanation:\n",
    "\n",
    "^ asserts the start of the string.\n",
    "[A-Z] matches the first letter of the first name, ensuring it is capitalized.\n",
    "[a-zA-Z]* matches zero or more lowercase or uppercase letters for the rest of the first name.\n",
    "matches a space character between the first and last names.\n",
    "Watanabe matches the literal string \"Watanabe\".\n",
    "$ asserts the end of the string.\n",
    "\n",
    "This regex pattern will match names like 'Haruto Watanabe', 'Alice Watanabe', and 'RoboCop Watanabe', but it will not match names like 'haruto Watanabe', 'Mr. Watanabe', 'Watanabe', or 'Haruto watanabe' that do not meet the specified criteria."
   ]
  },
  {
   "cell_type": "raw",
   "id": "751e8fdf",
   "metadata": {},
   "source": [
    "QUES->22. How would you write a regex that matches a sentence where the first word is either Alice, Bob, or Carol; the second word is either eats, pets, or throws; the third word is apples, cats, or baseballs; and the sentence ends with a period? This regex should be case-insensitive. It must match the following:\n",
    "'Alice eats apples.'\n",
    "'Bob pets cats.'\n",
    "'Carol throws baseballs.'\n",
    "'Alice throws Apples.'\n",
    "'BOB EATS CATS.'\n",
    "but not the following:\n",
    "'RoboCop eats apples.'\n",
    "'ALICE THROWS FOOTBALLS.'\n",
    "'Carol eats 7 cats.'\n",
    "\n",
    "\n",
    "ANS->\n",
    "To match a sentence that meets the specified criteria, you can use the following regex pattern:\n",
    "^(Alice|Bob|Carol) (eats|pets|throws) (apples|cats|baseballs)\\.$\n",
    "\n",
    "Explanation:\n",
    "\n",
    "^ asserts the start of the string.\n",
    "(Alice|Bob|Carol) matches either \"Alice\", \"Bob\", or \"Carol\" as the first word using the parentheses and the pipe (|) character for alternation.\n",
    "matches a space character between the first and second words.\n",
    "(eats|pets|throws) matches either \"eats\", \"pets\", or \"throws\" as the second word.\n",
    "matches a space character between the second and third words.\n",
    "(apples|cats|baseballs) matches either \"apples\", \"cats\", or \"baseballs\" as the third word.\n",
    "\\. matches the period at the end of the sentence.\n",
    "$ asserts the end of the string.\n",
    "By default, regex is case-sensitive, but to make it case-insensitive, you can use the re.IGNORECASE flag when compiling the regex pattern.\n"
   ]
  },
  {
   "cell_type": "code",
   "execution_count": 1,
   "id": "b0e6ede4",
   "metadata": {},
   "outputs": [
    {
     "name": "stdout",
     "output_type": "stream",
     "text": [
      "Match found!\n"
     ]
    }
   ],
   "source": [
    "#example:\n",
    "\n",
    "import re\n",
    "\n",
    "pattern = r'^(Alice|Bob|Carol) (eats|pets|throws) (apples|cats|baseballs)\\.$'\n",
    "sentence = \"Alice eats apples.\"\n",
    "match = re.match(pattern, sentence, re.IGNORECASE)\n",
    "\n",
    "if match:\n",
    "    print(\"Match found!\")\n",
    "else:\n",
    "    print(\"No match.\")\n"
   ]
  },
  {
   "cell_type": "code",
   "execution_count": null,
   "id": "2071c31b",
   "metadata": {},
   "outputs": [],
   "source": []
  }
 ],
 "metadata": {
  "kernelspec": {
   "display_name": "Python 3 (ipykernel)",
   "language": "python",
   "name": "python3"
  },
  "language_info": {
   "codemirror_mode": {
    "name": "ipython",
    "version": 3
   },
   "file_extension": ".py",
   "mimetype": "text/x-python",
   "name": "python",
   "nbconvert_exporter": "python",
   "pygments_lexer": "ipython3",
   "version": "3.10.9"
  }
 },
 "nbformat": 4,
 "nbformat_minor": 5
}
