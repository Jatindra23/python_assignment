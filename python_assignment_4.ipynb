{
 "cells": [
  {
   "cell_type": "raw",
   "id": "9f56e8d9",
   "metadata": {},
   "source": [
    "QUES->1. What exactly is []?\n",
    "\n",
    "\n",
    "ANS->\n",
    "In Python, [] represents an empty list. A list is a mutable, ordered collection of items enclosed in square brackets ([]). An empty list, denoted by [], signifies that it contains no elements.In this case, empty_list is initialized as an empty list with no elements.\n",
    "Lists in Python are versatile and offer various methods and operations for adding, removing, accessing, and manipulating elements. An empty list ([]) serves as a starting point to which you can append or insert elements dynamically as needed"
   ]
  },
  {
   "cell_type": "raw",
   "id": "79ea14f3",
   "metadata": {},
   "source": [
    "QUES->2. In a list of values stored in a variable called spam, how would you assign the value 'hello' as the third value? (Assume [2, 4, 6, 8, 10] are in spam.)\n",
    "\n",
    "\n",
    "ANS->\n",
    "To assign the value 'hello' as the third value in the list stored in the variable spam, you can use indexing and assignment. In Python, list indexing starts from zero, so the third value has an index of 2."
   ]
  },
  {
   "cell_type": "code",
   "execution_count": 2,
   "id": "c75dbce8",
   "metadata": {},
   "outputs": [
    {
     "data": {
      "text/plain": [
       "[2, 4, 'hello', 8, 10]"
      ]
     },
     "execution_count": 2,
     "metadata": {},
     "output_type": "execute_result"
    }
   ],
   "source": [
    "#example\n",
    "\n",
    "spam = [2, 4, 6, 8, 10]\n",
    "spam[2] = 'hello'\n",
    "spam\n"
   ]
  },
  {
   "cell_type": "raw",
   "id": "bc832aa1",
   "metadata": {},
   "source": [
    "QUES->Let's pretend the spam includes the list ['a', 'b', 'c', 'd'] for the next three queries.\n",
    "3. What is the value of spam[int(int('3' * 2) / 11)]?\n",
    "4. What is the value of spam[-1]?\n",
    "5. What is the value of spam[:2]?\n",
    "\n",
    "ANS->\n",
    "The value of spam[int(int('3' * 2) / 11)] can be determined by breaking down the expression:\n",
    "\n",
    "'3' * 2 evaluates to the string '33'.\n",
    "int('33') converts the string '33' to an integer value of 33.\n",
    "int('33') / 11 performs integer division, resulting in 3.\n",
    "Finally, spam[3] accesses the element at index 3 in the list spam, which is 'd'.\n",
    "\n",
    "--The value of spam[-1] is 'd'.\n",
    "\n"
   ]
  },
  {
   "cell_type": "code",
   "execution_count": 7,
   "id": "aa1e35ee",
   "metadata": {},
   "outputs": [
    {
     "data": {
      "text/plain": [
       "['a', 'b']"
      ]
     },
     "execution_count": 7,
     "metadata": {},
     "output_type": "execute_result"
    }
   ],
   "source": [
    "#the value of spam is\n",
    "spam=['a', 'b', 'c', 'd']\n",
    "\n",
    "spam[:2] #Ques-5\n",
    "\n",
    "\n"
   ]
  },
  {
   "cell_type": "raw",
   "id": "a770c0b9",
   "metadata": {},
   "source": [
    "QUES->Let's pretend bacon has the list [3.14, 'cat,' 11, 'cat,' True] for the next three questions.\n",
    "6. What is the value of bacon.index('cat')?\n",
    "7. How does bacon.append(99) change the look of the list value in bacon?\n",
    "8. How does bacon.remove('cat') change the look of the list in bacon?\n",
    "\n",
    "ANS->\n",
    "The value of bacon.index('cat') is 1. The index() method is used to find the index of the first occurrence of a specified value in a list. In this case, 'cat' is found at index 1 in the bacon list.\n",
    "\n",
    "The bacon.append(99) operation adds the value 99 to the end of the bacon list. After executing this statement, the new look of the bacon list will be [3.14, 'cat', 11, 'cat', True, 99].\n",
    "\n",
    "The bacon.remove('cat') operation removes the first occurrence of the value 'cat' from the bacon list. After executing this statement, the new look of the bacon list will be [3.14, 11, 'cat', True, 99]. The first occurrence of 'cat' is removed, leaving the second occurrence of 'cat' intact.\n"
   ]
  },
  {
   "cell_type": "code",
   "execution_count": 18,
   "id": "a9685c2c",
   "metadata": {},
   "outputs": [
    {
     "data": {
      "text/plain": [
       "[3.14, 11, 'cat', True, 99]"
      ]
     },
     "execution_count": 18,
     "metadata": {},
     "output_type": "execute_result"
    }
   ],
   "source": [
    "#ANS->\n",
    "bacon = [3.14, 'cat', 11, 'cat', True]\n",
    "bacon.index('cat')\n",
    "bacon.append(99)\n",
    "bacon\n",
    "bacon.remove('cat')\n",
    "bacon\n",
    "\n"
   ]
  },
  {
   "cell_type": "raw",
   "id": "5bd9f040",
   "metadata": {},
   "source": [
    "QUES->9. What are the list concatenation and list replication operators?\n",
    "\n",
    "ANS->\n",
    "In Python, the list concatenation operator is +, and the list replication operator is *.\n",
    "\n",
    "List Concatenation (+):\n",
    "The + operator is used to concatenate or combine two lists into a single list. It creates a new list that contains all the elements from the operands in the order they appear.\n",
    "\n",
    "List Replication (*):\n",
    "The * operator is used to replicate or repeat a list a certain number of times. It creates a new list by repeating the elements of the original list.\n",
    "\n"
   ]
  },
  {
   "cell_type": "code",
   "execution_count": 20,
   "id": "d3fda7d2",
   "metadata": {},
   "outputs": [
    {
     "name": "stdout",
     "output_type": "stream",
     "text": [
      "[1, 2, 3, 4, 5, 6]\n",
      "[1, 2, 3, 1, 2, 3, 1, 2, 3]\n"
     ]
    }
   ],
   "source": [
    "#example\n",
    "\n",
    "list1 = [1, 2, 3]\n",
    "list2 = [4, 5, 6]\n",
    "concatenated_list = list1 + list2\n",
    "print(concatenated_list)\n",
    "\n",
    "\n",
    "original_list = [1, 2, 3]\n",
    "replicated_list = original_list * 3\n",
    "print(replicated_list)\n",
    "\n"
   ]
  },
  {
   "cell_type": "raw",
   "id": "fb0dc6c2",
   "metadata": {},
   "source": [
    "QUES->10. What is difference between the list methods append() and insert()?\n",
    "\n",
    "ANS->\n",
    "The append() and insert() methods are both used to add elements to a list in Python, but they differ in how they add elements and where they place them within the list.\n",
    "\n",
    "append() method:\n",
    "The append() method is used to add an element to the end of a list. It takes a single argument, which is the element to be added, and appends it to the end of the list.\n",
    "\n",
    "insert() method:\n",
    "The insert() method is used to add an element at a specific index position within a list. It takes two arguments: the index position where the element should be inserted, and the element itself.\n"
   ]
  },
  {
   "cell_type": "code",
   "execution_count": 21,
   "id": "9dd137d9",
   "metadata": {},
   "outputs": [
    {
     "name": "stdout",
     "output_type": "stream",
     "text": [
      "[1, 2, 3, 4]\n",
      "[1, 5, 2, 3]\n"
     ]
    }
   ],
   "source": [
    "#example\n",
    "\n",
    "my_list = [1, 2, 3]\n",
    "my_list.append(4)\n",
    "print(my_list)\n",
    "\n",
    "\n",
    "my_list = [1, 2, 3]\n",
    "my_list.insert(1, 5)\n",
    "print(my_list)\n"
   ]
  },
  {
   "cell_type": "raw",
   "id": "ec6470bd",
   "metadata": {},
   "source": [
    "QUES->11. What are the two methods for removing items from a list?\n",
    "\n",
    "ANS->\n",
    "remove() method:\n",
    "The remove() method is used to remove the first occurrence of a specific value from a list. It takes a single argument, which is the value to be removed.\n",
    "\n",
    "pop() method:\n",
    "The pop() method is used to remove an element from a list at a specified index position. It can also return the removed element. If no index is provided, it removes and returns the last element of the list.\n",
    "\n",
    "both remove() and pop() methods modify the original list. The remove() method removes an element by its value, while the pop() method removes an element by its index position and returns the removed element."
   ]
  },
  {
   "cell_type": "code",
   "execution_count": 23,
   "id": "7e08887d",
   "metadata": {},
   "outputs": [
    {
     "name": "stdout",
     "output_type": "stream",
     "text": [
      "[1, 3, 2]\n",
      "[1, 3]\n",
      "removed element : 2\n"
     ]
    }
   ],
   "source": [
    "#example\n",
    "\n",
    "my_list = [1, 2, 3, 2]\n",
    "my_list.remove(2)\n",
    "print(my_list)\n",
    "\n",
    "\n",
    "my_list = [1, 2, 3]\n",
    "removed_element = my_list.pop(1)\n",
    "print(my_list)\n",
    "print(f'removed element : {removed_element}')\n"
   ]
  },
  {
   "cell_type": "raw",
   "id": "3a50e780",
   "metadata": {},
   "source": [
    "QUES->12. Describe how list values and string values are identical.\n",
    "\n",
    "ANS->\n",
    "Sequential Data: Both lists and strings are sequential data types in Python. They store elements in a specific order, allowing for indexing and iteration over the elements.\n",
    "\n",
    "Indexing and Slicing: Both lists and strings support indexing, which allows accessing individual elements based on their position. Additionally, they both support slicing, which enables extracting subsequences of elements based on a range of indices.\n",
    "\n",
    "Length and Membership: Both lists and strings have a length, which can be obtained using the len() function. They also support membership testing using the in and not in operators to check if an element exists within them.\n"
   ]
  },
  {
   "cell_type": "raw",
   "id": "67be3ee1",
   "metadata": {},
   "source": [
    "QUES->13. What's the difference between tuples and lists?\n",
    "\n",
    "ANS->\n",
    "Mutability: Tuples are immutable, meaning their elements cannot be modified once the tuple is created. In contrast, lists are mutable, allowing modifications to individual elements, addition or removal of elements, and other in-place operations.\n",
    "\n",
    "Syntax: Tuples are defined using parentheses () or without any delimiters, separating the elements with commas. For example, (1, 2, 3) or 1, 2, 3 create tuples. Lists, on the other hand, are defined using square brackets []. For example, [1, 2, 3] creates a list.\n",
    "\n",
    "Modification: Because tuples are immutable, you cannot add, remove, or modify elements once a tuple is created. In contrast, lists support various methods for adding, removing, and modifying elements, making them more versatile for dynamic data manipulation.\n"
   ]
  },
  {
   "cell_type": "raw",
   "id": "957dfcf8",
   "metadata": {},
   "source": [
    "QUES->14. How do you type a tuple value that only contains the integer 42?\n",
    "\n",
    "ANS->\n",
    "a tuple named my_tuple is created with a single element, which is the integer value 42. The trailing comma after 42 is essential to differentiate it from the parentheses used for grouping. It indicates that the value should be treated as a tuple rather than just an integer value in parentheses.\n",
    "\n",
    "Without the trailing comma, Python would interpret (42) as an expression enclosed in parentheses rather than a tuple, resulting in an integer value. By adding the comma (42,), you explicitly specify that it should be treated as a tuple with a single element.\n"
   ]
  },
  {
   "cell_type": "raw",
   "id": "5240475b",
   "metadata": {},
   "source": [
    "QUES->15. How do you get a list value's tuple form? How do you get a tuple value's list form?\n",
    "\n",
    "ANS->\n",
    "To convert a list value to its tuple form, you can use the tuple() function. The tuple() function takes an iterable as an argument and returns a tuple containing the elements of the iterable.\n",
    "\n",
    "To convert a tuple value to its list form, you can use the list() function. The list() function takes an iterable as an argument and returns a list containing the elements of the iterable."
   ]
  },
  {
   "cell_type": "code",
   "execution_count": 24,
   "id": "63f82f58",
   "metadata": {},
   "outputs": [
    {
     "name": "stdout",
     "output_type": "stream",
     "text": [
      "(1, 2, 3, 4)\n",
      "[1, 2, 3, 4]\n"
     ]
    }
   ],
   "source": [
    "#example:\n",
    "\n",
    "my_list = [1, 2, 3, 4]\n",
    "my_tuple = tuple(my_list)\n",
    "print(my_tuple)\n",
    "\n",
    "\n",
    "my_tuple = (1, 2, 3, 4)\n",
    "my_list = list(my_tuple)\n",
    "print(my_list)\n",
    "\n",
    "\n",
    "\n",
    "\n",
    "\n"
   ]
  },
  {
   "cell_type": "raw",
   "id": "5abc28c8",
   "metadata": {},
   "source": [
    "QUES->16. Variables that \"contain\" list values are not necessarily lists themselves. Instead, what do they contain?\n",
    "\n",
    "ANS->\n",
    "Variables that \"contain\" list values in Python actually store references or pointers to the list objects rather than the lists themselves. This concept applies to all mutable objects, not just lists.\n",
    "\n",
    "In Python, objects such as lists are stored in memory, and variables act as references to those objects. When you assign a list to a variable, the variable holds a reference to the memory location where the list object is stored. It does not directly contain the list's elements.\n",
    "\n",
    "In this example, both my_list and another_list reference the same list object. If you modify the list through one variable, the changes will be reflected when accessing the list through the other variable.\n"
   ]
  },
  {
   "cell_type": "code",
   "execution_count": 25,
   "id": "eff9b73f",
   "metadata": {},
   "outputs": [],
   "source": [
    "#example:\n",
    "\n",
    "my_list = [1, 2, 3]\n",
    "another_list = my_list\n"
   ]
  },
  {
   "cell_type": "raw",
   "id": "451c49f0",
   "metadata": {},
   "source": [
    "QUES->17. How do you distinguish between copy.copy() and copy.deepcopy()?\n",
    "\n",
    "ANS->\n",
    "copy.copy() (Shallow Copy):\n",
    "The copy.copy() function creates a shallow copy of an object. Shallow copy means that a new object is created, but the contents of the object are still references to the same elements as the original object. In other words, it creates a new object with references to the original nested objects. If the nested objects are mutable, changes made to them will be reflected in both the original and copied objects.\n",
    "\n",
    "copy.deepcopy() (Deep Copy):\n",
    "The copy.deepcopy() function creates a deep copy of an object. Deep copy means that a new object is created, and the contents of the object are recursively copied, including all nested objects. In other words, it creates completely independent copies of the original object and its nested objects. Changes made to the copied object will not affect the original object or any other copies.\n"
   ]
  },
  {
   "cell_type": "code",
   "execution_count": 27,
   "id": "e3cddf5f",
   "metadata": {},
   "outputs": [
    {
     "name": "stdout",
     "output_type": "stream",
     "text": [
      "[100, [2, 3, 4]]\n",
      "[1, [2, 3, 4]]\n",
      "[100, [2, 3, 4]]\n",
      "[1, [2, 3]]\n"
     ]
    }
   ],
   "source": [
    "#example:\n",
    "\n",
    "import copy\n",
    "\n",
    "original_list = [1, [2, 3]]\n",
    "copied_list = copy.copy(original_list)\n",
    "\n",
    "original_list[0] = 100  # Modify original_list\n",
    "original_list[1].append(4)  # Modify nested list in original_list\n",
    "\n",
    "print(original_list) \n",
    "print(copied_list)  \n",
    "\n",
    "\n",
    "\n",
    "#Deepcopy\n",
    "original_list = [1, [2, 3]]\n",
    "copied_list = copy.deepcopy(original_list)\n",
    "\n",
    "original_list[0] = 100  # Modify original_list\n",
    "original_list[1].append(4)  # Modify nested list in original_list\n",
    "\n",
    "print(original_list) \n",
    "print(copied_list)  \n"
   ]
  },
  {
   "cell_type": "code",
   "execution_count": null,
   "id": "5226440c",
   "metadata": {},
   "outputs": [],
   "source": []
  },
  {
   "cell_type": "code",
   "execution_count": null,
   "id": "caa345d0",
   "metadata": {},
   "outputs": [],
   "source": []
  }
 ],
 "metadata": {
  "kernelspec": {
   "display_name": "Python 3 (ipykernel)",
   "language": "python",
   "name": "python3"
  },
  "language_info": {
   "codemirror_mode": {
    "name": "ipython",
    "version": 3
   },
   "file_extension": ".py",
   "mimetype": "text/x-python",
   "name": "python",
   "nbconvert_exporter": "python",
   "pygments_lexer": "ipython3",
   "version": "3.10.9"
  }
 },
 "nbformat": 4,
 "nbformat_minor": 5
}
