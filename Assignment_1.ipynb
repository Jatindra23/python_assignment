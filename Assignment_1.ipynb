QUES->1. In the below elements which of them are values or an expression? eg:- values can be integer or string and expressions will be mathematical operators.
* 
'hello'
-87.8
-,
/, 
+,	
6 


ANS->

'hello' is a string which means it is a value, in python string is categorized as value.
-87.5 is an integer which means it is a value, in python a number is also categorized as a value.
'-' it is a minus sign operator which means it is an expression.
/ it is a division sign operator which means it is an expression.
+ it is a plus sign operator which means it is an expression.
6  is a positive integer which means it is an value.
  
  

QUES->2. What is the difference between string and variable?

ANS->

String is a data type in python and it is denoted in quotation marks " " or ''.
string can be a word or sentence or alphabet and if you write anything inside the quotations it will be
read as string. String is a mutable data type.
eg-'ineuron','a','34' etc are some examples
    
Variables are like storage area for the data types. data types are assigned to the variables.
for ex- fruit='apple',number=56 
    
so, particular name will be given to the variable and it should not start with a integer or some regular
expression.
    
so, the difference between string and variable is, string is a data type which is represented in quotations
and variable is name storage location in which data types are stored using a assignment operator. 



QUES->3. Describe three different data types.

ANS->
There are many inbuilt datatypes in Python such as integer, string, tuples, list etc.

1. Lists:
- Lists are ordered and mutable sequences of elements.
- Elements within a list are enclosed in square brackets ([]).
- Lists can contain elements of different data types.
- Elements in a list can be modified, added, or removed.
- Example: my_list = [1, 2, "three", 4.5]

2. Tuples:
- Tuples are ordered and immutable sequences of elements.
- Elements within a tuple are enclosed in parentheses ().
- Tuples can contain elements of different data types.
- Elements in a tuple cannot be modified once defined.
- Example: my_tuple = (1, 2, "three", 4.5)

3. Dictionaries:
- Dictionaries are unordered collections of key-value pairs.
- Each element (or item) in a dictionary is accessed by its key.
- Elements within a dictionary are enclosed in curly braces ({}) and separated by commas.
- Keys are unique, and they can be of any immutable data type (strings, numbers, tuples).
- Example: my_dict = {"name": "John", "age": 25, "city": "London"}

These data types provide flexibility for storing and manipulating different kinds of data in Python.


QUES->4. What is an expression made up of? What do all expressions do?


ANS->

An Expression is made up of operators, operands and other expressions.
    
operators are arthematic signs like +,-,/,*,//,<,> etc.
operands are the numeric values assigned before and after operators.

Expressions are used to give an informative output to solve a problem
using operators and operands.
    
Ex: 2+2, it is an expression to add to numbers
5>3, it is an expression to give which number is greater or smaller.
5*(5/4) is also an expression.
        
     

QUES->5. This assignment statements, like spam = 10. What is the difference between an expression and a statement?


ANS->

Expressions-> it is the combination of values variables and operators and functions, when evaluated produces a 
result or value.
     
Expressions are meant to be evaluated and yield a value
     
ex: (2*3)+3 , math.sqrt(18)
     

Statement-> it is a complete instruction that performs an action it usually consist of one or more expression and can also      include control flow loops and conditional.
     
statements are executed by python interpreter to perform a specific task and carry out an action.
ex of statements: (if, else, while) staements and assignment statement-> spam = 10. in the assignment statement it is a          instruction where value 10 is assign to the variable spam.
    

QUES->6. After running the following code, what does the variable bacon contain?
bacon = 22
bacon + 1


ANS->

after executing the code it shows the value 23, but the value is not assigned in the variable bacon.
when we exectue the variable name it still shows the  value 22.
     
To get the +1 result in the variable name bacon we have to assign the value in the variable bacon
     
bacon = 22
bacon+=1
or
bacon=bacon+1
     

QUES->7. What should the values of the following two terms be?
'spam' + 'spamspam'
'spam' * 3


ANS->

The values of the two terms would be as follows:

1. 'spam' + 'spamspam':
The + operator, when used with strings, performs concatenation. So the result of 'spam' + 'spamspam' would be the string        'spamspamspam'. It concatenates the string 'spam' with the string 'spamspam', resulting in the string 'spamspamspam'.

2. 'spam' * 3:
The * operator, when used with a string and an integer, repeats the string a specified number of times. In this case,           'spam'* 3 means repeating the string 'spam' three times. The result would be the string 'spamspamspam'.

Therefore, the values of the two terms are both 'spamspamspam'.


QUES->8. Why is eggs a valid variable name while 100 is invalid?


ANS->

Valid variable names:

Must start with a letter (a-z, A-Z) or an underscore (_).
Can be followed by letters, digits (0-9), or underscores.
Cannot be a reserved keyword in Python (e.g., 'if', 'for', 'while').
       
Explanation for 'eggs':

The variable name 'eggs' starts with a letter ('e') and is followed by additional letters, making it a valid variable name       according to the rules.
It does not conflict with any reserved keywords.
    
Explanation for '100':

The variable name '100' starts with a digit ('1'), violating the rule that variable names must begin with a letter or            underscore.
Variable names cannot start with digits in Python, as they are reserved for numeric literals.


QUES->9. What three functions can be used to get the integer, floating-point number, or string version of a value?



ANS->

In Python, you can use the following three functions to obtain the integer, floating-point number, or string version of a value:

Integer: int()

The int() function can be used to convert a value into an integer.
If the value is a floating-point number, it will be truncated (rounded towards zero) to the nearest integer.
If the value is a string representation of an integer, it will be converted to an integer.
Example: int(3.14) returns 3, int("42") returns 42.
     
     
Floating-point number: float()

The float() function can be used to convert a value into a floating-point number.
If the value is an integer, it will be converted to a floating-point number.
If the value is a string representation of a number, it will be converted to a floating-point number.
Example: float(5) returns 5.0, float("3.14") returns 3.14.
     
String: str()

The str() function can be used to convert a value into its string representation.
It returns a string version of the value, regardless of its original type.
Example: str(42) returns "42", str(3.14) returns "3.14".

QUES->10. Why does this expression cause an error? How can you fix it?
'I have eaten ' + 99 + ' burritos.'


ANS->

The expression 'I have eaten ' + 99 + ' burritos.' causes an error because it attempts to concatenate a string ('I have          eaten ') with an integer (99) directly. In Python, the + operator is used for concatenating two strings, but it cannot          concatenate a string with an integer without explicit conversion.

To fix the error and concatenate the integer value with the string, you need to convert the integer into a string before        concatenating. You can achieve this by using the str() function to convert the integer to its string representation. Here's      the corrected expression: 'I have eaten' + str(99) + 'burritos.'
            

    


