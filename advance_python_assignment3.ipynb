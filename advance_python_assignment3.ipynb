{
 "cells": [
  {
   "cell_type": "markdown",
   "id": "a7ecb057",
   "metadata": {},
   "source": [
    "1. **Concept of an Abstract Superclass:**\n",
    "\n",
    "ANS->\n",
    "An abstract superclass is a class that is not meant to be instantiated directly, but serves as a blueprint for other classes. It defines a common interface and may also provide default implementations of certain methods. Subclasses that inherit from an abstract superclass are expected to implement the methods defined in the superclass. Abstract superclasses are typically used to establish a common structure and behavior for a group of related classes.\n",
    "\n",
    "2. **Class Statement's Top Level and Basic Assignment:**\n",
    "\n",
    "ANS->\n",
    "When a class statement's top level contains a basic assignment statement (assigning a value to a variable without being part of a method or attribute), that assignment is treated as a class-level attribute. This means the variable becomes a class attribute that is shared among all instances of the class. It can be accessed using the class name or through any instance of the class.\n",
    "\n",
    "3. **Manually Calling a Superclass's __init__ Method:**\n",
    "\n",
    "ANS->\n",
    "In cases of inheritance, when a subclass wants to utilize the initialization logic of its superclass, it needs to explicitly call the superclass's `__init__` method. This is typically done using the `super()` function. This allows the subclass to inherit and extend the initialization behavior of the superclass, ensuring that the complete initialization process is carried out.\n",
    "\n",
    "4. **Augmenting an Inherited Method:**\n",
    "\n",
    "ANS->\n",
    "To augment an inherited method without completely replacing it, you can achieve method overriding. In your subclass, you can define a method with the same name as the method in the superclass. Within this method, you can use the `super()` function to call the parent class's method and then add or modify behavior before or after the call. This way, you maintain the original behavior while extending or modifying it as needed.\n",
    "\n",
    "5. **Local Scope of a Class vs. Function:**\n",
    "\n",
    "ANS->\n",
    "The local scope within a class is where you define class attributes, methods, and nested classes. This scope is shared among all instances of the class, and it defines the structure and behavior of the class.\n",
    "The local scope of a function, on the other hand, is where you define variables and logic specific to that function. It exists only during the function's execution and is destroyed once the function completes.\n",
    "In essence, the class scope defines the structure of objects and their behaviors, while the function scope is more focused on performing specific tasks."
   ]
  },
  {
   "cell_type": "code",
   "execution_count": null,
   "id": "56049fe3",
   "metadata": {},
   "outputs": [],
   "source": []
  }
 ],
 "metadata": {
  "kernelspec": {
   "display_name": "Python 3 (ipykernel)",
   "language": "python",
   "name": "python3"
  },
  "language_info": {
   "codemirror_mode": {
    "name": "ipython",
    "version": 3
   },
   "file_extension": ".py",
   "mimetype": "text/x-python",
   "name": "python",
   "nbconvert_exporter": "python",
   "pygments_lexer": "ipython3",
   "version": "3.10.9"
  }
 },
 "nbformat": 4,
 "nbformat_minor": 5
}
