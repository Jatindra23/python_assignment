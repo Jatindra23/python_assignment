{
 "cells": [
  {
   "cell_type": "code",
   "execution_count": 5,
   "id": "f554e24c",
   "metadata": {},
   "outputs": [
    {
     "name": "stdout",
     "output_type": "stream",
     "text": [
      "Enter a value for n: 35\n",
      "0,35\n"
     ]
    }
   ],
   "source": [
    "# Question 1:\n",
    "# Please write a program using generator to print the numbers which can be divisible by 5 and\n",
    "# 7 between 0 and n in comma separated form while n is input by console.\n",
    "\n",
    "def divisible_by_5_and_7_generator(n):\n",
    "    for num in range(n + 1):\n",
    "        if num % 5 == 0 and num % 7 == 0:\n",
    "            yield num\n",
    "\n",
    "n = int(input(\"Enter a value for n: \"))\n",
    "result = divisible_by_5_and_7_generator(n)\n",
    "output = \",\".join(str(val) for val in result)\n",
    "print(output)\n"
   ]
  },
  {
   "cell_type": "code",
   "execution_count": 7,
   "id": "c5f28d45",
   "metadata": {},
   "outputs": [
    {
     "name": "stdout",
     "output_type": "stream",
     "text": [
      "Enter a value for n: 20\n",
      "0,2,4,6,8,10,12,14,16,18,20\n"
     ]
    }
   ],
   "source": [
    "# Question 2:\n",
    "# Please write a program using generator to print the even numbers between 0 and n in comma\n",
    "# separated form while n is input by console.\n",
    "\n",
    "def even_numbers_generator(n):\n",
    "    for num in range(0, n + 1, 2):\n",
    "        yield num\n",
    "\n",
    "n = int(input(\"Enter a value for n: \"))\n",
    "result = even_numbers_generator(n)\n",
    "output = \",\".join(str(val) for val in result)\n",
    "print(output)\n"
   ]
  },
  {
   "cell_type": "code",
   "execution_count": 12,
   "id": "351c8337",
   "metadata": {},
   "outputs": [
    {
     "name": "stdout",
     "output_type": "stream",
     "text": [
      "Enter a value for n: 10\n",
      "0,1,1,2,3,5,8,13,21,34,55\n"
     ]
    }
   ],
   "source": [
    "# Question 3:\n",
    "# The Fibonacci Sequence is computed based on the following formula:\n",
    "# f(n)=0 if n=0\n",
    "# f(n)=1 if n=1\n",
    "# f(n)=f(n-1)+f(n-2) if n&gt;1\n",
    "# Please write a program using list comprehension to print the Fibonacci Sequence in comma\n",
    "# separated form with a given n input by console.\n",
    "\n",
    "def fibonacci_sequence(n):\n",
    "    fib = [0, 1]\n",
    "    [fib.append(fib[-1] + fib[-2]) for _ in range(2, n + 1)]\n",
    "    return fib\n",
    "\n",
    "n = int(input(\"Enter a value for n: \"))\n",
    "fib_sequence = fibonacci_sequence(n)\n",
    "output = \",\".join(map(str, fib_sequence))\n",
    "print(output)\n"
   ]
  },
  {
   "cell_type": "code",
   "execution_count": 14,
   "id": "5658c80e",
   "metadata": {},
   "outputs": [
    {
     "name": "stdout",
     "output_type": "stream",
     "text": [
      "Enter an email address: gajodhar@mirzapur.com\n",
      "gajodhar\n"
     ]
    }
   ],
   "source": [
    "# Question 4:\n",
    "# Assuming that we have some email addresses in the &quot;username@companyname.com&quot; format,\n",
    "# please write program to print the user name of a given email address. Both user names and\n",
    "# company names are composed of letters only.\n",
    "\n",
    "email_address = input(\"Enter an email address: \")\n",
    "user_name = email_address.split('@')[0]\n",
    "print(user_name)\n"
   ]
  },
  {
   "cell_type": "code",
   "execution_count": 17,
   "id": "4a9329a2",
   "metadata": {},
   "outputs": [
    {
     "name": "stdout",
     "output_type": "stream",
     "text": [
      "Area of the Shape: 0\n",
      "Area of the Square: 25\n"
     ]
    }
   ],
   "source": [
    "# Question 5:\n",
    "# Define a class named Shape and its subclass Square. The Square class has an init function\n",
    "# which takes a length as argument. Both classes have a area function which can print the area\n",
    "# of the shape where Shape's area is 0 by default.\n",
    "\n",
    "class Shape:\n",
    "    def area(self):\n",
    "        return 0\n",
    "\n",
    "class Square(Shape):\n",
    "    def __init__(self, length):\n",
    "        self.length = length\n",
    "    \n",
    "    def area(self):\n",
    "        return self.length ** 2\n",
    "\n",
    "# Creating instances of the classes\n",
    "shape = Shape()\n",
    "square = Square(5)\n",
    "\n",
    "# Calling the area methods\n",
    "print(\"Area of the Shape:\", shape.area())  \n",
    "print(\"Area of the Square:\", square.area()) \n"
   ]
  }
 ],
 "metadata": {
  "kernelspec": {
   "display_name": "Python 3 (ipykernel)",
   "language": "python",
   "name": "python3"
  },
  "language_info": {
   "codemirror_mode": {
    "name": "ipython",
    "version": 3
   },
   "file_extension": ".py",
   "mimetype": "text/x-python",
   "name": "python",
   "nbconvert_exporter": "python",
   "pygments_lexer": "ipython3",
   "version": "3.10.9"
  }
 },
 "nbformat": 4,
 "nbformat_minor": 5
}
