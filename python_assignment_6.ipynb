{
 "cells": [
  {
   "cell_type": "raw",
   "id": "969f541d",
   "metadata": {},
   "source": [
    "QUES->1. What are escape characters, and how do you use them?\n",
    "\n",
    "ANS->\n",
    "Escape characters are special characters that are used to represent certain actions or characters that are difficult to type or include in a string directly. They are usually represented by a backslash () followed by a character or code. They allow you to include characters such as quotes, backslashes, or line breaks in a string."
   ]
  },
  {
   "cell_type": "raw",
   "id": "343387b0",
   "metadata": {},
   "source": [
    "QUES->2. What do the escape characters n and t stand for?\n",
    "\n",
    "ANS->\n",
    "The escape character '\\n' represents a newline, and the escape character '\\t' represents a tab.\n",
    "\n"
   ]
  },
  {
   "cell_type": "raw",
   "id": "bef31551",
   "metadata": {},
   "source": [
    "QUES->3. What is the way to include backslash characters in a string?\n",
    "\n",
    "ANS->\n",
    "To include a backslash character in a string, you need to use a double backslash (\\). For example, to include a single backslash in a string, you would write it as '\\'."
   ]
  },
  {
   "cell_type": "raw",
   "id": "1001e44f",
   "metadata": {},
   "source": [
    "QUES->4. The string \"Howl's Moving Castle\" is a correct value. Why isn't the single quote character in the word Howl's not escaped a problem?\n",
    "\n",
    "\n",
    "ANS->\n",
    "The single quote character (') in the word \"Howl's\" is not a problem because it is surrounded by double quotes (\") to define the string. In Python, you can use either single quotes or double quotes to define a string. So, if the string is defined using double quotes, the single quote character can be used without escaping it. Similarly, if the string is defined using single quotes, double quote characters can be used without escaping them."
   ]
  },
  {
   "cell_type": "raw",
   "id": "146e76f9",
   "metadata": {},
   "source": [
    "QUES->5. How do you write a string of newlines if you don't want to use the n character?\n",
    "\n",
    "\n",
    "ANS->\n",
    "If you don't want to use the '\\n' character to represent newlines in a string, you can use triple quotes (''' or \"\"\") to define a multiline string.\n"
   ]
  },
  {
   "cell_type": "code",
   "execution_count": 1,
   "id": "145c20ea",
   "metadata": {},
   "outputs": [],
   "source": [
    "#example:\n",
    "\n",
    "multiline_string = '''\n",
    "This is a string\n",
    "with multiple lines.\n",
    "'''\n"
   ]
  },
  {
   "cell_type": "raw",
   "id": "49f6c581",
   "metadata": {},
   "source": [
    "QUES->6. What are the values of the given expressions?\n",
    "'Hello, world!'[1]\n",
    "'Hello, world!'[0:5]\n",
    "'Hello, world!'[:5]\n",
    "'Hello, world!'[3:]\n",
    "\n",
    "\n",
    "\n",
    "ANS->\n",
    "The values of the given expressions are:\n",
    "'Hello, world!'[1]: The expression selects the character at index 1, which is 'e'.\n",
    "'Hello, world!'[0:5]: The expression selects the characters from index 0 to 4 (excluding 5), resulting in 'Hello'.\n",
    "'Hello, world!'[:5]: The expression is the same as the previous one, as omitting the starting index defaults to 0.\n",
    "'Hello, world!'[3:]: The expression selects the characters from index 3 to the end of the string, resulting in 'lo, world!'."
   ]
  },
  {
   "cell_type": "code",
   "execution_count": 3,
   "id": "23a3f2fb",
   "metadata": {},
   "outputs": [
    {
     "name": "stdout",
     "output_type": "stream",
     "text": [
      "e\n",
      "Hello\n",
      "Hello\n",
      "lo, world!\n"
     ]
    }
   ],
   "source": [
    "#ans:\n",
    "print('Hello, world!'[1])\n",
    "print('Hello, world!'[0:5])\n",
    "print('Hello, world!'[:5])\n",
    "print('Hello, world!'[3:])"
   ]
  },
  {
   "cell_type": "raw",
   "id": "0857b77b",
   "metadata": {},
   "source": [
    "QUES->7. What are the values of the following expressions?\n",
    "'Hello'.upper()\n",
    "'Hello'.upper().isupper()\n",
    "'Hello'.upper().lower()\n",
    "\n",
    "\n",
    "ANS->\n",
    "The values of the following expressions are:\n",
    "'Hello'.upper(): This expression converts the string to uppercase, resulting in 'HELLO'.\n",
    "'Hello'.upper().isupper(): This expression first converts the string to uppercase and then checks if all the characters are uppercase. It returns True.\n",
    "'Hello'.upper().lower(): This expression first converts the string to uppercase and then converts it back to lowercase, resulting in 'hello'.\n"
   ]
  },
  {
   "cell_type": "code",
   "execution_count": 4,
   "id": "14650e75",
   "metadata": {},
   "outputs": [
    {
     "name": "stdout",
     "output_type": "stream",
     "text": [
      "HELLO\n",
      "True\n",
      "hello\n"
     ]
    }
   ],
   "source": [
    "#ans:\n",
    "\n",
    "print('Hello'.upper())\n",
    "print('Hello'.upper().isupper())\n",
    "print('Hello'.upper().lower())\n"
   ]
  },
  {
   "cell_type": "raw",
   "id": "07c44d87",
   "metadata": {},
   "source": [
    "QUES->8. What are the values of the following expressions?\n",
    "'Remember, remember, the fifth of July.'.split()\n",
    "'-'.join('There can only one.'.split())\n",
    "\n",
    "\n",
    "ANS->\n",
    "The values of the following expressions are:\n",
    "'Remember, remember, the fifth of July.'.split(): This expression splits the string into a list of substrings at each occurrence of a space character. The resulting list is ['Remember,', 'remember,', 'the', 'fifth', 'of', 'July.'].\n",
    "'-'.join('There can only one.'.split()): This expression splits the string into a list of substrings at each occurrence of a space character, then joins the substrings back together using a hyphen as the separator. The resulting string is 'There-can-only-one.'."
   ]
  },
  {
   "cell_type": "code",
   "execution_count": 7,
   "id": "5d529b6b",
   "metadata": {},
   "outputs": [
    {
     "name": "stdout",
     "output_type": "stream",
     "text": [
      "['Remember,', 'remember,', 'the', 'fifth', 'of', 'July.']\n",
      "There-can-only-one.\n"
     ]
    }
   ],
   "source": [
    "print('Remember, remember, the fifth of July.'.split())\n",
    "print('-'.join('There can only one.'.split()))"
   ]
  },
  {
   "cell_type": "raw",
   "id": "5d6478db",
   "metadata": {},
   "source": [
    "QUES->9. What are the methods for right-justifying, left-justifying, and centering a string?\n",
    "\n",
    "\n",
    "ANS->\n",
    "Right-justifying: The str.rjust(width) method is used to right-justify a string by adding spaces to the left of the string until it reaches the specified width. For example, 'Hello'.rjust(10) would return ' Hello'.\n",
    "\n",
    "Left-justifying: The str.ljust(width) method is used to left-justify a string by adding spaces to the right of the string until it reaches the specified width. For example, 'Hello'.ljust(10) would return 'Hello '.\n",
    "\n"
   ]
  },
  {
   "cell_type": "code",
   "execution_count": 12,
   "id": "0c92d3c0",
   "metadata": {},
   "outputs": [
    {
     "name": "stdout",
     "output_type": "stream",
     "text": [
      "     Hello\n",
      "Hello     \n"
     ]
    }
   ],
   "source": [
    "print('Hello'.rjust(10)) # giving spaces on left\n",
    "\n",
    "print('Hello'.ljust(10)) # giving spaces on right"
   ]
  },
  {
   "cell_type": "raw",
   "id": "4a926f5f",
   "metadata": {},
   "source": [
    "QUES->10. What is the best way to remove whitespace characters from the start or end?\n",
    "\n",
    "ANS->\n",
    "In Python, the strip() method is commonly used to remove whitespace characters from the start and end of a string. The strip() method removes any leading (at the start) and trailing (at the end) whitespace characters, including spaces, tabs, and newline characters.\n",
    "\n",
    "The lstrip() method removes only the leading whitespace characters but retains any trailing whitespace.\n",
    "\n",
    "Similarly, if we want to remove only trailing whitespace characters, we can use the rstrip() method."
   ]
  },
  {
   "cell_type": "code",
   "execution_count": 14,
   "id": "b362fae1",
   "metadata": {},
   "outputs": [
    {
     "name": "stdout",
     "output_type": "stream",
     "text": [
      "Hello, World!  \n",
      "  Hello, World!\n",
      "Hello, World!  \n"
     ]
    }
   ],
   "source": [
    "#example:\n",
    "\n",
    "\n",
    "text = \"  Hello, World!  \"\n",
    "left_trimmed_text = text.lstrip()\n",
    "print(left_trimmed_text) \n",
    "\n",
    "\n",
    "text = \"  Hello, World!  \"\n",
    "right_trimmed_text = text.rstrip()\n",
    "print(right_trimmed_text) \n",
    "\n",
    "\n",
    "text = \"  Hello, World!  \"\n",
    "left_trimmed_text = text.lstrip()\n",
    "print(left_trimmed_text) \n"
   ]
  }
 ],
 "metadata": {
  "kernelspec": {
   "display_name": "Python 3 (ipykernel)",
   "language": "python",
   "name": "python3"
  },
  "language_info": {
   "codemirror_mode": {
    "name": "ipython",
    "version": 3
   },
   "file_extension": ".py",
   "mimetype": "text/x-python",
   "name": "python",
   "nbconvert_exporter": "python",
   "pygments_lexer": "ipython3",
   "version": "3.10.9"
  }
 },
 "nbformat": 4,
 "nbformat_minor": 5
}
