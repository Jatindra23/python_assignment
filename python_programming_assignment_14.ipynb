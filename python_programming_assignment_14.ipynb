{
 "cells": [
  {
   "cell_type": "code",
   "execution_count": 1,
   "id": "8744127e",
   "metadata": {},
   "outputs": [
    {
     "name": "stdout",
     "output_type": "stream",
     "text": [
      "Enter a value for n: 50\n",
      "Numbers divisible by 7 within the range 0 to 50 :\n",
      "0 7 14 21 28 35 42 49 "
     ]
    }
   ],
   "source": [
    "# Question 1:\n",
    "# Define a class with a generator which can iterate the numbers, which are divisible by\n",
    "# 7, between a given range 0 and n.\n",
    "\n",
    "class DivisibleBySevenGenerator:\n",
    "    def __init__(self, n):\n",
    "        self.n = n\n",
    "    \n",
    "    def generate_divisible_by_seven(self):\n",
    "        for num in range(self.n + 1):\n",
    "            if num % 7 == 0:\n",
    "                yield num\n",
    "\n",
    "n = int(input(\"Enter a value for n: \"))\n",
    "generator = DivisibleBySevenGenerator(n)\n",
    "divisible_by_seven_numbers = generator.generate_divisible_by_seven()\n",
    "\n",
    "print(\"Numbers divisible by 7 within the range 0 to\", n, \":\")\n",
    "for num in divisible_by_seven_numbers:\n",
    "    print(num, end=\" \")\n"
   ]
  },
  {
   "cell_type": "code",
   "execution_count": 2,
   "id": "bc029d38",
   "metadata": {},
   "outputs": [
    {
     "name": "stdout",
     "output_type": "stream",
     "text": [
      "Enter a sentence: New to Python or choosing between Python 2 and Python 3? Read Python 2 or Python 3.\n",
      "2:2\n",
      "3.:1\n",
      "3?:1\n",
      "New:1\n",
      "Python:5\n",
      "Read:1\n",
      "and:1\n",
      "between:1\n",
      "choosing:1\n",
      "or:2\n",
      "to:1\n"
     ]
    }
   ],
   "source": [
    "# Question 2:\n",
    "# Write a program to compute the frequency of the words from the input. The output\n",
    "# should output after sorting the key alphanumerically.\n",
    "\n",
    "from collections import Counter\n",
    "\n",
    "input_text = input(\"Enter a sentence: \")\n",
    "words = input_text.split()\n",
    "word_count = Counter(words)\n",
    "\n",
    "sorted_word_count = sorted(word_count.items())\n",
    "\n",
    "for word, count in sorted_word_count:\n",
    "    print(f\"{word}:{count}\")\n"
   ]
  },
  {
   "cell_type": "code",
   "execution_count": 3,
   "id": "fb59fe49",
   "metadata": {},
   "outputs": [
    {
     "name": "stdout",
     "output_type": "stream",
     "text": [
      "Person's gender: Unknown\n",
      "Male's gender: Male\n",
      "Female's gender: Female\n"
     ]
    }
   ],
   "source": [
    "# Question 3:\n",
    "\n",
    "# Define a class Person and its two child classes: Male and Female. All classes have a\n",
    "# method getGender which can print 'Male' for Male class and Female for Female\n",
    "# class.\n",
    "\n",
    "class Person:\n",
    "    def getGender(self):\n",
    "        return \"Unknown\"\n",
    "\n",
    "class Male(Person):\n",
    "    def getGender(self):\n",
    "        return \"Male\"\n",
    "\n",
    "class Female(Person):\n",
    "    def getGender(self):\n",
    "        return \"Female\"\n",
    "\n",
    "# Creating instances of the child classes\n",
    "person1 = Person()\n",
    "male1 = Male()\n",
    "female1 = Female()\n",
    "\n",
    "# Calling the getGender method on instances\n",
    "print(\"Person's gender:\", person1.getGender())  \n",
    "print(\"Male's gender:\", male1.getGender())      \n",
    "print(\"Female's gender:\", female1.getGender())  \n"
   ]
  },
  {
   "cell_type": "code",
   "execution_count": 4,
   "id": "53b1f674",
   "metadata": {},
   "outputs": [
    {
     "name": "stdout",
     "output_type": "stream",
     "text": [
      "I Play Hockey.\n",
      "I Play Football.\n",
      "I Love Hockey.\n",
      "I Love Football.\n",
      "You Play Hockey.\n",
      "You Play Football.\n",
      "You Love Hockey.\n",
      "You Love Football.\n"
     ]
    }
   ],
   "source": [
    "#Question 4\n",
    "# Please write a program to generate all sentences where subject is in [I,You] and\n",
    "# verb is in ['Play','Love'] and the object is in ['Hockey','Football'].\n",
    "\n",
    "subjects = [\"I\", \"You\"]\n",
    "verbs = [\"Play\", \"Love\"]\n",
    "objects = [\"Hockey\", \"Football\"]\n",
    "\n",
    "sentences = []\n",
    "\n",
    "for subject in subjects:\n",
    "    for verb in verbs:\n",
    "        for obj in objects:\n",
    "            sentence = f\"{subject} {verb} {obj}.\"\n",
    "            sentences.append(sentence)\n",
    "\n",
    "for sentence in sentences:\n",
    "    print(sentence)\n"
   ]
  },
  {
   "cell_type": "code",
   "execution_count": 6,
   "id": "b4cbd269",
   "metadata": {},
   "outputs": [
    {
     "name": "stdout",
     "output_type": "stream",
     "text": [
      "Compressed data: b'x\\x9c\\xcbH\\xcd\\xc9\\xc9W(\\xcf/\\xcaIQ\\xcc \\x82\\r\\x00\\xbd[\\x11\\xf5'\n",
      "Decompressed data: hello world!hello world!hello world!hello world!\n"
     ]
    }
   ],
   "source": [
    "# Question 5:\n",
    "# Please write a program to compress and decompress the string 'hello world!hello\n",
    "# world!hello world!hello world!'.\n",
    "\n",
    "import zlib\n",
    "\n",
    "input_string = \"hello world!hello world!hello world!hello world!\"\n",
    "compressed_data = zlib.compress(input_string.encode())\n",
    "print(\"Compressed data:\", compressed_data)\n",
    "\n",
    "decompressed_data = zlib.decompress(compressed_data).decode()\n",
    "print(\"Decompressed data:\", decompressed_data)\n"
   ]
  },
  {
   "cell_type": "code",
   "execution_count": 7,
   "id": "c336bd14",
   "metadata": {},
   "outputs": [
    {
     "name": "stdout",
     "output_type": "stream",
     "text": [
      "Item 7 found at index 3.\n"
     ]
    }
   ],
   "source": [
    "# Question 6:\n",
    "# Please write a binary search function which searches an item in a sorted list. The\n",
    "# function should return the index of element to be searched in the list.\n",
    "\n",
    "\n",
    "def binary_search(sorted_list, target):\n",
    "    left, right = 0, len(sorted_list) - 1\n",
    "\n",
    "    while left <= right:\n",
    "        mid = left + (right - left) // 2\n",
    "\n",
    "        if sorted_list[mid] == target:\n",
    "            return mid\n",
    "        elif sorted_list[mid] < target:\n",
    "            left = mid + 1\n",
    "        else:\n",
    "            right = mid - 1\n",
    "\n",
    "    return -1\n",
    "\n",
    "sorted_list = [1, 3, 5, 7, 9, 11, 13, 15]\n",
    "target = 7\n",
    "index = binary_search(sorted_list, target)\n",
    "\n",
    "if index != -1:\n",
    "    print(f\"Item {target} found at index {index}.\")\n",
    "else:\n",
    "    print(f\"Item {target} not found in the list.\")\n"
   ]
  },
  {
   "cell_type": "code",
   "execution_count": null,
   "id": "f88a4f06",
   "metadata": {},
   "outputs": [],
   "source": []
  }
 ],
 "metadata": {
  "kernelspec": {
   "display_name": "Python 3 (ipykernel)",
   "language": "python",
   "name": "python3"
  },
  "language_info": {
   "codemirror_mode": {
    "name": "ipython",
    "version": 3
   },
   "file_extension": ".py",
   "mimetype": "text/x-python",
   "name": "python",
   "nbconvert_exporter": "python",
   "pygments_lexer": "ipython3",
   "version": "3.10.9"
  }
 },
 "nbformat": 4,
 "nbformat_minor": 5
}
