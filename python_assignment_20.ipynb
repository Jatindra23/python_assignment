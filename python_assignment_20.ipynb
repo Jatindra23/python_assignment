{
 "cells": [
  {
   "cell_type": "code",
   "execution_count": 13,
   "id": "19a5467d",
   "metadata": {},
   "outputs": [],
   "source": [
    "#QUES->1. Set the variable test1 to the string 'This is a test of the emergency text system,' and save test1 to a file named test.txt.\n",
    "\n",
    "#ANS->\n",
    "\n",
    "test1 = 'This is a test of the emergency text system'\n",
    "with open('test.txt', 'w') as file:\n",
    "    file.write(test1)\n"
   ]
  },
  {
   "cell_type": "code",
   "execution_count": 14,
   "id": "6ca995d3",
   "metadata": {},
   "outputs": [
    {
     "name": "stdout",
     "output_type": "stream",
     "text": [
      "True\n"
     ]
    }
   ],
   "source": [
    "#QUES->2. Read the contents of the file test.txt into the variable test2. Is there a difference between test 1 and test 2?\n",
    "\n",
    "#ANS->\n",
    "\n",
    "with open('test.txt', 'r') as file:\n",
    "    test2 = file.read()\n",
    "\n",
    "print(test1 == test2)  # True if there's no difference, False otherwise\n"
   ]
  },
  {
   "cell_type": "code",
   "execution_count": 15,
   "id": "4e1c06c8",
   "metadata": {},
   "outputs": [],
   "source": [
    "#QUES->3. Create a CSV file called books.csv by using these lines:\n",
    "     #title,author,year\n",
    "     #The Weirdstone of Brisingamen,Alan Garner,1960\n",
    "     #Perdido Street Station,China Miéville,2000\n",
    "     #Thud!,Terry Pratchett,2005\n",
    "     #The Spellman Files,Lisa Lutz,2007\n",
    "     #Small Gods,Terry Pratchett,1992\n",
    "\n",
    "\n",
    "#ANS->\n",
    "\n",
    "import csv\n",
    "\n",
    "lines = [\n",
    "    ['title', 'author', 'year'],\n",
    "    ['The Weirdstone of Brisingamen', 'Alan Garner', '1960'],\n",
    "    ['Perdido Street Station', 'China Miéville', '2000'],\n",
    "    ['Thud!', 'Terry Pratchett', '2005'],\n",
    "    ['The Spellman Files', 'Lisa Lutz', '2007'],\n",
    "    ['Small Gods', 'Terry Pratchett', '1992']\n",
    "]\n",
    "\n",
    "with open('books.csv', 'w', newline='') as file:\n",
    "    writer = csv.writer(file)\n",
    "    writer.writerows(lines)\n"
   ]
  },
  {
   "cell_type": "code",
   "execution_count": 16,
   "id": "2af7a153",
   "metadata": {},
   "outputs": [],
   "source": [
    "#QUES->4. Use the sqlite3 module to create a SQLite database called books.db, and a table called books with these fields: title (text), author (text), and year (integer).\n",
    "\n",
    "#ANS->\n",
    "import sqlite3\n",
    "\n",
    "connection = sqlite3.connect('books.db')\n",
    "cursor = connection.cursor()\n",
    "\n",
    "cursor.execute('''CREATE TABLE books (\n",
    "                    title TEXT,\n",
    "                    author TEXT,\n",
    "                    year INTEGER\n",
    "                )''')\n",
    "\n",
    "connection.commit()\n",
    "connection.close()\n"
   ]
  },
  {
   "cell_type": "code",
   "execution_count": 17,
   "id": "ad4a5d7e",
   "metadata": {},
   "outputs": [],
   "source": [
    "#QUES->5. Read books.csv and insert its data into the book table.\n",
    "\n",
    "#ANS->\n",
    "\n",
    "import csv\n",
    "import sqlite3\n",
    "\n",
    "connection = sqlite3.connect('books.db')\n",
    "cursor = connection.cursor()\n",
    "\n",
    "with open('books.csv', 'r') as file:\n",
    "    reader = csv.reader(file)\n",
    "    next(reader)  # Skip the header row\n",
    "    for row in reader:\n",
    "        cursor.execute(\"INSERT INTO books VALUES (?, ?, ?)\", row)\n",
    "\n",
    "connection.commit()\n",
    "connection.close()\n"
   ]
  },
  {
   "cell_type": "code",
   "execution_count": 18,
   "id": "28fe12ac",
   "metadata": {},
   "outputs": [
    {
     "name": "stdout",
     "output_type": "stream",
     "text": [
      "Perdido Street Station\n",
      "Small Gods\n",
      "The Spellman Files\n",
      "The Weirdstone of Brisingamen\n",
      "Thud!\n"
     ]
    }
   ],
   "source": [
    "#QUES->6. Select and print the title column from the book table in alphabetical order.\n",
    "\n",
    "#ANS->\n",
    "\n",
    "import sqlite3\n",
    "\n",
    "connection = sqlite3.connect('books.db')\n",
    "cursor = connection.cursor()\n",
    "\n",
    "cursor.execute(\"SELECT title FROM books ORDER BY title\")\n",
    "\n",
    "results = cursor.fetchall()\n",
    "for row in results:\n",
    "    print(row[0])\n",
    "\n",
    "connection.close()\n"
   ]
  },
  {
   "cell_type": "code",
   "execution_count": 19,
   "id": "95ceaf7b",
   "metadata": {},
   "outputs": [
    {
     "name": "stdout",
     "output_type": "stream",
     "text": [
      "('The Weirdstone of Brisingamen', 'Alan Garner', 1960)\n",
      "('Small Gods', 'Terry Pratchett', 1992)\n",
      "('Perdido Street Station', 'China Miéville', 2000)\n",
      "('Thud!', 'Terry Pratchett', 2005)\n",
      "('The Spellman Files', 'Lisa Lutz', 2007)\n"
     ]
    }
   ],
   "source": [
    "#QUES->7. From the book table, select and print all columns in the order of publication.\n",
    "\n",
    "#ANS->\n",
    "import sqlite3\n",
    "\n",
    "connection = sqlite3.connect('books.db')\n",
    "cursor = connection.cursor()\n",
    "\n",
    "cursor.execute(\"SELECT * FROM books ORDER BY year\")\n",
    "\n",
    "results = cursor.fetchall()\n",
    "for row in results:\n",
    "    print(row)\n",
    "\n",
    "connection.close()\n"
   ]
  },
  {
   "cell_type": "code",
   "execution_count": 20,
   "id": "923847c5",
   "metadata": {},
   "outputs": [],
   "source": [
    "#QUES->8. Use the sqlalchemy module to connect to the sqlite3 database books.db that you just made in exercise 6.\n",
    "\n",
    "#ANS->\n",
    "from sqlalchemy import create_engine\n",
    "\n",
    "engine = create_engine('sqlite:///books.db')\n",
    "connection = engine.connect()\n"
   ]
  },
  {
   "cell_type": "code",
   "execution_count": 9,
   "id": "500c9fa9",
   "metadata": {},
   "outputs": [],
   "source": [
    "#QUES->9. Install the Redis server and the Python redis library (pip install redis) on your computer. Create a Redis hash called test with the fields count (1) and name ('Fester Bestertester'). Print all the fields for test.\n",
    "\n",
    "#ANS->\n",
    "\n",
    "import redis\n",
    "\n",
    "# Connect to Redis\n",
    "r = redis.Redis()\n",
    "\n",
    "# Create the Redis hash\n",
    "r.hset('test', 'count', 1)\n",
    "r.hset('test', 'name', 'jatindra paul')\n",
    "\n",
    "# Print all the fields for \"test\"\n",
    "fields = r.hgetall('test')\n",
    "for field, value in fields.items():\n",
    "    print(f'{field.decode()}: {value.decode()}')\n"
   ]
  },
  {
   "cell_type": "code",
   "execution_count": null,
   "id": "3dbc3d88",
   "metadata": {},
   "outputs": [],
   "source": [
    "#QUES->10. Increment the count field of test and print it.\n",
    "\n",
    "#ANS->\n",
    "\n",
    "# Increment the \"count\" field by 1\n",
    "r.hincrby('test', 'count', 1)\n",
    "\n",
    "# Print the updated \"count\" field\n",
    "count = r.hget('test', 'count')\n",
    "print(f'Updated count: {count.decode()}')\n"
   ]
  }
 ],
 "metadata": {
  "kernelspec": {
   "display_name": "Python 3 (ipykernel)",
   "language": "python",
   "name": "python3"
  },
  "language_info": {
   "codemirror_mode": {
    "name": "ipython",
    "version": 3
   },
   "file_extension": ".py",
   "mimetype": "text/x-python",
   "name": "python",
   "nbconvert_exporter": "python",
   "pygments_lexer": "ipython3",
   "version": "3.10.9"
  }
 },
 "nbformat": 4,
 "nbformat_minor": 5
}
