{
 "cells": [
  {
   "cell_type": "code",
   "execution_count": null,
   "id": "95867de5",
   "metadata": {},
   "outputs": [],
   "source": [
    "#QUES->1. Create a zoo.py file first. Define the hours() function, which prints the string 'Open 9-5 daily'. Then, use the interactive interpreter to import the zoo module and call its hours() function.\n",
    "\n",
    "#ANS->\n",
    "\n",
    "# zoo.py\n",
    "def hours():\n",
    "    print('Open 9-5 daily')\n",
    "        #create a zoo.py file and add the function in the file \n",
    "    \n",
    "    \n",
    "import zoo\n",
    "zoo.hours()\n",
    "\n"
   ]
  },
  {
   "cell_type": "code",
   "execution_count": 1,
   "id": "2e6a15bc",
   "metadata": {},
   "outputs": [],
   "source": [
    "#QUES->2. In the interactive interpreter, import the zoo module as menagerie and call its hours() function.\n",
    "\n",
    "#ANS->\n",
    "\n",
    "import zoo as menagerie\n",
    "\n",
    "menagerie.hours()\n",
    "\n",
    "\n"
   ]
  },
  {
   "cell_type": "code",
   "execution_count": 2,
   "id": "680d6652",
   "metadata": {},
   "outputs": [],
   "source": [
    "#QUES->3. Using the interpreter, explicitly import and call the hours() function from zoo.\n",
    "\n",
    "#ANS->\n",
    "\n",
    " from zoo import hours\n",
    "hours()\n",
    "\n"
   ]
  },
  {
   "cell_type": "code",
   "execution_count": 3,
   "id": "1781043b",
   "metadata": {},
   "outputs": [],
   "source": [
    "#QUES->4. Import the hours() function as info and call it.\n",
    "\n",
    "#ANS->\n",
    "\n",
    "from zoo import hours as info\n",
    "\n",
    "\n",
    "info() #calling the function as info \n",
    "\n"
   ]
  },
  {
   "cell_type": "code",
   "execution_count": 7,
   "id": "c665c488",
   "metadata": {},
   "outputs": [
    {
     "name": "stdout",
     "output_type": "stream",
     "text": [
      "{'a': 1, 'b': 2, 'c': 3}\n"
     ]
    }
   ],
   "source": [
    "#QUES->5. Create a plain dictionary with the key-value pairs 'a': 1, 'b': 2, and 'c': 3, and print it out.\n",
    "\n",
    "#ANS->\n",
    "\n",
    "plain = {'a': 1, 'b': 2, 'c': 3}\n",
    "print(plain)\n"
   ]
  },
  {
   "cell_type": "code",
   "execution_count": 8,
   "id": "308c9625",
   "metadata": {},
   "outputs": [
    {
     "name": "stdout",
     "output_type": "stream",
     "text": [
      "OrderedDict([('a', 1), ('b', 2), ('c', 3)])\n"
     ]
    }
   ],
   "source": [
    "#QUES->6.Make an OrderedDict called fancy from the same pairs listed in 5 and print it. Did it print in the same order as plain?\n",
    "\n",
    "#ANS->\n",
    "\n",
    "from collections import OrderedDict\n",
    "fancy = OrderedDict([('a', 1), ('b', 2), ('c', 3)])\n",
    "print(fancy)\n",
    "\n"
   ]
  },
  {
   "cell_type": "code",
   "execution_count": 9,
   "id": "640eb6e0",
   "metadata": {},
   "outputs": [
    {
     "name": "stdout",
     "output_type": "stream",
     "text": [
      "['something for a']\n"
     ]
    }
   ],
   "source": [
    "#QUES->7. Make a default dictionary called dict_of_lists and pass it the argument list. Make the list dict_of_lists['a'] and append the value 'something for a' to it in one assignment. Print dict_of_lists['a'].\n",
    "\n",
    "#ANS->\n",
    "\n",
    "from collections import defaultdict\n",
    "dict_of_lists = defaultdict(list)\n",
    "dict_of_lists['a'].append('something for a')\n",
    "print(dict_of_lists['a'])\n",
    "\n"
   ]
  }
 ],
 "metadata": {
  "kernelspec": {
   "display_name": "Python 3 (ipykernel)",
   "language": "python",
   "name": "python3"
  },
  "language_info": {
   "codemirror_mode": {
    "name": "ipython",
    "version": 3
   },
   "file_extension": ".py",
   "mimetype": "text/x-python",
   "name": "python",
   "nbconvert_exporter": "python",
   "pygments_lexer": "ipython3",
   "version": "3.10.9"
  }
 },
 "nbformat": 4,
 "nbformat_minor": 5
}
