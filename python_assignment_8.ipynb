{
 "cells": [
  {
   "cell_type": "raw",
   "id": "66310a04",
   "metadata": {},
   "source": [
    "QUES->1. Is the Python Standard Library included with PyInputPlus?\n",
    "\n",
    "ANS->\n",
    "No, the Python Standard Library is not included with PyInputPlus. PyInputPlus is a separate third-party library that provides additional functionality and validation for user input in Python."
   ]
  },
  {
   "cell_type": "raw",
   "id": "8ca0c6ab",
   "metadata": {},
   "source": [
    "QUES->2. Why is PyInputPlus commonly imported with import pyinputplus as pypi?\n",
    "\n",
    "ANS->\n",
    "It is common to import PyInputPlus as pypi to provide a shorter alias for the library. This can make the code more concise and easier to read when using PyInputPlus functions repeatedly."
   ]
  },
  {
   "cell_type": "raw",
   "id": "d319908c",
   "metadata": {},
   "source": [
    "QUES->3. How do you distinguish between inputInt() and inputFloat()?\n",
    "\n",
    "ANS->\n",
    "The inputInt() and inputFloat() functions in PyInputPlus are used to handle integer and floating-point number inputs, respectively. The inputInt() function ensures that the user's input is a valid integer, while inputFloat() ensures that the input is a valid floating-point number."
   ]
  },
  {
   "cell_type": "raw",
   "id": "842d9c93",
   "metadata": {},
   "source": [
    "QUES->4. Using PyInputPlus, how do you ensure that the user enters a whole number between 0 and 99?\n",
    "\n",
    "ANS->\n",
    "he user enters a whole number between 0 and 99 using PyInputPlus, you can use the inputInt() function with additional keyword arguments"
   ]
  },
  {
   "cell_type": "code",
   "execution_count": 2,
   "id": "79ce81b4",
   "metadata": {},
   "outputs": [
    {
     "name": "stdout",
     "output_type": "stream",
     "text": [
      "Collecting pyinputplus\n",
      "  Downloading PyInputPlus-0.2.12.tar.gz (20 kB)\n",
      "  Installing build dependencies: started\n",
      "  Installing build dependencies: finished with status 'done'\n",
      "  Getting requirements to build wheel: started\n",
      "  Getting requirements to build wheel: finished with status 'done'\n",
      "  Preparing metadata (pyproject.toml): started\n",
      "  Preparing metadata (pyproject.toml): finished with status 'done'\n",
      "Collecting pysimplevalidate>=0.2.7\n",
      "  Downloading PySimpleValidate-0.2.12.tar.gz (22 kB)\n",
      "  Installing build dependencies: started\n",
      "  Installing build dependencies: finished with status 'done'\n",
      "  Getting requirements to build wheel: started\n",
      "  Getting requirements to build wheel: finished with status 'done'\n",
      "  Preparing metadata (pyproject.toml): started\n",
      "  Preparing metadata (pyproject.toml): finished with status 'done'\n",
      "Collecting stdiomask>=0.0.3\n",
      "  Downloading stdiomask-0.0.6.tar.gz (3.6 kB)\n",
      "  Installing build dependencies: started\n",
      "  Installing build dependencies: finished with status 'done'\n",
      "  Getting requirements to build wheel: started\n",
      "  Getting requirements to build wheel: finished with status 'done'\n",
      "  Preparing metadata (pyproject.toml): started\n",
      "  Preparing metadata (pyproject.toml): finished with status 'done'\n",
      "Building wheels for collected packages: pyinputplus, pysimplevalidate, stdiomask\n",
      "  Building wheel for pyinputplus (pyproject.toml): started\n",
      "  Building wheel for pyinputplus (pyproject.toml): finished with status 'done'\n",
      "  Created wheel for pyinputplus: filename=PyInputPlus-0.2.12-py3-none-any.whl size=11322 sha256=6435c4bddf4173fb1d546f2e72bcee9c0b0f8c35424338a6efc2304bd6aebcd7\n",
      "  Stored in directory: c:\\users\\joy\\appdata\\local\\pip\\cache\\wheels\\2d\\72\\d9\\818396cecb072b3d697a47b007d9bbad74859a83a635e47d4d\n",
      "  Building wheel for pysimplevalidate (pyproject.toml): started\n",
      "  Building wheel for pysimplevalidate (pyproject.toml): finished with status 'done'\n",
      "  Created wheel for pysimplevalidate: filename=PySimpleValidate-0.2.12-py3-none-any.whl size=16204 sha256=4bd190227c9a14f1d6cccda243ea45af9e2912fa42c8433fd2693077f8568fe2\n",
      "  Stored in directory: c:\\users\\joy\\appdata\\local\\pip\\cache\\wheels\\05\\ad\\4d\\7289d8b9a519e88167728584876a1a1073a3f71666d875aba7\n",
      "  Building wheel for stdiomask (pyproject.toml): started\n",
      "  Building wheel for stdiomask (pyproject.toml): finished with status 'done'\n",
      "  Created wheel for stdiomask: filename=stdiomask-0.0.6-py3-none-any.whl size=3321 sha256=53cbc0b1a2d12f2edfba803da30393b3e209bffaf9d886bbc127c4d622e374df\n",
      "  Stored in directory: c:\\users\\joy\\appdata\\local\\pip\\cache\\wheels\\41\\ee\\55\\6e4b70f6248b280caae3d938bc543206bb1a75988b739f1238\n",
      "Successfully built pyinputplus pysimplevalidate stdiomask\n",
      "Installing collected packages: stdiomask, pysimplevalidate, pyinputplus\n",
      "Successfully installed pyinputplus-0.2.12 pysimplevalidate-0.2.12 stdiomask-0.0.6\n"
     ]
    },
    {
     "name": "stderr",
     "output_type": "stream",
     "text": [
      "WARNING: Ignoring invalid distribution -atplotlib (c:\\users\\joy\\anaconda3\\anacondas\\lib\\site-packages)\n",
      "WARNING: Ignoring invalid distribution -atplotlib (c:\\users\\joy\\anaconda3\\anacondas\\lib\\site-packages)\n",
      "WARNING: Ignoring invalid distribution -atplotlib (c:\\users\\joy\\anaconda3\\anacondas\\lib\\site-packages)\n",
      "WARNING: Ignoring invalid distribution -atplotlib (c:\\users\\joy\\anaconda3\\anacondas\\lib\\site-packages)\n",
      "WARNING: Ignoring invalid distribution -atplotlib (c:\\users\\joy\\anaconda3\\anacondas\\lib\\site-packages)\n",
      "WARNING: Ignoring invalid distribution -atplotlib (c:\\users\\joy\\anaconda3\\anacondas\\lib\\site-packages)\n",
      "WARNING: Ignoring invalid distribution -atplotlib (c:\\users\\joy\\anaconda3\\anacondas\\lib\\site-packages)\n",
      "WARNING: Ignoring invalid distribution -atplotlib (c:\\users\\joy\\anaconda3\\anacondas\\lib\\site-packages)\n",
      "WARNING: Ignoring invalid distribution -atplotlib (c:\\users\\joy\\anaconda3\\anacondas\\lib\\site-packages)\n"
     ]
    }
   ],
   "source": [
    "!pip install pyinputplus"
   ]
  },
  {
   "cell_type": "code",
   "execution_count": 4,
   "id": "abfe75f4",
   "metadata": {},
   "outputs": [
    {
     "name": "stdout",
     "output_type": "stream",
     "text": [
      "Enter a number: 34\n"
     ]
    },
    {
     "data": {
      "text/plain": [
       "34"
      ]
     },
     "execution_count": 4,
     "metadata": {},
     "output_type": "execute_result"
    }
   ],
   "source": [
    "#example:\n",
    "\n",
    "import pyinputplus as pypi\n",
    "\n",
    "number = pypi.inputInt(prompt='Enter a number: ', min=0, max=99)\n",
    "number\n"
   ]
  },
  {
   "cell_type": "raw",
   "id": "5f50aff2",
   "metadata": {},
   "source": [
    "ANS->\n",
    "In the above example, the min parameter specifies the minimum allowed value (0), and the max parameter specifies the maximum allowed value (99). If the user enters a number outside this range or a non-integer value, PyInputPlus will reprompt for valid input."
   ]
  },
  {
   "cell_type": "raw",
   "id": "005b643f",
   "metadata": {},
   "source": [
    "QUES->5. What is transferred to the keyword arguments allowRegexes and blockRegexes?\n",
    "\n",
    "ANS->\n",
    "The keyword arguments allowRegexes and blockRegexes in PyInputPlus are used to define regular expressions that allow or block specific patterns of input.\n",
    "The allowRegexes argument takes a list of regular expressions. If any of the patterns in the list match the user's input, it is considered valid.\n",
    "The blockRegexes argument also takes a list of regular expressions. If any of the patterns in the list match the user's input, it is considered invalid.\n",
    "By using these arguments, you can define custom patterns to restrict or allow certain types of input."
   ]
  },
  {
   "cell_type": "raw",
   "id": "3a7dcdd7",
   "metadata": {},
   "source": [
    "QUES->6. If a blank input is entered three times, what does inputStr(limit=3) do?\n",
    "\n",
    "ANS->\n",
    "If a blank input is entered three times with the inputStr(limit=3) function in PyInputPlus, it will raise a RetryLimitException. This exception is raised when the user exceeds the specified limit of retries without providing valid input. In this case, the function will stop prompting the user and throw an exception."
   ]
  },
  {
   "cell_type": "raw",
   "id": "a3a6f995",
   "metadata": {},
   "source": [
    "QUES->7. If blank input is entered three times, what does inputStr(limit=3, default='hello') do?\n",
    "\n",
    "ANS->\n",
    "If a blank input is entered three times with the inputStr(limit=3, default='hello') function in PyInputPlus, it will return the default value 'hello'. The default argument specifies the value to return if the user reaches the limit of retries without providing valid input. In this case, if the user enters a blank input three times, the function will return the default value 'hello'."
   ]
  }
 ],
 "metadata": {
  "kernelspec": {
   "display_name": "Python 3 (ipykernel)",
   "language": "python",
   "name": "python3"
  },
  "language_info": {
   "codemirror_mode": {
    "name": "ipython",
    "version": 3
   },
   "file_extension": ".py",
   "mimetype": "text/x-python",
   "name": "python",
   "nbconvert_exporter": "python",
   "pygments_lexer": "ipython3",
   "version": "3.10.9"
  }
 },
 "nbformat": 4,
 "nbformat_minor": 5
}
