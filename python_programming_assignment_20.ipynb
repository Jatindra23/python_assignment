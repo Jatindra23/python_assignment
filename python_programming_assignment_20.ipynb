{
 "cells": [
  {
   "cell_type": "code",
   "execution_count": 1,
   "id": "7156396a",
   "metadata": {},
   "outputs": [
    {
     "name": "stdout",
     "output_type": "stream",
     "text": [
      "[34, 42, 53, 41]\n",
      "[0, 23]\n",
      "[]\n"
     ]
    }
   ],
   "source": [
    "# Question1\n",
    "# Create a function that takes a list of strings and integers, and filters out the list so that it\n",
    "# returns a list of integers only.\n",
    "\n",
    "def filter_list(lst):\n",
    "    return [x for x in lst if isinstance(x, int)]\n",
    "\n",
    "# Test cases\n",
    "print(filter_list([34, 42, 53, \"m\", \"v\", 41]))              \n",
    "print(filter_list([\"qwerty\", 0, \"fire\", 23, \"C++\", \"345\"]))  \n",
    "print(filter_list([\"everything\", \"nothing\"]))  \n"
   ]
  },
  {
   "cell_type": "code",
   "execution_count": 4,
   "id": "af5c81de",
   "metadata": {},
   "outputs": [
    {
     "name": "stdout",
     "output_type": "stream",
     "text": [
      "[0, 1, 6, 3, 6]\n",
      "[1, 7, 3, 7, 10]\n",
      "[2, 3, 5, 12, 5]\n"
     ]
    }
   ],
   "source": [
    "# Question2\n",
    "# Given a list of numbers, create a function which returns the list but with each elements\n",
    "# index in the list added to itself. This means you add 0 to the number at index 0, add 1 to the\n",
    "# number at index 1, etc...\n",
    "\n",
    "def add_indexes(lst):\n",
    "    return [num + index for index, num in enumerate(lst)]\n",
    "\n",
    "# Test cases\n",
    "print(add_indexes([0, 0, 4, 0, 2]))   \n",
    "print(add_indexes([1, 6, 1, 4, 6])) \n",
    "print(add_indexes([2, 2, 3, 9, 1])) \n"
   ]
  },
  {
   "cell_type": "code",
   "execution_count": 6,
   "id": "bc90d568",
   "metadata": {},
   "outputs": [
    {
     "name": "stdout",
     "output_type": "stream",
     "text": [
      "157.08\n",
      "867.08\n",
      "84.82\n"
     ]
    }
   ],
   "source": [
    "# Question3\n",
    "# Create a function that takes the height and radius of a cone as arguments and returns the\n",
    "# volume of the cone rounded to the nearest hundredth. See the resources tab for the formula.\n",
    "\n",
    "import math\n",
    "\n",
    "def cone_volume(height, radius):\n",
    "    volume = (1/3) * math.pi * (radius ** 2) * height\n",
    "    return round(volume, 2)\n",
    "\n",
    "# Test cases\n",
    "print(cone_volume(6, 5)) \n",
    "print(cone_volume(23, 6))  \n",
    "print(cone_volume(9, 3))\n"
   ]
  },
  {
   "cell_type": "code",
   "execution_count": 8,
   "id": "3a3a8d9a",
   "metadata": {},
   "outputs": [
    {
     "name": "stdout",
     "output_type": "stream",
     "text": [
      "6\n",
      "91\n",
      "3\n",
      "45\n",
      "28\n"
     ]
    }
   ],
   "source": [
    "# Question4\n",
    "# This Triangular Number Sequence is generated from a pattern of dots that form a triangle.\n",
    "# The first 5 numbers of the sequence, or dots, are:\n",
    "# 1, 3, 6, 10, 15\n",
    "# This means that the first triangle has just one dot, the second one has three dots, the third one\n",
    "# has 6 dots and so on.\n",
    "# Write a function that gives the number of dots with its corresponding triangle number of the\n",
    "# sequence.\n",
    "\n",
    "def triangle(n):\n",
    "    if n <= 0:\n",
    "        return 0\n",
    "    return n * (n + 1) // 2\n",
    "\n",
    "# Test cases\n",
    "print(triangle(3))   \n",
    "print(triangle(13))   \n",
    "print(triangle(2)) \n",
    "print(triangle(9))   \n",
    "print(triangle(7))  \n"
   ]
  },
  {
   "cell_type": "code",
   "execution_count": 9,
   "id": "09690713",
   "metadata": {},
   "outputs": [
    {
     "name": "stdout",
     "output_type": "stream",
     "text": [
      "1\n",
      "2\n"
     ]
    }
   ],
   "source": [
    "# Question5\n",
    "# Create a function that takes a list of numbers between 1 and 10 (excluding one number) and\n",
    "# returns the missing number.\n",
    "\n",
    "def missing_num(nums):\n",
    "    full_set = set(range(1, 11))\n",
    "    given_set = set(nums)\n",
    "    missing_number = full_set - given_set\n",
    "    return missing_number.pop()\n",
    "\n",
    "# Test cases\n",
    "print(missing_num([9, 3, 6, 4, 6, 7, 2, 9, 8]))  \n",
    "print(missing_num([7, 3, 1, 3, 9, 7, 7, 6, 3]))  \n"
   ]
  }
 ],
 "metadata": {
  "kernelspec": {
   "display_name": "Python 3 (ipykernel)",
   "language": "python",
   "name": "python3"
  },
  "language_info": {
   "codemirror_mode": {
    "name": "ipython",
    "version": 3
   },
   "file_extension": ".py",
   "mimetype": "text/x-python",
   "name": "python",
   "nbconvert_exporter": "python",
   "pygments_lexer": "ipython3",
   "version": "3.10.9"
  }
 },
 "nbformat": 4,
 "nbformat_minor": 5
}
