{
 "cells": [
  {
   "cell_type": "raw",
   "id": "961a5e8b",
   "metadata": {},
   "source": [
    "QUES->1. To what does a relative path refer?\n",
    "\n",
    "ANS->\n",
    "A relative path refers to the path of a file or directory relative to the current working directory. It does not start with the root directory but instead describes the location of a file or directory in relation to the current location."
   ]
  },
  {
   "cell_type": "raw",
   "id": "955fd112",
   "metadata": {},
   "source": [
    "QUES->2. What does an absolute path start with your operating system?\n",
    "\n",
    "\n",
    "ANS->\n",
    "An absolute path typically starts with the root directory of the operating system. In most cases, on Windows, an absolute path starts with a drive letter (e.g., C:) followed by the directories and file names separated by backslashes (). On Unix-based systems (such as Linux or macOS), an absolute path starts with a forward slash (/)."
   ]
  },
  {
   "cell_type": "raw",
   "id": "82a9f139",
   "metadata": {},
   "source": [
    "QUES->3. What do the functions os.getcwd() and os.chdir() do?\n",
    "\n",
    "\n",
    "ANS->\n",
    "The os.getcwd() function returns the current working directory, which is the directory that the Python script is currently running in. The os.chdir() function is used to change the current working directory to the specified path."
   ]
  },
  {
   "cell_type": "raw",
   "id": "94845748",
   "metadata": {},
   "source": [
    "QUES->4. What are the . and .. folders?\n",
    "\n",
    "\n",
    "ANS->\n",
    "The dot (.) and double dot (..) are special directory names. The dot (.) represents the current directory, while the double dot (..) represents the parent directory. They are used to navigate the directory structure. For example, if you are in the directory /home/user/foo, the relative path ../bar refers to the directory /home/user/bar."
   ]
  },
  {
   "cell_type": "raw",
   "id": "dbb5dc1e",
   "metadata": {},
   "source": [
    "QUES->5. In C:\\bacon\\eggs\\spam.txt, which part is the dir name, and which part is the base name?\n",
    "\n",
    "\n",
    "ANS->\n",
    "In the path C:\\bacon\\eggs\\spam.txt, the directory name is C:\\bacon\\eggs, and the base name is spam.txt."
   ]
  },
  {
   "cell_type": "raw",
   "id": "bfe80f20",
   "metadata": {},
   "source": [
    "QUES->6. What are the three “mode” arguments that can be passed to the open() function?\n",
    "\n",
    "\n",
    "ANS->\n",
    "The three mode arguments that can be passed to the open() function in Python are:\n",
    "\n",
    "'r': Read mode - Opens a file for reading.\n",
    "'w': Write mode - Opens a file for writing. If the file exists, it is truncated (emptied), and if it doesn't exist, a new file is created.\n",
    "'a': Append mode - Opens a file for appending. Data is written at the end of the file, preserving its existing contents."
   ]
  },
  {
   "cell_type": "raw",
   "id": "a5289c8d",
   "metadata": {},
   "source": [
    "QUES->7. What happens if an existing file is opened in write mode?\n",
    "\n",
    "\n",
    "ANS->\n",
    "If an existing file is opened in write mode ('w'), its previous contents will be erased and replaced with the new data being written. If the file doesn't exist, a new file will be created."
   ]
  },
  {
   "cell_type": "raw",
   "id": "60a60f80",
   "metadata": {},
   "source": [
    "QUES->8. How do you tell the difference between read() and readlines()?\n",
    "\n",
    "\n",
    "ANS->\n",
    "The read() method of a file object reads the entire contents of the file and returns them as a string. It treats the file as a single string.\n",
    "\n",
    "The readlines() method reads the lines of the file and returns them as a list of strings. Each element in the list corresponds to a line in the file, including the newline characters at the end of each line."
   ]
  },
  {
   "cell_type": "raw",
   "id": "77f52f32",
   "metadata": {},
   "source": [
    "QUES->9. What data structure does a shelf value resemble?\n",
    "\n",
    "ANS->\n",
    "A shelf value in Python resembles a dictionary. It is a persistent, dictionary-like object that allows you to store and retrieve Python objects from a file. The shelf module in Python provides an interface to a database that can be accessed like a dictionary, where keys are strings and values are pickled objects.\n"
   ]
  },
  {
   "cell_type": "raw",
   "id": "b8072acd",
   "metadata": {},
   "source": []
  }
 ],
 "metadata": {
  "kernelspec": {
   "display_name": "Python 3 (ipykernel)",
   "language": "python",
   "name": "python3"
  },
  "language_info": {
   "codemirror_mode": {
    "name": "ipython",
    "version": 3
   },
   "file_extension": ".py",
   "mimetype": "text/x-python",
   "name": "python",
   "nbconvert_exporter": "python",
   "pygments_lexer": "ipython3",
   "version": "3.10.9"
  }
 },
 "nbformat": 4,
 "nbformat_minor": 5
}
