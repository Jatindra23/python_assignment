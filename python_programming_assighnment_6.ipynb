{
 "cells": [
  {
   "cell_type": "code",
   "execution_count": 9,
   "id": "b85517dc",
   "metadata": {},
   "outputs": [
    {
     "name": "stdout",
     "output_type": "stream",
     "text": [
      "Enter the number of terms: 10\n",
      "Fibonacci Sequence: [0, 1, 1, 2, 3, 5, 8, 13, 21, 34]\n"
     ]
    }
   ],
   "source": [
    "####1. Write a Python Program to Display Fibonacci Sequence Using Recursion?\n",
    "\n",
    "###ANS:\n",
    "def fibonacci_recursive(n):\n",
    "    if n <= 0:\n",
    "        return []\n",
    "    elif n == 1:\n",
    "        return [0]\n",
    "    elif n == 2:\n",
    "        return [0, 1]\n",
    "    else:\n",
    "        fib_sequence = fibonacci_recursive(n - 1)\n",
    "        fib_sequence.append(fib_sequence[-1] + fib_sequence[-2])\n",
    "        return fib_sequence\n",
    "\n",
    "n = int(input(\"Enter the number of terms: \"))\n",
    "fib_sequence = fibonacci_recursive(n)\n",
    "print(\"Fibonacci Sequence:\", fib_sequence)\n"
   ]
  },
  {
   "cell_type": "code",
   "execution_count": 10,
   "id": "6600f095",
   "metadata": {},
   "outputs": [
    {
     "name": "stdout",
     "output_type": "stream",
     "text": [
      "Enter a number: 5\n",
      "Factorial: 120\n"
     ]
    }
   ],
   "source": [
    "###2. Write a Python Program to Find Factorial of Number Using Recursion?\n",
    "\n",
    "###ANS:\n",
    "def factorial_recursive(n):\n",
    "    if n == 0 or n == 1:\n",
    "        return 1\n",
    "    else:\n",
    "        return n * factorial_recursive(n - 1)\n",
    "\n",
    "num = int(input(\"Enter a number: \"))\n",
    "factorial = factorial_recursive(num)\n",
    "print(\"Factorial:\", factorial)\n"
   ]
  },
  {
   "cell_type": "code",
   "execution_count": 11,
   "id": "e0936f09",
   "metadata": {},
   "outputs": [
    {
     "name": "stdout",
     "output_type": "stream",
     "text": [
      "Enter your weight in kilograms: 67\n",
      "Enter your height in meters: 1.82\n",
      "Your BMI is: 20.227025721531216\n"
     ]
    }
   ],
   "source": [
    "###3. Write a Python Program to calculate your Body Mass Index?\n",
    "\n",
    "###ANS:\n",
    "\n",
    "def calculate_bmi(weight, height):\n",
    "    bmi = weight / (height ** 2)\n",
    "    return bmi\n",
    "\n",
    "weight = float(input(\"Enter your weight in kilograms: \"))\n",
    "height = float(input(\"Enter your height in meters: \"))\n",
    "bmi = calculate_bmi(weight, height)\n",
    "print(\"Your BMI is:\", bmi)\n"
   ]
  },
  {
   "cell_type": "code",
   "execution_count": 12,
   "id": "5f2276ce",
   "metadata": {},
   "outputs": [
    {
     "name": "stdout",
     "output_type": "stream",
     "text": [
      "Enter a number: 34\n",
      "Natural Logarithm: 3.5263605246161616\n"
     ]
    }
   ],
   "source": [
    "###4. Write a Python Program to calculate the natural logarithm of any number?\n",
    "\n",
    "###ANS:\n",
    "\n",
    "import math\n",
    "\n",
    "number = float(input(\"Enter a number: \"))\n",
    "natural_log = math.log(number)\n",
    "print(\"Natural Logarithm:\", natural_log)\n"
   ]
  },
  {
   "cell_type": "code",
   "execution_count": 13,
   "id": "93452e96",
   "metadata": {},
   "outputs": [
    {
     "name": "stdout",
     "output_type": "stream",
     "text": [
      "Enter the value of n: 4\n",
      "Cube Sum of First 4 Natural Numbers: 100\n"
     ]
    }
   ],
   "source": [
    "###5. Write a Python Program for cube sum of first n natural numbers?\n",
    "\n",
    "###ANS:\n",
    "\n",
    "def cube_sum(n):\n",
    "    return (n * (n + 1) // 2) ** 2\n",
    "\n",
    "n = int(input(\"Enter the value of n: \"))\n",
    "result = cube_sum(n)\n",
    "print(\"Cube Sum of First\", n, \"Natural Numbers:\", result)\n"
   ]
  }
 ],
 "metadata": {
  "kernelspec": {
   "display_name": "Python 3 (ipykernel)",
   "language": "python",
   "name": "python3"
  },
  "language_info": {
   "codemirror_mode": {
    "name": "ipython",
    "version": 3
   },
   "file_extension": ".py",
   "mimetype": "text/x-python",
   "name": "python",
   "nbconvert_exporter": "python",
   "pygments_lexer": "ipython3",
   "version": "3.10.9"
  }
 },
 "nbformat": 4,
 "nbformat_minor": 5
}
