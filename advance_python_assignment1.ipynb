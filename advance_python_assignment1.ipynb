{
 "cells": [
  {
   "cell_type": "raw",
   "id": "6c8adf2f",
   "metadata": {},
   "source": [
    "Q1. Purpose of Python's OOP:\n",
    "ANS->\n",
    "\n",
    "Object-Oriented Programming (OOP) is a programming paradigm that organizes code into classes and objects, enabling developers to model real-world entities and their interactions. In Python, OOP provides a way to structure and organize code for better reusability, maintainability, and modularity. The main purposes of Python's OOP are:\n",
    "\n",
    "-Encapsulation: Bundling data (attributes) and methods (functions) that operate on that data into a single unit called a class, encapsulating the data and its related behavior.\n",
    "\n",
    "-Abstraction: Hiding complex implementation details and exposing only relevant information to the user. Users interact with objects through well-defined interfaces.\n",
    "\n",
    "- Inheritance: Creating new classes (subclasses) that inherit attributes and methods from existing classes (superclasses). This promotes code reuse and allows for specialization.\n",
    "\n",
    "- Polymorphism:Treating different objects of related classes in a uniform way. It allows methods to be defined in a superclass and overridden in subclasses.\n",
    "\n",
    "Q2.Inheritance Search for Attribute:\n",
    "ANS->\n",
    "\n",
    "In Python, when an attribute (method or variable) is accessed on an object, the inheritance search starts with the instance's class and then moves up the class hierarchy (towards parent classes) until the attribute is found or the search reaches the top-most class (usually `object`). This is known as the method resolution order (MRO) or the inheritance hierarchy.\n",
    "\n",
    "Q3.Class Object vs. Instance Object:\n",
    "ANS->\n",
    "\n",
    "- A class object is an instance of the class itself. It is responsible for holding class-level attributes and methods that are shared among all instances created from the class.\n",
    "- An instance object is a specific instantiation of a class. It holds instance-specific attributes and can have its own unique state. Instances can access class attributes and methods, but they can also have their own attributes that differ from other instances of the same class.\n",
    "\n",
    "Q4. First Argument in a Class's Method Function:\n",
    "ANS->\n",
    "\n",
    "The first argument in a class's method function is conventionally named `self`. This parameter represents the instance of the class on which the method is being called. It allows methods to access and manipulate the instance's attributes and call other methods of the same instance.\n",
    "\n",
    "Q5.Purpose of the __init__ Method:\n",
    "ANS->\n",
    "\n",
    "The __init__ method (constructor) is a special method in Python classes that is automatically called when a new instance of the class is created. It is used to initialize the instance's attributes and perform any setup or configuration that is required before the instance can be used.\n",
    "\n",
    "Q6.Process for Creating a Class Instance:\n",
    "ANS->\n",
    "\n",
    "To create a class instance in Python, you need to follow these steps:\n",
    "1. Define a class with its attributes and methods.\n",
    "2. Instantiate the class by calling the class name followed by parentheses. This invokes the class's `__init__` method and creates a new instance.\n",
    "3. Optionally, you can assign the instance to a variable to keep a reference to it.\n",
    "\n",
    "Q7.Process for Creating a Class:\n",
    "ANS->\n",
    "\n",
    "To create a class in Python:\n",
    "1. Use the `class` keyword followed by the class name (usually in CamelCase).\n",
    "2. Define the class body, including attributes and methods.\n",
    "3. Optionally, include a constructor (`__init__` method) to initialize attributes when instances are created.\n",
    "\n",
    "Q8.Superclasses of a Class:\n",
    "\n",
    "The superclasses of a class are the classes from which the given class inherits attributes and methods. In other words, superclasses are the parent classes in the class hierarchy. When a class inherits from another class, it gains access to all the attributes and methods of the superclass. The class from which inheritance is derived is often referred to as the parent class or base class."
   ]
  }
 ],
 "metadata": {
  "kernelspec": {
   "display_name": "Python 3 (ipykernel)",
   "language": "python",
   "name": "python3"
  },
  "language_info": {
   "codemirror_mode": {
    "name": "ipython",
    "version": 3
   },
   "file_extension": ".py",
   "mimetype": "text/x-python",
   "name": "python",
   "nbconvert_exporter": "python",
   "pygments_lexer": "ipython3",
   "version": "3.10.9"
  }
 },
 "nbformat": 4,
 "nbformat_minor": 5
}
