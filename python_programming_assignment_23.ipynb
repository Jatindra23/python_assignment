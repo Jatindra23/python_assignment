{
 "cells": [
  {
   "cell_type": "code",
   "execution_count": 3,
   "id": "d5a366c3",
   "metadata": {},
   "outputs": [
    {
     "name": "stdout",
     "output_type": "stream",
     "text": [
      "True\n",
      "False\n",
      "True\n",
      "False\n",
      "False\n"
     ]
    }
   ],
   "source": [
    "# Question 1\n",
    "# Create a function that takes a number as an argument and returns True or False depending\n",
    "# on whether the number is symmetrical or not. A number is symmetrical when it is the same as\n",
    "# its reverse.\n",
    "\n",
    "def is_symmetrical(n):\n",
    "    # Convert the number to a string\n",
    "    num_str = str(n)\n",
    "    \n",
    "    # Compare the string with its reverse\n",
    "    return num_str == num_str[::-1]\n",
    "\n",
    "# Test cases\n",
    "print(is_symmetrical(12321))    # Output: True\n",
    "print(is_symmetrical(234512))   # Output: False\n",
    "print(is_symmetrical(12121))  # Output: True\n",
    "print(is_symmetrical(76896))    # Output: False\n",
    "print(is_symmetrical(1234))  # Output: True\n"
   ]
  },
  {
   "cell_type": "code",
   "execution_count": 4,
   "id": "3f4ae268",
   "metadata": {},
   "outputs": [
    {
     "name": "stdout",
     "output_type": "stream",
     "text": [
      "10\n",
      "60\n",
      "218700\n",
      "-495\n"
     ]
    }
   ],
   "source": [
    "# Question 2\n",
    "# Given a string of numbers separated by a comma and space, return the product of the numbers.\n",
    "\n",
    "def multiply_nums(s):\n",
    "    # Split the string into a list of numbers\n",
    "    nums = [int(num) for num in s.split(', ')]\n",
    "    \n",
    "    # Calculate the product of the numbers using a loop\n",
    "    product = 1\n",
    "    for num in nums:\n",
    "        product *= num\n",
    "    \n",
    "    return product\n",
    "\n",
    "print(multiply_nums(\"2, 5\"))\n",
    "print(multiply_nums(\"2, 2, 3, 5\"))\n",
    "print(multiply_nums(\"27, 75, 54, 2\")) \n",
    "print(multiply_nums(\"11, -45\"))    \n"
   ]
  },
  {
   "cell_type": "code",
   "execution_count": 5,
   "id": "3f538138",
   "metadata": {},
   "outputs": [
    {
     "name": "stdout",
     "output_type": "stream",
     "text": [
      "144\n",
      "999\n",
      "364936\n"
     ]
    }
   ],
   "source": [
    "# Question 3\n",
    "# Create a function that squares every digit of a number.\n",
    "\n",
    "def square_digits(n):\n",
    "    # Convert the integer to a string to work with its digits\n",
    "    num_str = str(n)\n",
    "    \n",
    "    # Square each digit and concatenate the squared digits\n",
    "    squared_digits = [str(int(digit)**2) for digit in num_str]\n",
    "    result_str = ''.join(squared_digits)\n",
    "    \n",
    "    # Convert the result back to an integer\n",
    "    result = int(result_str)\n",
    "    \n",
    "    return result\n",
    "\n",
    "\n",
    "print(square_digits(122))\n",
    "print(square_digits(333))\n",
    "print(square_digits(676)) \n"
   ]
  },
  {
   "cell_type": "code",
   "execution_count": 6,
   "id": "cb2d2610",
   "metadata": {},
   "outputs": [
    {
     "name": "stdout",
     "output_type": "stream",
     "text": [
      "[2, 3, 4, 5]\n",
      "[3, 4]\n",
      "[2, 7, 8, 10, 35]\n",
      "[1, 3, 4]\n"
     ]
    }
   ],
   "source": [
    "# Question 4\n",
    "# Create a function that sorts a list and removes all duplicate items from it.\n",
    "\n",
    "def setify(lst):\n",
    "    # Sort the list and use a set to remove duplicates\n",
    "    sorted_unique_lst = list(set(lst))\n",
    "    sorted_unique_lst.sort()\n",
    "    \n",
    "    return sorted_unique_lst\n",
    "\n",
    "\n",
    "print(setify([4, 2, 3, 5, 5]))\n",
    "print(setify([4, 4, 3, 3]))    \n",
    "print(setify([2, 7, 8, 8, 10, 35]))\n",
    "print(setify([1, 1, 3, 4, 1]))   \n"
   ]
  },
  {
   "cell_type": "code",
   "execution_count": 7,
   "id": "b970d2bc",
   "metadata": {},
   "outputs": [
    {
     "name": "stdout",
     "output_type": "stream",
     "text": [
      "4\n",
      "4\n",
      "5\n"
     ]
    }
   ],
   "source": [
    "# Question 5\n",
    "# Create a function that returns the mean of all digits.\n",
    "\n",
    "def mean(num):\n",
    "    # Convert the number to a string to access its digits\n",
    "    num_str = str(num)\n",
    "    \n",
    "    # Calculate the sum of digits and the number of digits\n",
    "    digit_sum = sum(int(digit) for digit in num_str)\n",
    "    num_digits = len(num_str)\n",
    "    \n",
    "    # Calculate and return the mean\n",
    "    mean_value = digit_sum // num_digits\n",
    "    return mean_value\n",
    "\n",
    "# Test cases\n",
    "print(mean(17))    \n",
    "print(mean(3276))  \n",
    "print(mean(908)) \n"
   ]
  }
 ],
 "metadata": {
  "kernelspec": {
   "display_name": "Python 3 (ipykernel)",
   "language": "python",
   "name": "python3"
  },
  "language_info": {
   "codemirror_mode": {
    "name": "ipython",
    "version": 3
   },
   "file_extension": ".py",
   "mimetype": "text/x-python",
   "name": "python",
   "nbconvert_exporter": "python",
   "pygments_lexer": "ipython3",
   "version": "3.10.9"
  }
 },
 "nbformat": 4,
 "nbformat_minor": 5
}
