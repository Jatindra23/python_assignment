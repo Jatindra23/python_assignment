{
 "cells": [
  {
   "cell_type": "markdown",
   "id": "1ff00e35",
   "metadata": {},
   "source": [
    "Q1. What are the new features added in Python 3.8 version?\n",
    "\n",
    "ANS->\n",
    "- Python 3.8 introduced several new features and improvements, some of which include:\n",
    "\n",
    "   - **Assignment Expressions (walrus operator)**: Allows assignment within expressions using the `:=` operator.\n",
    "   - **Positional-only Parameters**: Functions can now specify parameters that can only be passed positionally, not as keyword arguments.\n",
    "   - **f-string improvements**: Added the `=` specifier to f-strings to display both the expression and its value.\n",
    "   - **__future__ annotations**: Introduced `annotations` to function signatures to provide hints about argument types.\n",
    "   - **Syntax Warnings**: Improved syntax warnings for potentially confusing constructs.\n",
    "   - **__import__() Function**: Allows more control over the import process.\n",
    "   - **Math Functions in the Math Module**: New mathematical functions like `math.prod()` and `math.isqrt()` were added.\n",
    "   - **pickle improvements**: More efficient pickling for objects with shared sub-objects.\n",
    "   - **Deprecations and Removals**: Removed some older features and deprecated others for future removal.\n",
    "\n",
    "Q2. What is monkey patching in Python?\n",
    "\n",
    "ANS->\n",
    "- **Monkey patching** in Python refers to the practice of dynamically modifying or extending the behavior of existing modules, classes, or functions at runtime. This is often done by directly modifying the source code of the module or class, which can be risky and might lead to unintended consequences. Monkey patching can be useful for adding functionality to third-party libraries or fixing issues in them without waiting for official updates, but it should be used with caution due to potential maintenance and compatibility challenges.\n",
    "\n",
    "Q3. What is the difference between a shallow copy and deep copy?\n",
    "\n",
    "ANS->\n",
    "- The difference between a **shallow copy** and a **deep copy** relates to how copies of objects, particularly compound objects like lists or dictionaries, are made:\n",
    "\n",
    "   - **Shallow Copy**: A shallow copy of an object creates a new object, but the elements inside the object are still references to the same objects as the original. In other words, the top-level copy is new, but the nested objects are shared between the original and the copy.\n",
    "\n",
    "   - **Deep Copy**: A deep copy creates a completely new copy of an object and also recursively creates new copies of all the objects found nested within the original object. This results in a fully independent copy of the original object and all its nested objects.\n",
    "Q4. What is the maximum possible length of an identifier?\n",
    "\n",
    "ANS->\n",
    "4. The maximum possible length of an identifier in Python is implementation-dependent and can vary between different Python versions and implementations. However, in practice, identifiers are often limited to around 255 characters. It's important to follow naming conventions and keep identifiers reasonably short for readability.\n",
    "\n",
    "Q5. What is generator comprehension?\n",
    "\n",
    "ANS->\n",
    "5. **Generator comprehension** is a concise way to create generators in Python. It is similar to list comprehensions, but instead of creating a list, it generates elements one at a time, on-the-fly, using the `yield` keyword. Generator comprehensions use the same syntax as list comprehensions but are enclosed in parentheses instead of square brackets. This allows you to efficiently iterate over large datasets or infinite sequences without loading all data into memory at once.\n",
    "\n",
    "Example of a generator comprehension:\n",
    "```python\n",
    "generator = (x ** 2 for x in range(10))\n",
    "```\n",
    "\n",
    "In this example, the generator will produce squares of numbers from 0 to 9, and the values will be generated lazily as needed."
   ]
  },
  {
   "cell_type": "code",
   "execution_count": null,
   "id": "7c7b916b",
   "metadata": {},
   "outputs": [],
   "source": []
  }
 ],
 "metadata": {
  "kernelspec": {
   "display_name": "Python 3 (ipykernel)",
   "language": "python",
   "name": "python3"
  },
  "language_info": {
   "codemirror_mode": {
    "name": "ipython",
    "version": 3
   },
   "file_extension": ".py",
   "mimetype": "text/x-python",
   "name": "python",
   "nbconvert_exporter": "python",
   "pygments_lexer": "ipython3",
   "version": "3.10.9"
  }
 },
 "nbformat": 4,
 "nbformat_minor": 5
}
