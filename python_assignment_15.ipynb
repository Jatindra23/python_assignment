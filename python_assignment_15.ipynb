{
 "cells": [
  {
   "cell_type": "code",
   "execution_count": 2,
   "id": "383ea75f",
   "metadata": {},
   "outputs": [
    {
     "data": {
      "text/plain": [
       "3600"
      ]
     },
     "execution_count": 2,
     "metadata": {},
     "output_type": "execute_result"
    }
   ],
   "source": [
    "#QUES->1.How many seconds are in an hour? Use the interactive interpreter as a calculator and multiply the number of seconds in a minute (60) by the number of minutes in an hour (also 60).\n",
    "\n",
    "#ANS->\n",
    "60 * 60\n"
   ]
  },
  {
   "cell_type": "code",
   "execution_count": 4,
   "id": "fa541c2c",
   "metadata": {},
   "outputs": [
    {
     "name": "stdout",
     "output_type": "stream",
     "text": [
      "seconds_per_hour: 3600\n"
     ]
    }
   ],
   "source": [
    "#QUES->2. Assign the result from the previous task (seconds in an hour) to a variable called seconds_per_hour.\n",
    "\n",
    "#ANS->\n",
    "\n",
    " #assign the result from the previous calculation (3600) to a variable called seconds_per_hour\n",
    "    \n",
    "seconds_per_hour = 3600\n",
    "print(f'seconds_per_hour: {seconds_per_hour}')"
   ]
  },
  {
   "cell_type": "code",
   "execution_count": 6,
   "id": "4164b5fc",
   "metadata": {},
   "outputs": [
    {
     "name": "stdout",
     "output_type": "stream",
     "text": [
      "seconds_per_day: 86400\n"
     ]
    }
   ],
   "source": [
    "#QUES->3. How many seconds do you think there are in a day? Make use of the variables seconds per hour and minutes per hour.\n",
    "\n",
    "#ANS->\n",
    "second_per_min=60\n",
    "hours_in_a_day = 24\n",
    "minutes_in_hour = 60\n",
    "minutes_in_day=minutes_in_hour*hours_in_a_day\n",
    "seconds_per_day=second_per_min*minutes_in_day\n",
    "\n",
    "print(f'seconds_per_day: {seconds_per_day}')"
   ]
  },
  {
   "cell_type": "code",
   "execution_count": 14,
   "id": "c8992e4a",
   "metadata": {},
   "outputs": [
    {
     "name": "stdout",
     "output_type": "stream",
     "text": [
      "86400\n"
     ]
    }
   ],
   "source": [
    "#QUES->4. Calculate seconds per day again, but this time save the result in a variable called seconds_per_day\n",
    "\n",
    "#ANS->\n",
    "\n",
    "seconds_per_day = seconds_per_hour * 24\n",
    "print(seconds_per_day)"
   ]
  },
  {
   "cell_type": "code",
   "execution_count": 9,
   "id": "1f66d6b9",
   "metadata": {},
   "outputs": [
    {
     "data": {
      "text/plain": [
       "24.0"
      ]
     },
     "execution_count": 9,
     "metadata": {},
     "output_type": "execute_result"
    }
   ],
   "source": [
    "#QUES->5. Divide seconds_per_day by seconds_per_hour. Use floating-point (/) division.\n",
    "\n",
    "#ANS->\n",
    "floating_point_division = seconds_per_day / seconds_per_hour\n",
    "floating_point_division"
   ]
  },
  {
   "cell_type": "code",
   "execution_count": 13,
   "id": "02f5a0ac",
   "metadata": {},
   "outputs": [
    {
     "name": "stdout",
     "output_type": "stream",
     "text": [
      "integer_division: 24\n"
     ]
    }
   ],
   "source": [
    "#QUES->6. Divide seconds_per_day by seconds_per_hour, using integer (//) division. Did this number agree with the floating-point value from the previous question, aside from the final .0?\n",
    "\n",
    "#ANS->\n",
    "integer_division = seconds_per_day // seconds_per_hour\n",
    "print(f'integer_division: {integer_division}')"
   ]
  },
  {
   "cell_type": "raw",
   "id": "d31de9dc",
   "metadata": {},
   "source": [
    "ANS->\n",
    "Yes, the integer division value agrees with the floating-point value from the previous question, aside from the final .0. This is because integer division discards the decimal part and returns the quotient as an integer."
   ]
  },
  {
   "cell_type": "code",
   "execution_count": 16,
   "id": "152d1287",
   "metadata": {},
   "outputs": [
    {
     "name": "stdout",
     "output_type": "stream",
     "text": [
      "2\n",
      "3\n",
      "5\n",
      "7\n",
      "11\n"
     ]
    }
   ],
   "source": [
    "#QUES->7. Write a generator, genPrimes, that returns the sequence of prime numbers on successive calls to its next() method: 2, 3, 5, 7, 11, ...\n",
    "\n",
    "#ANS->\n",
    "def genPrimes():\n",
    "    primes = []  # List to store prime numbers\n",
    "    num = 2     # Starting from 2, the first prime number\n",
    "    \n",
    "    while True:\n",
    "        is_prime = True\n",
    "        for prime in primes:\n",
    "            if num % prime == 0:\n",
    "                is_prime = False\n",
    "                break\n",
    "        \n",
    "        if is_prime:\n",
    "            primes.append(num)\n",
    "            yield num\n",
    "        \n",
    "        num += 1\n",
    "\n",
    "prime_generator = genPrimes()\n",
    "\n",
    "print(next(prime_generator)) \n",
    "print(next(prime_generator))  \n",
    "print(next(prime_generator))  \n",
    "print(next(prime_generator))  \n",
    "print(next(prime_generator))  \n",
    "\n"
   ]
  }
 ],
 "metadata": {
  "kernelspec": {
   "display_name": "Python 3 (ipykernel)",
   "language": "python",
   "name": "python3"
  },
  "language_info": {
   "codemirror_mode": {
    "name": "ipython",
    "version": 3
   },
   "file_extension": ".py",
   "mimetype": "text/x-python",
   "name": "python",
   "nbconvert_exporter": "python",
   "pygments_lexer": "ipython3",
   "version": "3.10.9"
  }
 },
 "nbformat": 4,
 "nbformat_minor": 5
}
