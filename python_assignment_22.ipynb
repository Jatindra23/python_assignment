{
 "cells": [
  {
   "cell_type": "code",
   "execution_count": 12,
   "id": "ccd09f90",
   "metadata": {},
   "outputs": [
    {
     "name": "stdout",
     "output_type": "stream",
     "text": [
      "iNeuron\n"
     ]
    }
   ],
   "source": [
    "#QUES->1. What is the result of the code, and explain?\n",
    "\n",
    "\n",
    "X = 'iNeuron'\n",
    "\n",
    "def func():\n",
    "    print(X)\n",
    "\n",
    "\n",
    "func()\n",
    "\n",
    "\n",
    "\n",
    "#ANS->"
   ]
  },
  {
   "cell_type": "raw",
   "id": "c54dfc49",
   "metadata": {},
   "source": [
    "ANS->\n",
    "In this code, the variable X is defined outside the function func and has a value of 'iNeuron'.\n",
    "Inside the function, when print(X) is called, it accesses the value of X from the outer scope and prints 'iNeuron'."
   ]
  },
  {
   "cell_type": "code",
   "execution_count": 13,
   "id": "9d6e26e5",
   "metadata": {},
   "outputs": [
    {
     "name": "stdout",
     "output_type": "stream",
     "text": [
      "iNeuron\n"
     ]
    }
   ],
   "source": [
    "#QUES->2. What is the result of the code, and explain?\n",
    "\n",
    "X = 'iNeuron'\n",
    "\n",
    "def func():\n",
    "    X = 'NI!'\n",
    "\n",
    "func()\n",
    "\n",
    "print(X)\n",
    "\n",
    "\n",
    "\n",
    "#ANS->"
   ]
  },
  {
   "cell_type": "raw",
   "id": "aa08ecd2",
   "metadata": {},
   "source": [
    "ANS->\n",
    "The code will result in printing 'iNeuron'.\n",
    "\n",
    "Similar to the previous example, the variable X is defined outside the function func and has a value of 'iNeuron'.\n",
    "Inside the function, a new local variable X is created with the value 'NI!'. However, this local variable does not affect the outer X variable."
   ]
  },
  {
   "cell_type": "code",
   "execution_count": 30,
   "id": "5720d59f",
   "metadata": {},
   "outputs": [
    {
     "name": "stdout",
     "output_type": "stream",
     "text": [
      "NI\n",
      "iNeuron\n"
     ]
    }
   ],
   "source": [
    "#QUES->3. What does this code print, and why?\n",
    "\n",
    "\n",
    "X = 'iNeuron'\n",
    "\n",
    "def func():\n",
    "    X = 'NI'\n",
    "    print(X)\n",
    "\n",
    "\n",
    "func()\n",
    "print(X)\n"
   ]
  },
  {
   "cell_type": "raw",
   "id": "a69e4483",
   "metadata": {},
   "source": [
    "ANS->\n",
    "The code will print 'NI' and then 'iNeuron'.\n",
    "\n",
    "The variable X is defined outside the function func and has a value of 'iNeuron'.\n",
    "Inside the function, a new local variable X is created with the value 'NI'.\n",
    "When func() is called, it prints the value of the local X, which is 'NI'.\n",
    "After calling the function, print(X) is executed, which accesses the outer X variable and prints 'iNeuron'.\n"
   ]
  },
  {
   "cell_type": "code",
   "execution_count": 17,
   "id": "4b27c68f",
   "metadata": {},
   "outputs": [
    {
     "name": "stdout",
     "output_type": "stream",
     "text": [
      "NI\n"
     ]
    }
   ],
   "source": [
    "#QUES->4. What output does this code produce? Why?\n",
    "\n",
    "\n",
    "X = 'iNeuron'\n",
    "\n",
    "def func():\n",
    "    global X\n",
    "    X = 'NI'\n",
    "\n",
    "func()\n",
    "print(X)\n",
    "\n",
    "\n",
    "\n",
    "#ANS->"
   ]
  },
  {
   "cell_type": "raw",
   "id": "a9fcc714",
   "metadata": {},
   "source": [
    "ANS->\n",
    "The code will print 'NI'.\n",
    "\n",
    "In this code, the global keyword is used inside the function func. This indicates that the variable X inside the function is referring to the global variable X defined outside the function.\n",
    "Inside the function, X is assigned the value 'NI'.\n",
    "When func() is called, it modifies the global variable X to have a value of 'NI'.\n",
    "After calling the function, print(X) is executed, which accesses the modified global X variable and prints 'NI'."
   ]
  },
  {
   "cell_type": "code",
   "execution_count": 34,
   "id": "37ade5a3",
   "metadata": {},
   "outputs": [
    {
     "name": "stdout",
     "output_type": "stream",
     "text": [
      "NI\n",
      "iNeuron\n"
     ]
    }
   ],
   "source": [
    "#QUES->5. What about this code—what’s the output, and why?\n",
    "\n",
    "\n",
    "X = 'iNeuron'\n",
    "def func():\n",
    "    X = 'NI'\n",
    "    def nested():\n",
    "        print(X)\n",
    "    nested()\n",
    "\n",
    "\n",
    "func()\n",
    "\n",
    "print(X)\n",
    "\n",
    "\n",
    "#ANS->"
   ]
  },
  {
   "cell_type": "raw",
   "id": "c5fdbb24",
   "metadata": {},
   "source": [
    "ANS->\n",
    "The code will output 'NI' and then 'iNeuron'.\n",
    "\n",
    "The variable X is defined outside the function func and has a value of 'iNeuron'.\n",
    "Inside the function func, a new local variable X is created with the value 'NI'.\n",
    "Inside func, there is another nested function called nested().\n",
    "When nested() is called within func, it prints the value of the local variable X within its scope, which is 'NI'.\n",
    "After calling func(), the outer X variable is printed, which is 'iNeuron'."
   ]
  },
  {
   "cell_type": "code",
   "execution_count": 27,
   "id": "8697e723",
   "metadata": {},
   "outputs": [
    {
     "name": "stdout",
     "output_type": "stream",
     "text": [
      "Spam\n"
     ]
    }
   ],
   "source": [
    "#QUES->6. How about this code: what is its output in Python 3, and explain?\n",
    "\n",
    "\n",
    "def func():\n",
    "    X = 'NI'\n",
    "    def nested():\n",
    "        nonlocal X\n",
    "        X = 'Spam'\n",
    "    nested()\n",
    "    return X\n",
    "\n",
    "result = func()\n",
    "print(result)\n",
    "\n",
    "\n",
    "\n"
   ]
  },
  {
   "cell_type": "raw",
   "id": "a4dcda48",
   "metadata": {},
   "source": [
    "ANS->\n",
    "The code will output 'Spam'.\n",
    "\n",
    "In this code, the nonlocal keyword is used inside the function func. This indicates that the variable X inside the nested function nested should refer to the nearest enclosing scope that is not global, which is the scope of func.\n",
    "Inside func, a new local variable X is created with the value 'NI'.\n",
    "Inside nested, nonlocal X is used to indicate that the variable X being modified is the one in the enclosing scope of func, not a local variable.\n",
    "When nested() is called within func, it assigns the value 'Spam' to the X variable in the enclosing scope of func.\n",
    "After the nested function is executed, print(X) within func outputs the modified value of X, which is 'Spam'."
   ]
  }
 ],
 "metadata": {
  "kernelspec": {
   "display_name": "Python 3 (ipykernel)",
   "language": "python",
   "name": "python3"
  },
  "language_info": {
   "codemirror_mode": {
    "name": "ipython",
    "version": 3
   },
   "file_extension": ".py",
   "mimetype": "text/x-python",
   "name": "python",
   "nbconvert_exporter": "python",
   "pygments_lexer": "ipython3",
   "version": "3.10.9"
  }
 },
 "nbformat": 4,
 "nbformat_minor": 5
}
