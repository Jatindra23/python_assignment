{
 "cells": [
  {
   "cell_type": "code",
   "execution_count": 1,
   "id": "c133fcda",
   "metadata": {},
   "outputs": [
    {
     "name": "stdout",
     "output_type": "stream",
     "text": [
      "third_birthday_year :2001\n",
      "oldest_year :2003\n"
     ]
    }
   ],
   "source": [
    "#QUES->1. Create a list called years_list, starting with the year of your birth, and each year thereafter until the year of your fifth birthday. For example, if you were born in 1980. the list would be years_list = [1980, 1981, 1982, 1983, 1984, 1985].\n",
    "      #2. In which year in years_list was your third birthday? Remember, you were 0 years of age for your first year.\n",
    "      #3.In the years list, which year were you the oldest?\n",
    "\n",
    "        \n",
    "#ANS->\n",
    "years_list = [1999, 2000, 2001, 2002, 2003, 2004]\n",
    "third_birthday_year = years_list[2]\n",
    "oldest_year = years_list[4]\n",
    "print(f'third_birthday_year :{third_birthday_year}')\n",
    "print(f'oldest_year :{oldest_year}')"
   ]
  },
  {
   "cell_type": "code",
   "execution_count": 2,
   "id": "d8152bdf",
   "metadata": {},
   "outputs": [
    {
     "name": "stdout",
     "output_type": "stream",
     "text": [
      "['mozzarella', 'Cinderella', 'salmonella']\n"
     ]
    }
   ],
   "source": [
    "#QUES->4. Make a list called things with these three strings as elements: \"mozzarella\", \"cinderella\", \"salmonella\".\n",
    "      #5. Capitalize the element in things that refers to a person and then print the list. Did it change the element in the list?\n",
    "\n",
    "    \n",
    "#ANS->\n",
    "things = [\"mozzarella\", \"cinderella\", \"salmonella\"]\n",
    "things[1] = things[1].capitalize()#cindrella refers as person \n",
    "print(things)\n"
   ]
  },
  {
   "cell_type": "code",
   "execution_count": 5,
   "id": "71a3c1f5",
   "metadata": {},
   "outputs": [
    {
     "data": {
      "text/plain": [
       "['Groucho', 'Chico', 'Oprah']"
      ]
     },
     "execution_count": 5,
     "metadata": {},
     "output_type": "execute_result"
    }
   ],
   "source": [
    "#QUES->6. Make a surprise list with the elements \"Groucho,\" \"Chico,\" and \"Harpo.\"\n",
    "      #7. Lowercase the last element of the surprise list, reverse it, and then capitalize it.\n",
    "    \n",
    "#ANS->\n",
    "surprise = [\"Groucho\", \"Chico\", \"Harpo\"]\n",
    "surprise[-1] = surprise[-1].lower()[::-1].capitalize() #lowering and reversing the last letter\n",
    "surprise"
   ]
  },
  {
   "cell_type": "code",
   "execution_count": 12,
   "id": "096daa1d",
   "metadata": {},
   "outputs": [
    {
     "name": "stdout",
     "output_type": "stream",
     "text": [
      "{'dog': 'chien', 'cat': 'chat', 'walrus': 'morse'}\n",
      "\n",
      "English version of the French word chien: dog\n",
      "\n",
      " {'walrus', 'dog', 'cat'}\n"
     ]
    }
   ],
   "source": [
    "#QUES->8. Make an English-to-French dictionary called e2f and print it. Here are your starter words: dog is chien, cat is chat, and walrus is morse.\n",
    "       #9. Write the French word for walrus in your three-word dictionary e2f.\n",
    "       #10. Make a French-to-English dictionary called f2e from e2f. Use the items method.\n",
    "       #11. Print the English version of the French word chien using f2e.\n",
    "       #12. Make and print a set of English words from the keys in e2f.\n",
    "\n",
    "\n",
    "\n",
    "\n",
    "#AMS->\n",
    "\n",
    "e2f = {\n",
    "    'dog': 'chien',\n",
    "    'cat': 'chat',\n",
    "    'walrus': 'morse'\n",
    "}\n",
    "\n",
    "print(e2f)\n",
    "\n",
    "\n",
    "f2e = {value: key for key, value in e2f.items()}\n",
    "print(f\"\\nEnglish version of the French word chien: {f2e['chien']}\")\n",
    "\n",
    "\n",
    "english_words = set(e2f.keys())\n",
    "print('\\n',english_words)\n",
    "\n",
    "\n"
   ]
  },
  {
   "cell_type": "code",
   "execution_count": 16,
   "id": "f7c1f8d2",
   "metadata": {},
   "outputs": [
    {
     "name": "stdout",
     "output_type": "stream",
     "text": [
      "top-level keys of life: dict_keys(['animals', 'plants', 'other'])\n",
      "\n",
      " dict_keys(['cats', 'octopi', 'emus'])\n",
      "\n",
      " ['Henri', 'Grumpy', 'Lucy']\n"
     ]
    }
   ],
   "source": [
    "#QUES->13. Make a multilevel dictionary called life. Use these strings for the topmost keys: 'animals', 'plants', and 'other'. Make the 'animals' key refer to another dictionary with the keys 'cats', 'octopi', and 'emus'. Make the 'cats' \n",
    "#key refer to a list of strings with the values 'Henri', 'Grumpy', and 'Lucy'. \n",
    "#Make all the other keys refer to empty dictionaries.\n",
    "      #14. Print the top-level keys of life.\n",
    "      #15. Print the keys for life['animals'].\n",
    "      #16. Print the values for life['animals']['cats']\n",
    "\n",
    "    \n",
    "#ANS->\n",
    "life = {\n",
    "    'animals': {\n",
    "        'cats': ['Henri', 'Grumpy', 'Lucy'],\n",
    "        'octopi': {},\n",
    "        'emus': {}\n",
    "    },\n",
    "    'plants': {},\n",
    "    'other': {}\n",
    "}\n",
    "\n",
    "print(f\"top-level keys of life: {life.keys()}\")\n",
    "\n",
    "print('\\n',life['animals'].keys())\n",
    "\n",
    "print('\\n',life['animals']['cats'])\n"
   ]
  },
  {
   "cell_type": "code",
   "execution_count": null,
   "id": "c8833edd",
   "metadata": {},
   "outputs": [],
   "source": []
  }
 ],
 "metadata": {
  "kernelspec": {
   "display_name": "Python 3 (ipykernel)",
   "language": "python",
   "name": "python3"
  },
  "language_info": {
   "codemirror_mode": {
    "name": "ipython",
    "version": 3
   },
   "file_extension": ".py",
   "mimetype": "text/x-python",
   "name": "python",
   "nbconvert_exporter": "python",
   "pygments_lexer": "ipython3",
   "version": "3.10.9"
  }
 },
 "nbformat": 4,
 "nbformat_minor": 5
}
