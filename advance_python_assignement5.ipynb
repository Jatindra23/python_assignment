{
 "cells": [
  {
   "cell_type": "markdown",
   "id": "9dcaa832",
   "metadata": {},
   "source": [
    "Q1. **Meaning of Multiple Inheritance:**\n",
    "\n",
    "- ANS->\n",
    "Multiple inheritance is a feature in object-oriented programming languages that allows a class to inherit attributes and methods from multiple parent classes. In other words, a subclass can inherit from more than one superclass. This allows the subclass to combine the characteristics and behaviors of multiple classes. However, multiple inheritance can lead to complex interactions and conflicts, which need careful management.\n",
    "\n",
    "Q2. **Concept of Delegation:**\n",
    "\n",
    "- ANS->\n",
    "Delegation is a design pattern where an object forwards certain operations or method calls to another object, known as the delegate or helper object, to handle those operations. Instead of inheriting behavior directly, an object delegates specific tasks to other objects that are better suited to perform them. This promotes code reuse, encapsulation, and separation of concerns.\n",
    "\n",
    "Q3. **Concept of Composition:**\n",
    "\n",
    "- ANS->\n",
    "Composition is a design principle where objects of one class are used as components or parts within another class. It involves creating complex objects by assembling simpler objects. Instead of using inheritance, which establishes an \"is-a\" relationship, composition establishes a \"has-a\" relationship. This allows for more flexible and modular design, as components can be swapped or extended without affecting the entire structure.\n",
    "\n",
    "Q4. **Bound Methods and How to Use Them:**\n",
    "\n",
    "- ANS->\n",
    "Bound methods are methods that are associated with an instance of a class. When you access a method from an instance, Python automatically passes the instance itself (conventionally named `self`) as the first argument to the method. This binding of the instance to the method is what makes it \"bound.\" Bound methods allow you to work with instance-specific data and attributes. For example, in a class method `instance.my_method()`, `my_method` is a bound method.\n",
    "\n",
    "Q5. **Purpose of Pseudoprivate Attributes:**\n",
    "\n",
    "- ANS->\n",
    "In Python, there's a naming convention for attributes that start with a double underscore (`__`). These are often referred to as pseudoprivate attributes. They are not truly private, but their names are \"mangled\" to include the class name as a prefix to make them harder to accidentally override in subclasses. The purpose of pseudoprivate attributes is to reduce the risk of name clashes between attributes in subclasses and parent classes. They are not meant to provide strict encapsulation, but rather to signal to other developers that the attribute is intended to be used internally by the class."
   ]
  },
  {
   "cell_type": "code",
   "execution_count": null,
   "id": "3136f0b9",
   "metadata": {},
   "outputs": [],
   "source": []
  }
 ],
 "metadata": {
  "kernelspec": {
   "display_name": "Python 3 (ipykernel)",
   "language": "python",
   "name": "python3"
  },
  "language_info": {
   "codemirror_mode": {
    "name": "ipython",
    "version": 3
   },
   "file_extension": ".py",
   "mimetype": "text/x-python",
   "name": "python",
   "nbconvert_exporter": "python",
   "pygments_lexer": "ipython3",
   "version": "3.10.9"
  }
 },
 "nbformat": 4,
 "nbformat_minor": 5
}
