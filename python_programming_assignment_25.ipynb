{
 "cells": [
  {
   "cell_type": "code",
   "execution_count": 1,
   "id": "c99a7686",
   "metadata": {},
   "outputs": [
    {
     "name": "stdout",
     "output_type": "stream",
     "text": [
      "3\n",
      "2\n",
      "0\n"
     ]
    }
   ],
   "source": [
    "# Question1\n",
    "# Create a function that takes three integer arguments (a, b, c) and returns the amount of\n",
    "# integers which are of equal value.\n",
    "\n",
    "def equal(a, b, c):\n",
    "    if a == b == c:\n",
    "        return 3\n",
    "    elif a == b or a == c or b == c:\n",
    "        return 2\n",
    "    else:\n",
    "        return 0\n",
    "\n",
    "# Test cases\n",
    "print(equal(5, 5, 5))  \n",
    "print(equal(4, 2, 2)) \n",
    "print(equal(7, 8, 1)) \n"
   ]
  },
  {
   "cell_type": "code",
   "execution_count": 2,
   "id": "b47892ea",
   "metadata": {},
   "outputs": [
    {
     "name": "stdout",
     "output_type": "stream",
     "text": [
      "[('g', 2), ('h', 3), ('j', 1)]\n",
      "[('friends', 10), ('hate', 3), ('love', 2)]\n"
     ]
    }
   ],
   "source": [
    "# Question2\n",
    "# Write a function that converts a dictionary into a list of keys-values tuples.\n",
    "\n",
    "def dict_to_list(dictionary):\n",
    "    sorted_items = sorted(dictionary.items())\n",
    "    return sorted_items\n",
    "\n",
    "\n",
    "print(dict_to_list({\"j\": 1, \"g\": 2, \"h\": 3})) \n",
    "print(dict_to_list({\"love\": 2, \"hate\": 3, \"friends\": 10})) \n"
   ]
  },
  {
   "cell_type": "code",
   "execution_count": 3,
   "id": "a38b4e0e",
   "metadata": {},
   "outputs": [
    {
     "name": "stdout",
     "output_type": "stream",
     "text": [
      "{'j': 'J', 'e': 'E'}\n",
      "{'r': 'R', 'g': 'G', 'b': 'B'}\n",
      "{'l': 'L', 'o': 'O', 'v': 'V', 'e': 'E'}\n"
     ]
    }
   ],
   "source": [
    "# Question3\n",
    "# Write a function that creates a dictionary with each (key, value) pair being the (lower case,\n",
    "# upper case) versions of a letter, respectively.\n",
    "\n",
    "def mapping(letters):\n",
    "    result = {}\n",
    "    for letter in letters:\n",
    "        result[letter] = letter.upper()\n",
    "    return result\n",
    "\n",
    "# Test cases\n",
    "print(mapping([\"j\", \"e\"])) \n",
    "print(mapping([\"r\", \"g\", \"b\"]))  \n",
    "print(mapping([\"l\", \"o\", \"v\", \"e\"])) \n"
   ]
  },
  {
   "cell_type": "code",
   "execution_count": 4,
   "id": "3d08a815",
   "metadata": {},
   "outputs": [
    {
     "name": "stdout",
     "output_type": "stream",
     "text": [
      "urungus und grupus\n",
      "brood toost\n",
      "pezze cheese \n"
     ]
    }
   ],
   "source": [
    "# Question4\n",
    "# Write a function, that replaces all vowels in a string with a specified vowel.\n",
    "\n",
    "def vow_replace(word, vowel):\n",
    "    vowels = \"aeiou\"\n",
    "    result = \"\"\n",
    "    for char in word:\n",
    "        if char in vowels:\n",
    "            result += vowel\n",
    "        else:\n",
    "            result += char\n",
    "    return result\n",
    "\n",
    "# Test cases\n",
    "print(vow_replace(\"oranges and grapes\", \"u\")) \n",
    "print(vow_replace(\"bread toast\", \"o\"))  \n",
    "print(vow_replace(\"pizza cheese \", \"e\"))  \n"
   ]
  },
  {
   "cell_type": "code",
   "execution_count": 5,
   "id": "f6ff7df5",
   "metadata": {},
   "outputs": [
    {
     "name": "stdout",
     "output_type": "stream",
     "text": [
      "Be HaPPy iN LiFe\n",
      "eNJoy LiTTLe THiNgs\n",
      "woRk HaRD\n"
     ]
    }
   ],
   "source": [
    "# Question5\n",
    "# Create a function that takes a string as input and capitalizes a letter if its ASCII code is even\n",
    "# and returns its lower case version if its ASCII code is odd.\n",
    "\n",
    "def ascii_capitalize(text):\n",
    "    result = \"\"\n",
    "    for char in text:\n",
    "        ascii_code = ord(char)\n",
    "        if ascii_code % 2 == 0:\n",
    "            result += char.upper()\n",
    "        else:\n",
    "            result += char.lower()\n",
    "    return result\n",
    "\n",
    "print(ascii_capitalize(\"be happy in life\")) \n",
    "print(ascii_capitalize(\"enjoy little things\")) \n",
    "print(ascii_capitalize(\"work hard\"))  \n"
   ]
  }
 ],
 "metadata": {
  "kernelspec": {
   "display_name": "Python 3 (ipykernel)",
   "language": "python",
   "name": "python3"
  },
  "language_info": {
   "codemirror_mode": {
    "name": "ipython",
    "version": 3
   },
   "file_extension": ".py",
   "mimetype": "text/x-python",
   "name": "python",
   "nbconvert_exporter": "python",
   "pygments_lexer": "ipython3",
   "version": "3.10.9"
  }
 },
 "nbformat": 4,
 "nbformat_minor": 5
}
