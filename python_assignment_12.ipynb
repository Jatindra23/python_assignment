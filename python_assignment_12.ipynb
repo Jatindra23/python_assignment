{
 "cells": [
  {
   "cell_type": "raw",
   "id": "929a758a",
   "metadata": {},
   "source": [
    "QUES->1. In what modes should the PdfFileReader() and PdfFileWriter() File objects will be opened?\n",
    "\n",
    "ANS->\n",
    "When using the PdfFileReader() and PdfFileWriter() functions from the PyPDF2 library in Python, you don't explicitly open File objects in specific modes. Instead, you pass the file object as an argument to the PdfFileReader() or PdfFileWriter() function.\n",
    "ex:\n",
    "file_obj = open('document.pdf', 'rb')\n",
    "pdf_reader = PdfFileReader(file_obj)\n"
   ]
  },
  {
   "cell_type": "raw",
   "id": "85b09ae1",
   "metadata": {},
   "source": [
    "QUES->2. From a PdfFileReader object, how do you get a Page object for page 5?\n",
    "\n",
    "ANS->\n",
    "To get a Page object for page 5 from a PdfFileReader object, you can use the getPage() method, specifying the index of the page (starting from 0) as the argument.\n",
    "ex:\n",
    "page_number = 4  # Page 5 (0-based index)\n",
    "page_object = pdf_reader.getPage(page_number)\n",
    "\n",
    "The getPage() method returns a Page object representing the specified page."
   ]
  },
  {
   "cell_type": "raw",
   "id": "2acecc6d",
   "metadata": {},
   "source": [
    "QUES->3. What PdfFileReader variable stores the number of pages in the PDF document?\n",
    "\n",
    "ANS->\n",
    "The number of pages in a PDF document can be obtained using the numPages attribute of a PdfFileReader object.\n",
    "\n",
    "ex:\n",
    "num_pages = pdf_reader.numPages"
   ]
  },
  {
   "cell_type": "raw",
   "id": "626fa9a2",
   "metadata": {},
   "source": [
    "QUES->4. If a PdfFileReader object’s PDF is encrypted with the password swordfish, what must you do before you can obtain Page objects from it?\n",
    "\n",
    "ANS->\n",
    "If a PdfFileReader object's PDF is encrypted with the password \"ineuron,\" you need to decrypt it before obtaining Page objects. You can use the decrypt() method of the PdfFileReader object, passing the correct password as an argument.\n",
    "For example:\n",
    "pdf_reader.decrypt('ineuron')\n"
   ]
  },
  {
   "cell_type": "raw",
   "id": "fd052870",
   "metadata": {},
   "source": [
    "QUES->5. What methods do you use to rotate a page?\n",
    "\n",
    "ANS->\n",
    "To rotate a page in PyPDF2, you can use the rotateClockwise() or rotateCounterClockwise() methods of the Page object. Both methods accept an angle parameter specifying the rotation angle in degrees (90, 180, or 270).\n",
    "for ex:\n",
    "page_object.rotateClockwise(90)\n"
   ]
  },
  {
   "cell_type": "raw",
   "id": "b7b803c3",
   "metadata": {},
   "source": [
    "QUES->6. What is the difference between a Run object and a Paragraph object?\n",
    "\n",
    "ANS->\n",
    "In the context of document processing libraries like PyPDF2, a Run object and a Paragraph object have different purposes:\n",
    "A Run object typically represents a continuous span of text within a paragraph that shares the same formatting properties, such as font, size, style, or color. It is often used in word processing libraries like python-docx to manipulate text properties at a more granular level.\n",
    "\n",
    "A Paragraph object, on the other hand, represents a complete paragraph of text. It contains one or more Run objects, which collectively make up the text content of the paragraph. The Paragraph object can be used to manipulate the paragraph-level properties like alignment, indentation, spacing, etc."
   ]
  },
  {
   "cell_type": "raw",
   "id": "248815f0",
   "metadata": {},
   "source": [
    "QUES->7. How do you obtain a list of Paragraph objects for a Document object that’s stored in a variable named doc?\n",
    "\n",
    "ANS->\n",
    "To obtain a list of Paragraph objects for a import docx and then create Document object stored in a variable named doc, you can use the paragraphs property of the Document object. It returns a list of Paragraph objects representing the paragraphs in the document.\n",
    "\n",
    "for Ex:\n",
    "\n",
    "from docx import Document\n",
    "doc = Document()\n",
    "paragraphs_list = doc.paragraphs\n"
   ]
  },
  {
   "cell_type": "raw",
   "id": "157ecf03",
   "metadata": {},
   "source": [
    "QUES->8. What type of object has bold, underline, italic, strike, and outline variables?\n",
    "\n",
    "ANS->\n",
    "The object that has the variables bold, underline, italic, strike, and outline is the Run object. In libraries like python-docx, a Run object represents a span of text within a paragraph that shares the same formatting properties."
   ]
  },
  {
   "cell_type": "raw",
   "id": "866be651",
   "metadata": {},
   "source": [
    "QUES->9. What is the difference between False, True, and None for the bold variable?\n",
    "\n",
    "ANS->\n",
    "In the context of the bold variable:\n",
    "\n",
    "False: Indicates that the text should not be bold.\n",
    "True: Indicates that the text should be bold.\n",
    "None: Indicates that the bold formatting should not be explicitly set. It allows the text to inherit the default bold setting from the parent style or document.\n",
    "The interpretation of False, True, and None can vary depending on the specific library or context being used. This explanation is specific to the docx library."
   ]
  },
  {
   "cell_type": "raw",
   "id": "e0054c1f",
   "metadata": {},
   "source": [
    "QUES->10. How do you create a Document object for a new Word document?\n",
    "\n",
    "ANS->\n",
    "To create a Document object for a new Word document, you can use the Document() constructor from the docx library.\n",
    "\n",
    "example:\n",
    "!pip install python-docx\n",
    "\n",
    "from docx import Document\n",
    "\n",
    "doc = Document()\n"
   ]
  },
  {
   "cell_type": "raw",
   "id": "754b29f0",
   "metadata": {},
   "source": [
    "QUES->11. How do you add a paragraph with the text 'Hello, there!' to a Document object stored in a variable named doc?\n",
    "\n",
    "ANS->\n",
    "To add a paragraph with the text 'Hello, there!' to a Document object stored in a variable named doc, you can use the add_paragraph() method of the Document object.\n",
    "\n",
    "example:\n",
    "paragraph_text = 'Hello, there!'\n",
    "doc.add_paragraph(paragraph_text)\n"
   ]
  },
  {
   "cell_type": "raw",
   "id": "d5309081",
   "metadata": {},
   "source": [
    "QUES->12. What integers represent the levels of headings available in Word documents?\n",
    "\n",
    "ANS->\n",
    "n Word documents, the levels of headings are represented by integer values. The commonly used integer values for heading levels are:\n",
    "Heading 1: Level 1\n",
    "Heading 2: Level 2\n",
    "Heading 3: Level 3\n",
    "Heading 4: Level 4\n",
    "Heading 5: Level 5\n",
    "Heading 6: Level 6\n",
    "The numbering starts from 1, and higher numbers represent lower-level headings. These heading levels are used to structure the document and create a hierarchical outline."
   ]
  },
  {
   "cell_type": "code",
   "execution_count": null,
   "id": "ce822720",
   "metadata": {},
   "outputs": [],
   "source": []
  }
 ],
 "metadata": {
  "kernelspec": {
   "display_name": "Python 3 (ipykernel)",
   "language": "python",
   "name": "python3"
  },
  "language_info": {
   "codemirror_mode": {
    "name": "ipython",
    "version": 3
   },
   "file_extension": ".py",
   "mimetype": "text/x-python",
   "name": "python",
   "nbconvert_exporter": "python",
   "pygments_lexer": "ipython3",
   "version": "3.10.9"
  }
 },
 "nbformat": 4,
 "nbformat_minor": 5
}
