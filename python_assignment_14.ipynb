{
 "cells": [
  {
   "cell_type": "raw",
   "id": "f9594f3f",
   "metadata": {},
   "source": [
    "QUES->1. What does RGBA stand for?\n",
    "\n",
    "ANS->\n",
    "RGBA stands for Red, Green, Blue, and Alpha. It is a color model commonly used in computer graphics and image processing. Each component represents the intensity of the respective color channel, and the alpha component represents the transparency or opacity of the pixel."
   ]
  },
  {
   "cell_type": "raw",
   "id": "33fe5075",
   "metadata": {},
   "source": [
    "QUES->2. From the Pillow module, how do you get the RGBA value of any images?\n",
    "\n",
    "ANS->\n",
    "In the Pillow module, you can use the Image.getpixel() method to get the RGBA value of any pixel in an image. This method takes the coordinates of the pixel as parameters and returns a tuple containing the RGBA values."
   ]
  },
  {
   "cell_type": "code",
   "execution_count": null,
   "id": "766d8ad3",
   "metadata": {},
   "outputs": [],
   "source": [
    "#example:\n",
    "from PIL import Image\n",
    "\n",
    "# Open the image\n",
    "image = Image.open('image.jpg')\n",
    "\n",
    "# Get the RGBA value of a pixel at coordinates (x, y)\n",
    "rgba = image.getpixel((x, y))\n",
    "\n",
    "# Print the RGBA values\n",
    "print(rgba)\n"
   ]
  },
  {
   "cell_type": "raw",
   "id": "4f2523d1",
   "metadata": {},
   "source": [
    "QUES->3. What is a box tuple, and how does it work?\n",
    "\n",
    "ANS->\n",
    "In the context of the Pillow module, a box tuple represents a rectangular region within an image. It is defined as a tuple containing four values: (left, upper, right, lower). The left and upper values represent the coordinates of the top-left corner of the box, while the right and lower values represent the coordinates of the bottom-right corner of the box.\n",
    "When working with image manipulation using Pillow, you can use box tuples to specify regions of interest, such as cropping an image or extracting a specific portion."
   ]
  },
  {
   "cell_type": "raw",
   "id": "b6f3f4f9",
   "metadata": {},
   "source": [
    "QUES->4. Use your image and load in notebook then, How can you find out the width and height of an Image object?\n",
    "\n",
    "ANS->\n",
    "To find out the width and height of an Image object in Pillow, you can use the Image.size attribute. It returns a tuple containing the width and height of the image."
   ]
  },
  {
   "cell_type": "code",
   "execution_count": null,
   "id": "17d40984",
   "metadata": {},
   "outputs": [],
   "source": [
    "#example:\n",
    "from PIL import Image\n",
    "\n",
    "# Open the image\n",
    "image = Image.open('image.jpg')\n",
    "\n",
    "# Get the width and height\n",
    "width, height = image.size\n",
    "\n",
    "# Print the width and height\n",
    "print(\"Width:\", width)\n",
    "print(\"Height:\", height)"
   ]
  },
  {
   "cell_type": "raw",
   "id": "be0cf3ce",
   "metadata": {},
   "source": [
    "QUES->5. What method would you call to get Image object for a 100×100 image, excluding the lower-left quarter of it?\n",
    "\n",
    "ANS->\n",
    "To get an Image object for a 100×100 image, excluding the lower-left quarter of it, you can use the Image.crop() method. This method takes a box tuple representing the region to be cropped."
   ]
  },
  {
   "cell_type": "code",
   "execution_count": null,
   "id": "376bf2e0",
   "metadata": {},
   "outputs": [],
   "source": [
    "#example:\n",
    "from PIL import Image\n",
    "\n",
    "# Open the image\n",
    "image = Image.open('image.jpg')\n",
    "\n",
    "# Define the box tuple for the upper-right three-quarters of the image\n",
    "box = (0, 0, 100, 100)\n",
    "\n",
    "# Crop the image\n",
    "cropped_image = image.crop(box)\n",
    "\n",
    "# Display the cropped image\n",
    "cropped_image.show()\n",
    "\n",
    "#This code snippet crops the image to include the upper-left quarter\n",
    "#starting from the top-left corner (0, 0) and ending at coordinates (100, 100)."
   ]
  },
  {
   "cell_type": "raw",
   "id": "78bfcec9",
   "metadata": {},
   "source": [
    "QUES->6. After making changes to an Image object, how could you save it as an image file?\n",
    "\n",
    "ANS->\n",
    "To save an Image object as an image file after making changes, you can use the Image.save() method. This method allows you to save the modified image to a file on your system. It takes the file path and optionally the file format as parameters."
   ]
  },
  {
   "cell_type": "code",
   "execution_count": null,
   "id": "16ba293d",
   "metadata": {},
   "outputs": [],
   "source": [
    "#example:\n",
    "from PIL import Image\n",
    "\n",
    "# Open the image\n",
    "image = Image.open('image.jpg')\n",
    "\n",
    "# Perform modifications to the image\n",
    "\n",
    "# Save the modified image\n",
    "image.save('modified_image.jpg')\n"
   ]
  },
  {
   "cell_type": "raw",
   "id": "dcb1cde7",
   "metadata": {},
   "source": [
    "QUES->7. What module contains Pillow’s shape-drawing code?\n",
    "\n",
    "ANS->\n",
    "The module that contains Pillow's shape-drawing code is ImageDraw. This module provides methods and functions to draw various shapes, such as lines, rectangles, circles, polygons, and text, on an Image object.\n",
    "To use the shape-drawing capabilities of Pillow, you need to import the ImageDraw module. "
   ]
  },
  {
   "cell_type": "code",
   "execution_count": null,
   "id": "6539c627",
   "metadata": {},
   "outputs": [],
   "source": [
    "#example:\n",
    "from PIL import Image, ImageDraw\n",
    "\n",
    "# Open the image\n",
    "image = Image.open('image.jpg')\n",
    "\n",
    "# Create an ImageDraw object\n",
    "draw = ImageDraw.Draw(image)\n",
    "\n",
    "# Use the drawing methods to draw shapes on the image\n",
    "draw.line([(0, 0), (100, 100)], fill='red', width=2)\n",
    "draw.rectangle([(50, 50), (150, 150)], outline='blue', width=2)\n",
    "\n",
    "# Save or display the modified image\n",
    "image.save('modified_image.jpg')\n"
   ]
  },
  {
   "cell_type": "raw",
   "id": "bf408911",
   "metadata": {},
   "source": [
    "QUES->8. Image objects do not have drawing methods. What kind of object does? How do you get this kind of object?\n",
    "\n",
    "ANS->\n",
    "ImageDraw objects have the drawing methods for various shapes and text. To get an ImageDraw object, you need to create it using the ImageDraw.Draw() method and pass the Image object you want to draw on as a parameter."
   ]
  },
  {
   "cell_type": "code",
   "execution_count": null,
   "id": "ed48c6bf",
   "metadata": {},
   "outputs": [],
   "source": [
    "#example:\n",
    "from PIL import Image, ImageDraw\n",
    "\n",
    "# Open the image\n",
    "image = Image.open('image.jpg')\n",
    "\n",
    "# Create an ImageDraw object\n",
    "draw = ImageDraw.Draw(image)\n",
    "\n",
    "# Use the drawing methods of draw to draw on the image\n",
    "draw.line([(0, 0), (100, 100)], fill='red', width=2)\n",
    "draw.rectangle([(50, 50), (150, 150)], outline='blue', width=2)\n",
    "\n",
    "# Save or display the modified image\n",
    "image.save('modified_image.jpg')\n"
   ]
  }
 ],
 "metadata": {
  "kernelspec": {
   "display_name": "Python 3 (ipykernel)",
   "language": "python",
   "name": "python3"
  },
  "language_info": {
   "codemirror_mode": {
    "name": "ipython",
    "version": 3
   },
   "file_extension": ".py",
   "mimetype": "text/x-python",
   "name": "python",
   "nbconvert_exporter": "python",
   "pygments_lexer": "ipython3",
   "version": "3.10.9"
  }
 },
 "nbformat": 4,
 "nbformat_minor": 5
}
