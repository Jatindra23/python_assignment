{
 "cells": [
  {
   "cell_type": "raw",
   "id": "25a63043",
   "metadata": {},
   "source": [
    "QUES->1) . What is the difference between enclosing a list comprehension in square brackets and parentheses?\n",
    "\n",
    "ANS->\n",
    "The difference between enclosing a list comprehension in square brackets ([]) and parentheses (()) is that square brackets create a list, while parentheses create a generator expression.\n",
    "\n",
    "List comprehension: When a list comprehension is enclosed in square brackets, it immediately evaluates the expression and constructs a list object containing the computed values. This means that all the values are computed and stored in memory at once. The resulting list can be accessed multiple times or modified.\n",
    "\n",
    "Generator expression: When a generator expression is enclosed in parentheses, it creates a generator object. A generator is an iterator that generates values on-the-fly as they are needed, rather than computing and storing all the values at once. This makes generators memory-efficient, especially when dealing with large amounts of data or infinite sequences.\n",
    " creates a generator object that can be iterated over to yield values [0, 1, 4, 9, 16].\n"
   ]
  },
  {
   "cell_type": "code",
   "execution_count": 16,
   "id": "aebfe7a4",
   "metadata": {},
   "outputs": [
    {
     "name": "stdout",
     "output_type": "stream",
     "text": [
      "[0, 1, 4, 9, 16]\n",
      "0\n",
      "1\n",
      "4\n",
      "9\n",
      "16\n"
     ]
    }
   ],
   "source": [
    "#Example:\n",
    "    \n",
    "#creates the list    \n",
    "lis = [x**2 for x in range(5)]\n",
    "print(lis)\n",
    "\n",
    "#Example:\n",
    "\n",
    "#generator example\n",
    "a = (x**2 for x in range(5))\n",
    "\n",
    "for i in a:\n",
    "    print(i)"
   ]
  },
  {
   "cell_type": "raw",
   "id": "dd6bbda7",
   "metadata": {},
   "source": [
    "QUES->2) What is the relationship between generators and iterators?\n",
    "\n",
    "ANS->\n",
    "Generators are a type of iterator: Generators are a special type of iterator that can be created using generator functions or generator expressions. They allow you to define an iterable sequence by writing a function that uses the yield statement to produce values one at a time. Each time the yield statement is encountered, the generator function's state is saved, and the value is returned. Generators can be iterated over using a for loop or by calling the next() function on them.\n",
    "\n",
    "Iterators are more general: Iterators are objects that implement the iterator protocol, which consists of the __iter__() and __next__() methods. Iterators can be used to represent any iterable sequence, including generators. They provide a way to access elements of a sequence one at a time without loading the entire sequence into memory. Iterators are commonly used in for loops and can be manually iterated using the next() function."
   ]
  },
  {
   "cell_type": "raw",
   "id": "715f8ffc",
   "metadata": {},
   "source": [
    "QUES->3) What are the signs that a function is a generator function?\n",
    "\n",
    "ANS->\n",
    "It contains the yield statement: The presence of the yield keyword is the most obvious sign that a function is a generator function. The yield statement is used to produce a value from the generator and temporarily suspend its execution until the next value is requested.\n",
    "\n",
    "It uses the def keyword: Generator functions are defined using the def keyword, just like regular functions. However, the presence of the yield statement within the function body is what distinguishes it as a generator function."
   ]
  },
  {
   "cell_type": "raw",
   "id": "7550ce44",
   "metadata": {},
   "source": [
    "QUES->4) What is the purpose of a yield statement?\n",
    "\n",
    "ANS->\n",
    "The purpose of the yield statement in Python is to define a generator function and control the flow of values that the generator produces. When a generator encounters a yield statement, it yields a value and suspends its execution, saving its internal state. The generator can then be resumed later to continue execution from where it left off.\n",
    "The yield statement allows you to create iterable sequences that can be evaluated. This is useful when dealing with large data sets or infinite sequences, as it saves memory by only computing and storing values as they are needed."
   ]
  },
  {
   "cell_type": "raw",
   "id": "1c2a1bfe",
   "metadata": {},
   "source": [
    "QUES->5) What is the relationship between map calls and list comprehensions? Make a comparison and contrast between the two.\n",
    "\n",
    "ANS->\n",
    "Map calls and list comprehensions are both ways to apply a transformation to a sequence of values and produce a new sequence.\n",
    "\n",
    "-List comprehensions have a more concise syntax compared to map() calls. They allow you to define the transformation and iteration in a single expression, making the code easier to read and write. map() calls require a separate function and the use of lambda expressions for simple transformations.\n",
    "\n",
    "-List comprehensions always return a list object, containing the computed values. map() calls return a map object (an iterator) by default, which needs to be explicitly converted to a list using list().\n",
    "\n",
    "-List comprehensions compute and store all the values in memory at once, creating a complete list. In contrast, map() returns an iterator that lazily evaluates the transformation, producing values one at a time as they are requested. This makes map() more memory-efficient, especially when dealing with large data sets or infinite sequences.\n"
   ]
  },
  {
   "cell_type": "code",
   "execution_count": 30,
   "id": "d403c189",
   "metadata": {},
   "outputs": [
    {
     "name": "stdout",
     "output_type": "stream",
     "text": [
      "[4, 10, 7]\n"
     ]
    }
   ],
   "source": [
    "#map function\n",
    "def myfunc(n):\n",
    "    return len(n)\n",
    "\n",
    "x = map(myfunc, ('Thor', 'Multiverse', 'Ironman'))\n",
    "print(list(x))"
   ]
  },
  {
   "cell_type": "code",
   "execution_count": null,
   "id": "b3d6738d",
   "metadata": {},
   "outputs": [],
   "source": []
  },
  {
   "cell_type": "code",
   "execution_count": null,
   "id": "354c8c09",
   "metadata": {},
   "outputs": [],
   "source": []
  }
 ],
 "metadata": {
  "kernelspec": {
   "display_name": "Python 3 (ipykernel)",
   "language": "python",
   "name": "python3"
  },
  "language_info": {
   "codemirror_mode": {
    "name": "ipython",
    "version": 3
   },
   "file_extension": ".py",
   "mimetype": "text/x-python",
   "name": "python",
   "nbconvert_exporter": "python",
   "pygments_lexer": "ipython3",
   "version": "3.10.9"
  }
 },
 "nbformat": 4,
 "nbformat_minor": 5
}
