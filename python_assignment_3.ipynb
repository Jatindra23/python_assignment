{
 "cells": [
  {
   "cell_type": "raw",
   "id": "dca9e236",
   "metadata": {},
   "source": [
    "QUES->1. Why are functions advantageous to have in your programs?\n",
    "\n",
    "ANS->\n",
    "Modularity and Reusability: Functions allow you to break down your code into smaller, self-contained units of logic. Each function performs a specific task, making the overall program more organized and easier to understand. By encapsulating a piece of functionality within a function,  code can be reused in multiple parts of program or in different programs.\n",
    "\n",
    "Abstraction: Functions enable abstraction by hiding the implementation details of a particular operation behind a function name. This allows you to focus on what a function does rather than how it does it. By using functions, you can create higher-level abstractions and build complex programs by combining simpler functions.\n",
    "\n",
    "Code Readability and Maintainability: Functions promote code readability by dividing a program into logical blocks. Each function has a specific purpose, making it easier to understand and reason about the code.\n",
    "\n",
    "Code Reusability: Functions can be reused in different parts of a program or in multiple programs. Instead of duplicating code, you can define a function once and call it whenever you need that specific functionality. This not only saves time but also ensures consistency across your codebase.\n",
    "\n",
    "Testing and Debugging: Functions enable easier testing and debugging. By dividing your code into smaller functions, you can write unit tests that target specific functionality. When issues arise, you can isolate and debug a particular function, making it easier to identify and fix bugs."
   ]
  },
  {
   "cell_type": "raw",
   "id": "e2940e07",
   "metadata": {},
   "source": [
    "QUES->2. When does the code in a function run: when it's specified or when it's called?\n",
    "\n",
    "\n",
    "ANS->\n",
    "The code inside a function runs when the function is called. Defining a function does not execute the code within it. It simply defines the function and its associated block of code.\n",
    "\n",
    "Once the function is defined, you can call it from other parts of your program to execute the code inside the function's block. The function call triggers the execution of the code within the function.\n"
   ]
  },
  {
   "cell_type": "code",
   "execution_count": 1,
   "id": "c2eb566f",
   "metadata": {},
   "outputs": [
    {
     "name": "stdout",
     "output_type": "stream",
     "text": [
      "Hello, world!\n"
     ]
    }
   ],
   "source": [
    "#ANS-> example:\n",
    "\n",
    "def greet():\n",
    "    print(\"Hello, world!\")\n",
    "\n",
    "# Function defined, but code not executed yet\n",
    "\n",
    "greet()  # Function call"
   ]
  },
  {
   "cell_type": "raw",
   "id": "44451a51",
   "metadata": {},
   "source": [
    "ANS->\n",
    "In the above example, the greet() function is defined to print \"Hello, world!\". However, the code within the function is not executed until the function is called using greet(). At that point, the code inside the function is executed, and the output \"Hello, world!\" is displayed.\n",
    "\n",
    "It's important to note that each time you call a function, the code within the function's block will run again, unless there are conditional statements or loops inside the function that control the flow of execution."
   ]
  },
  {
   "cell_type": "raw",
   "id": "436c367c",
   "metadata": {},
   "source": [
    "QUES->3. What statement creates a function?\n",
    "\n",
    "\n",
    "ANS->\n",
    "In Python, the def statement is used to create a function. The def statement is followed by the function name, parentheses for optional parameters, and a colon to indicate the start of the function's block of code.\n"
   ]
  },
  {
   "cell_type": "code",
   "execution_count": 2,
   "id": "416c5f95",
   "metadata": {},
   "outputs": [
    {
     "name": "stdout",
     "output_type": "stream",
     "text": [
      "The sum is: 7\n"
     ]
    }
   ],
   "source": [
    "#ANS-> example:\n",
    "def add_numbers(a, b):\n",
    "    sum = a + b\n",
    "    print(\"The sum is:\", sum)\n",
    "\n",
    "add_numbers(2,5) #function call"
   ]
  },
  {
   "cell_type": "raw",
   "id": "467b6778",
   "metadata": {},
   "source": [
    "ANS->\n",
    "Once the function is defined, it can be called from other parts of the program using its name followed by parentheses and passing the required arguments\n",
    "By using the def statement, you can define and create your own custom functions to encapsulate specific blocks of code and perform reusable tasks in your programs.\n"
   ]
  },
  {
   "cell_type": "raw",
   "id": "77c03ccb",
   "metadata": {},
   "source": [
    "QUES->4. What is the difference between a function and a function call?\n",
    "\n",
    "\n",
    "ANS->\n",
    "Function: A function is a block of code that performs a specific task or a set of operations. It is a reusable piece of code that can be defined once and called multiple times throughout a program. Functions in programming are used to modularize code, promote reusability, and encapsulate logic into separate units.\n",
    "\n",
    "Function Call: A function call, also known as invoking or executing a function, is the act of using the function in your program to run the code inside the function's block. It is the statement that triggers the execution of the function's code. When a function is called, the program transfers control to that function, executes the code within the function, and then returns back to the point of the function call.\n",
    "\n",
    "In simpler terms, a function is like a recipe that defines a set of instructions, while a function call is like following that recipe or using that blueprint to actually execute the instructions and obtain the desired result."
   ]
  },
  {
   "cell_type": "raw",
   "id": "2e5ffe25",
   "metadata": {},
   "source": [
    "QUES->5. How many global scopes are there in a Python program? How many local scopes?\n",
    "\n",
    "\n",
    "ANS->\n",
    "In a Python program, there is typically one global scope and multiple local scopes.\n",
    "\n",
    "Global Scope: The global scope refers to the outermost scope of a program. Variables defined in the global scope are accessible throughout the entire program, including all functions, unless they are shadowed by variables with the same name in inner scopes. The global scope is created when the program starts and remains active until the program terminates.\n",
    "\n",
    "Local Scopes: Local scopes, also known as function scopes, are created whenever a function is called or when a code block is entered. Each function call or code block creates its own local scope. Variables defined within a local scope are only accessible within that specific scope, including any nested scopes. Once the function call or code block completes, the local scope is destroyed, and the variables within it are no longer accessible."
   ]
  },
  {
   "cell_type": "code",
   "execution_count": 3,
   "id": "3192e5f8",
   "metadata": {},
   "outputs": [
    {
     "name": "stdout",
     "output_type": "stream",
     "text": [
      "10\n",
      "20\n",
      "10\n"
     ]
    }
   ],
   "source": [
    "#ANS->\n",
    "#example:\n",
    "\n",
    "global_var = 10  # Variable in the global scope\n",
    "\n",
    "def my_function():\n",
    "    local_var = 20  # Variable in the local scope (function scope)\n",
    "    print(global_var)  # Accessing the global variable within the function\n",
    "    print(local_var)  # Accessing the local variable within the function\n",
    "\n",
    "my_function()\n",
    "print(global_var)  # Accessing the global variable outside the function\n"
   ]
  },
  {
   "cell_type": "raw",
   "id": "74cebd3b",
   "metadata": {},
   "source": [
    "QUES->6. What happens to variables in a local scope when the function call returns?\n",
    "\n",
    "\n",
    "ANS->\n",
    "When a function call returns in Python, the local scope associated with that function is destroyed, and the variables defined within that local scope cease to exist. This process is known as variable cleanup or variable destruction.\n",
    "\n",
    "Once the function call returns, variables defined within the local scope of the function are no longer accessible outside the function. Any attempt to access those variables will result in a NameError because the variables no longer exist.\n"
   ]
  },
  {
   "cell_type": "code",
   "execution_count": 4,
   "id": "4451b52e",
   "metadata": {},
   "outputs": [
    {
     "name": "stdout",
     "output_type": "stream",
     "text": [
      "10\n"
     ]
    },
    {
     "ename": "NameError",
     "evalue": "name 'local_var' is not defined",
     "output_type": "error",
     "traceback": [
      "\u001b[1;31m---------------------------------------------------------------------------\u001b[0m",
      "\u001b[1;31mNameError\u001b[0m                                 Traceback (most recent call last)",
      "Cell \u001b[1;32mIn[4], line 9\u001b[0m\n\u001b[0;32m      6\u001b[0m     \u001b[38;5;28mprint\u001b[39m(local_var)\n\u001b[0;32m      8\u001b[0m my_function()\n\u001b[1;32m----> 9\u001b[0m \u001b[38;5;28mprint\u001b[39m(\u001b[43mlocal_var\u001b[49m)\n",
      "\u001b[1;31mNameError\u001b[0m: name 'local_var' is not defined"
     ]
    }
   ],
   "source": [
    "#ANS->\n",
    "#ex:\n",
    "\n",
    "def my_function():\n",
    "    local_var = 10\n",
    "    print(local_var)\n",
    "\n",
    "my_function()\n",
    "print(local_var)  # Raises NameError: name 'local_var' is not defined\n"
   ]
  },
  {
   "cell_type": "raw",
   "id": "004f34b0",
   "metadata": {},
   "source": [
    "QUES->7. What is the concept of a return value? Is it possible to have a return value in an expression?\n",
    "\n",
    "\n",
    "ANS->\n",
    "The concept of a return value in programming refers to the value that a function can optionally send back to the caller after executing its code. When a function is called, it may perform certain operations and produce a result, which can be returned using the return statement.\n",
    "\n",
    "The return statement allows a function to specify an expression or a value that will be returned as the output of the function. This returned value can then be assigned to a variable or used in further expressions."
   ]
  },
  {
   "cell_type": "code",
   "execution_count": 5,
   "id": "15bb35a5",
   "metadata": {},
   "outputs": [
    {
     "name": "stdout",
     "output_type": "stream",
     "text": [
      "7\n"
     ]
    }
   ],
   "source": [
    "#ANS->\n",
    "\n",
    "#ex:\n",
    "\n",
    "def add_numbers(a, b):\n",
    "    return a + b\n",
    "\n",
    "result = add_numbers(3, 4)\n",
    "print(result) \n"
   ]
  },
  {
   "cell_type": "raw",
   "id": "45c77e25",
   "metadata": {},
   "source": [
    " it is possible to have a return value in an expression. The return value of a function can be used directly in expressions or assigned to variables for further manipulation or usage in the program.\n",
    " \n",
    "in the below example, the calculate_square() function returns the square of a given number. The return values of two function calls, calculate_square(5) and calculate_square(3), are used in an expression to calculate their sum. The result, 34, is printed as the output"
   ]
  },
  {
   "cell_type": "code",
   "execution_count": 6,
   "id": "ae72dcb2",
   "metadata": {},
   "outputs": [
    {
     "name": "stdout",
     "output_type": "stream",
     "text": [
      "34\n"
     ]
    }
   ],
   "source": [
    "#Ex:\n",
    "\n",
    "def calculate_square(num):\n",
    "    return num ** 2\n",
    "\n",
    "result = calculate_square(5) + calculate_square(3)\n",
    "print(result)  \n"
   ]
  },
  {
   "cell_type": "raw",
   "id": "fef2c0eb",
   "metadata": {},
   "source": [
    "QUES->8. If a function does not have a return statement, what is the return value of a call to that function?\n",
    "\n",
    "\n",
    "ANS->\n",
    "If a function does not have a return statement, the return value of a call to that function is None. None is a special Python object that represents the absence of a value.\n",
    "\n",
    "When a function reaches the end without encountering a return statement, or when the function simply lacks a return statement, it implicitly returns None. This is known as an implicit return.\n",
    "\n",
    "None is not the same as an empty string (\"\"), zero (0), or False. None is a distinct object in Python that represents the absence of a value. Therefore, if a function call does not explicitly return a value, you can assume that the return value is None."
   ]
  },
  {
   "cell_type": "code",
   "execution_count": 8,
   "id": "c1d35e99",
   "metadata": {},
   "outputs": [
    {
     "name": "stdout",
     "output_type": "stream",
     "text": [
      "Doing something\n",
      "None\n"
     ]
    }
   ],
   "source": [
    "#example:\n",
    "\n",
    "def do_something():\n",
    "    print(\"Doing something\")\n",
    "\n",
    "result = do_something()\n",
    "print(result) \n"
   ]
  },
  {
   "cell_type": "raw",
   "id": "4caab8be",
   "metadata": {},
   "source": [
    "QUES->9. How do you make a function variable refer to the global variable?\n",
    "\n",
    "\n",
    "ANS->\n",
    "To make a function variable refer to a global variable, you can use the global keyword within the function. By using the global keyword, you indicate that a variable within the function should refer to the global variable with the same name, rather than creating a new local variable.\n",
    "\n",
    "By using the global keyword, you can access and modify global variables within a function. However, it's generally recommended to use global variables sparingly and consider alternative approaches, such as passing variables as function arguments or returning values from functions, to maintain better code organization and reduce potential side effects."
   ]
  },
  {
   "cell_type": "code",
   "execution_count": 12,
   "id": "d45d89c8",
   "metadata": {},
   "outputs": [
    {
     "name": "stdout",
     "output_type": "stream",
     "text": [
      "Before function call: 10\n",
      "After function call: 20\n"
     ]
    }
   ],
   "source": [
    "#example:\n",
    "\n",
    "global_var = 10\n",
    "\n",
    "def my_function():\n",
    "    global global_var  # Declare the variable as global within the function\n",
    "    global_var = 20    # Modify the global variable\n",
    "\n",
    "print(\"Before function call:\", global_var)  \n",
    "my_function()\n",
    "print(\"After function call:\", global_var)   \n"
   ]
  },
  {
   "cell_type": "raw",
   "id": "3c56112c",
   "metadata": {},
   "source": [
    "QUES->10. What is the data type of None?\n",
    "\n",
    "\n",
    "ANS->\n",
    "In Python, the data type of None is NoneType. NoneType is a built-in type that has a single value, which is None. It represents the absence or lack of a value.\n",
    "\n"
   ]
  },
  {
   "cell_type": "code",
   "execution_count": 10,
   "id": "96e8a59a",
   "metadata": {},
   "outputs": [
    {
     "name": "stdout",
     "output_type": "stream",
     "text": [
      "<class 'NoneType'>\n"
     ]
    }
   ],
   "source": [
    "#examole:\n",
    "\n",
    "result = None\n",
    "print(type(result))  # Output: <class 'NoneType'>\n"
   ]
  },
  {
   "cell_type": "raw",
   "id": "30d57a4d",
   "metadata": {},
   "source": [
    "QUES->12. If you had a bacon() feature in a spam module, what would you call it after importing spam?\n",
    "\n",
    "\n",
    "ANS->\n",
    "the spam module is imported using the import statement. To access the bacon() feature within the spam module, you use the dot notation (spam.bacon()) to specify the module name (spam) followed by the feature name (bacon()).\n",
    "\n",
    "This way, you can call and utilize the bacon() feature from the spam module in your Python program.\n"
   ]
  },
  {
   "cell_type": "raw",
   "id": "f312cf09",
   "metadata": {},
   "source": [
    "QUES->13. What can you do to save a programme from crashing if it encounters an error?\n",
    "\n",
    "\n",
    "ANS->\n",
    "o prevent a program from crashing when it encounters an error, you can implement error handling techniques. By using error handling, you can gracefully handle exceptions and take appropriate actions rather than allowing the program to abruptly terminate. Here are a few strategies to save a program from crashing:\n",
    "\n",
    "Try-except block: Wrap the potentially problematic code inside a try block, and use an except block to catch and handle specific exceptions. This allows you to gracefully handle exceptions without terminating the program. You can provide alternative code or error messages to handle the exceptional situations.\n",
    "\n",
    "Exception handling with multiple except blocks: If you want to handle different exceptions differently, you can use multiple except blocks to catch and handle specific exception types separately.\n",
    "\n",
    "Finally block: You can include a finally block after the try-except block to define code that should be executed regardless of whether an exception occurred or not. This block is useful for performing cleanup operations or releasing resources.\n",
    "\n",
    "Logging: Implement a robust logging mechanism to record information about errors, exceptions, and the state of your program. Logging allows you to capture and analyze the program's behavior, aiding in debugging and understanding the cause of errors."
   ]
  },
  {
   "cell_type": "raw",
   "id": "75000187",
   "metadata": {},
   "source": [
    "QUES->14. What is the purpose of the try clause? What is the purpose of the except clause?\n",
    "\n",
    "\n",
    "ANS->\n",
    "The try and except clauses are used together in Python's error handling mechanism to handle exceptions and prevent them from causing the program to crash.\n",
    "\n",
    "Purpose of the try clause:\n",
    "The try clause is used to enclose the potentially problematic code that may raise exceptions. It defines a block of code where you anticipate that an exception may occur. The purpose of the try clause is to monitor the code inside it and check for any raised exceptions.\n",
    "\n",
    "If an exception occurs within the try block, the execution of the block is immediately interrupted, and the program flow is transferred to the corresponding except block (if one exists) that can handle the specific exception.\n",
    "\n",
    "Purpose of the except clause:\n",
    "The except clause is used to specify how to handle specific exceptions that occur within the corresponding try block. It allows you to catch and handle exceptions, providing alternative code or error handling logic instead of allowing the program to crash.\n",
    "\n",
    "When an exception occurs within the try block, the except block associated with the matching exception type is executed. The purpose of the except clause is to define the actions to be taken when a specific exception is raised, such as displaying an error message, logging the exception, or performing alternative computations.\n"
   ]
  },
  {
   "cell_type": "code",
   "execution_count": 11,
   "id": "9a32aac0",
   "metadata": {},
   "outputs": [
    {
     "name": "stdout",
     "output_type": "stream",
     "text": [
      "Error: Division by zero is not allowed.\n"
     ]
    }
   ],
   "source": [
    "#example:\n",
    "\n",
    "try:\n",
    "    # Potentially problematic code\n",
    "    result = 10 / 0  # Division by zero, raises ZeroDivisionError\n",
    "except ZeroDivisionError:\n",
    "    print(\"Error: Division by zero is not allowed.\")\n"
   ]
  },
  {
   "cell_type": "code",
   "execution_count": null,
   "id": "a5eb7cf4",
   "metadata": {},
   "outputs": [],
   "source": []
  }
 ],
 "metadata": {
  "kernelspec": {
   "display_name": "Python 3 (ipykernel)",
   "language": "python",
   "name": "python3"
  },
  "language_info": {
   "codemirror_mode": {
    "name": "ipython",
    "version": 3
   },
   "file_extension": ".py",
   "mimetype": "text/x-python",
   "name": "python",
   "nbconvert_exporter": "python",
   "pygments_lexer": "ipython3",
   "version": "3.10.9"
  }
 },
 "nbformat": 4,
 "nbformat_minor": 5
}
