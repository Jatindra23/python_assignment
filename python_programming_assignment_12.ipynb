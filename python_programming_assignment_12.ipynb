{
 "cells": [
  {
   "cell_type": "code",
   "execution_count": 7,
   "id": "cff0a1d1",
   "metadata": {},
   "outputs": [
    {
     "name": "stdout",
     "output_type": "stream",
     "text": [
      "Unique values: [1, 2, 3, 4, 5, 6]\n"
     ]
    }
   ],
   "source": [
    "# 1. Write a Python program to Extract Unique values dictionary values?\n",
    "\n",
    "def extract_unique_values(input_dict):\n",
    "    unique_values = set()\n",
    "    for values_list in input_dict.values():\n",
    "        unique_values.update(values_list)\n",
    "    return list(unique_values)\n",
    "\n",
    "input_dict = {\n",
    "    'a': [1, 2, 3],\n",
    "    'b': [2, 3, 4],\n",
    "    'c': [4, 5, 6]\n",
    "}\n",
    "result = extract_unique_values(input_dict)\n",
    "print(\"Unique values:\", result)\n"
   ]
  },
  {
   "cell_type": "code",
   "execution_count": 8,
   "id": "9c569e90",
   "metadata": {},
   "outputs": [
    {
     "name": "stdout",
     "output_type": "stream",
     "text": [
      "Sum of dictionary values: 60\n"
     ]
    }
   ],
   "source": [
    "# 2. Write a Python program to find the sum of all items in a dictionary?\n",
    "\n",
    "def sum_dictionary_values(input_dict):\n",
    "    total_sum = sum(input_dict.values())\n",
    "    return total_sum\n",
    "\n",
    "input_dict = {\n",
    "    'a': 10,\n",
    "    'b': 20,\n",
    "    'c': 30\n",
    "}\n",
    "result = sum_dictionary_values(input_dict)\n",
    "print(\"Sum of dictionary values:\", result)\n"
   ]
  },
  {
   "cell_type": "code",
   "execution_count": 9,
   "id": "3461ffa1",
   "metadata": {},
   "outputs": [
    {
     "name": "stdout",
     "output_type": "stream",
     "text": [
      "Merged dictionary: {'a': 1, 'b': 2, 'c': 3, 'd': 4}\n"
     ]
    }
   ],
   "source": [
    "# 3. Write a Python program to Merging two Dictionaries?\n",
    "\n",
    "def merge_dictionaries(dict1, dict2):\n",
    "    merged_dict = {**dict1, **dict2}\n",
    "    return merged_dict\n",
    "\n",
    "dict1 = {'a': 1, 'b': 2}\n",
    "dict2 = {'c': 3, 'd': 4}\n",
    "result = merge_dictionaries(dict1, dict2)\n",
    "print(\"Merged dictionary:\", result)\n"
   ]
  },
  {
   "cell_type": "code",
   "execution_count": 10,
   "id": "8eb6a65b",
   "metadata": {},
   "outputs": [
    {
     "name": "stdout",
     "output_type": "stream",
     "text": [
      "Flat dictionary: {'a': 1, 'b': 2, 'c': 3}\n"
     ]
    }
   ],
   "source": [
    "# 4. Write a Python program to convert key-values list to flat dictionary?\n",
    "\n",
    "def convert_to_flat_dict(key_list, value_list):\n",
    "    flat_dict = dict(zip(key_list, value_list))\n",
    "    return flat_dict\n",
    "\n",
    "keys = ['a', 'b', 'c']\n",
    "values = [1, 2, 3]\n",
    "result = convert_to_flat_dict(keys, values)\n",
    "print(\"Flat dictionary:\", result)\n"
   ]
  },
  {
   "cell_type": "code",
   "execution_count": 11,
   "id": "8d4cd180",
   "metadata": {},
   "outputs": [
    {
     "name": "stdout",
     "output_type": "stream",
     "text": [
      "OrderedDict after insertion: OrderedDict([('c', 3), ('a', 1), ('b', 2)])\n"
     ]
    }
   ],
   "source": [
    "# 5. Write a Python program to insertion at the beginning in OrderedDict?\n",
    "\n",
    "from collections import OrderedDict\n",
    "\n",
    "def insert_at_beginning(ordered_dict, key, value):\n",
    "    ordered_dict[key] = value\n",
    "    ordered_dict.move_to_end(key, last=False)\n",
    "    return ordered_dict\n",
    "\n",
    "ordered_dict = OrderedDict([('a', 1), ('b', 2)])\n",
    "key_to_insert = 'c'\n",
    "value_to_insert = 3\n",
    "result = insert_at_beginning(ordered_dict, key_to_insert, value_to_insert)\n",
    "print(\"OrderedDict after insertion:\", result)\n"
   ]
  },
  {
   "cell_type": "code",
   "execution_count": 12,
   "id": "8a3e3a33",
   "metadata": {},
   "outputs": [
    {
     "name": "stdout",
     "output_type": "stream",
     "text": [
      "Pattern order is present in the string.\n"
     ]
    }
   ],
   "source": [
    "# 6. Write a Python program to check order of character in string using OrderedDict()?\n",
    "\n",
    "from collections import OrderedDict\n",
    "\n",
    "def check_order_of_characters(input_str, pattern):\n",
    "    pattern_dict = OrderedDict.fromkeys(pattern)\n",
    "    pattern_index = 0\n",
    "    \n",
    "    for char in input_str:\n",
    "        if char == pattern[pattern_index]:\n",
    "            pattern_index += 1\n",
    "            if pattern_index == len(pattern):\n",
    "                return True\n",
    "    \n",
    "    return False\n",
    "\n",
    "input_str = \"hello world\"\n",
    "pattern = \"hlo\"\n",
    "result = check_order_of_characters(input_str, pattern)\n",
    "if result:\n",
    "    print(\"Pattern order is present in the string.\")\n",
    "else:\n",
    "    print(\"Pattern order is not present in the string.\")\n"
   ]
  },
  {
   "cell_type": "code",
   "execution_count": 13,
   "id": "b416551c",
   "metadata": {},
   "outputs": [
    {
     "name": "stdout",
     "output_type": "stream",
     "text": [
      "Sorted by key: {'a': 3, 'b': 1, 'c': 2}\n",
      "Sorted by value: {'b': 1, 'c': 2, 'a': 3}\n"
     ]
    }
   ],
   "source": [
    "# 7. Write a Python program to sort Python Dictionaries by Key or Value?\n",
    "\n",
    "def sort_dictionary(input_dict, by_key=True):\n",
    "    sorted_dict = {}\n",
    "    if by_key:\n",
    "        sorted_keys = sorted(input_dict.keys())\n",
    "        for key in sorted_keys:\n",
    "            sorted_dict[key] = input_dict[key]\n",
    "    else:\n",
    "        sorted_items = sorted(input_dict.items(), key=lambda x: x[1])\n",
    "        for key, value in sorted_items:\n",
    "            sorted_dict[key] = value\n",
    "    return sorted_dict\n",
    "\n",
    "input_dict = {'a': 3, 'b': 1, 'c': 2}\n",
    "sorted_by_key = sort_dictionary(input_dict)\n",
    "sorted_by_value = sort_dictionary(input_dict, by_key=False)\n",
    "print(\"Sorted by key:\", sorted_by_key)\n",
    "print(\"Sorted by value:\", sorted_by_value)\n"
   ]
  }
 ],
 "metadata": {
  "kernelspec": {
   "display_name": "Python 3 (ipykernel)",
   "language": "python",
   "name": "python3"
  },
  "language_info": {
   "codemirror_mode": {
    "name": "ipython",
    "version": 3
   },
   "file_extension": ".py",
   "mimetype": "text/x-python",
   "name": "python",
   "nbconvert_exporter": "python",
   "pygments_lexer": "ipython3",
   "version": "3.10.9"
  }
 },
 "nbformat": 4,
 "nbformat_minor": 5
}
