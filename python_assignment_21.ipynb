{
 "cells": [
  {
   "cell_type": "code",
   "execution_count": 4,
   "id": "e1f79dad",
   "metadata": {},
   "outputs": [],
   "source": [
    "#QUES->1. Add the current date to the text file today.txt as a string.\n",
    "\n",
    "#ANS->\n",
    "import datetime\n",
    "\n",
    "current_date = datetime.date.today().strftime('%Y-%m-%d')\n",
    "with open('today.txt', 'w') as file:\n",
    "    file.write(current_date)\n"
   ]
  },
  {
   "cell_type": "code",
   "execution_count": 5,
   "id": "17eb2b19",
   "metadata": {},
   "outputs": [],
   "source": [
    "#QUES->2. Read the text file today.txt into the string today_string\n",
    "\n",
    "#ANS->\n",
    "with open('today.txt', 'r') as file:\n",
    "    today_string = file.read()\n",
    "    print(today_string)\n"
   ]
  },
  {
   "cell_type": "code",
   "execution_count": 6,
   "id": "dd9e2737",
   "metadata": {},
   "outputs": [],
   "source": [
    "#QUES->3. Parse the date from today_string.\n",
    "\n",
    "#ANS->\n",
    "parsed_date = datetime.datetime.strptime(today_string, '%Y-%m-%d').date()\n",
    "print(parsed_date)\n"
   ]
  },
  {
   "cell_type": "code",
   "execution_count": 7,
   "id": "75a5554b",
   "metadata": {},
   "outputs": [],
   "source": [
    "#QUES->4. List the files in your current directory\n",
    "\n",
    "#ANS->\n",
    "import os\n",
    "\n",
    "current_directory = os.getcwd()\n",
    "files_in_directory = os.listdir(current_directory)\n",
    "print(files_in_directory)\n"
   ]
  },
  {
   "cell_type": "code",
   "execution_count": 8,
   "id": "b7e3eab5",
   "metadata": {},
   "outputs": [],
   "source": [
    "#QUES->5. Create a list of all of the files in your parent directory (minimum five files should be available).\n",
    "\n",
    "#ANS->\n",
    "parent_directory = os.path.dirname(current_directory)\n",
    "files_in_parent_directory = os.listdir(parent_directory)\n",
    "print(files_in_parent_directory)\n"
   ]
  },
  {
   "cell_type": "code",
   "execution_count": 17,
   "id": "d8895be8",
   "metadata": {},
   "outputs": [
    {
     "data": {
      "text/plain": [
       "[<Process name='Process-10' pid=16820 parent=16600 stopped exitcode=1>,\n",
       " <Process name='Process-11' pid=16592 parent=16600 stopped exitcode=1>,\n",
       " <Process name='Process-12' pid=19756 parent=16600 stopped exitcode=1>]"
      ]
     },
     "execution_count": 17,
     "metadata": {},
     "output_type": "execute_result"
    }
   ],
   "source": [
    "#QUES->6. Use multiprocessing to create three separate processes. Make each one wait a random number of seconds between one and five, print the current time, and then exit.\n",
    "\n",
    "#ANS->\n",
    "import multiprocessing\n",
    "import time\n",
    "import random\n",
    "from datetime import datetime\n",
    "\n",
    "def process_function():\n",
    "    wait_time = random.randint(1, 5)\n",
    "    time.sleep(wait_time)\n",
    "    current_time = datetime.now().strftime(\"%Y-%m-%d %H:%M:%S\")\n",
    "    print(f\"Process ID: {multiprocessing.current_process().name}, Current Time: {current_time}\")\n",
    "\n",
    "processes = []\n",
    "for i in range(3):\n",
    "    process = multiprocessing.Process(target=process_function)\n",
    "    processes.append(process)\n",
    "    process.start()\n",
    "\n",
    "for process in processes:\n",
    "    process.join()\n",
    "\n",
    "processes"
   ]
  },
  {
   "cell_type": "code",
   "execution_count": 20,
   "id": "021da6e4",
   "metadata": {},
   "outputs": [
    {
     "name": "stdout",
     "output_type": "stream",
     "text": [
      "2000-01-24\n"
     ]
    }
   ],
   "source": [
    "#QUES->7. Create a date object of your day of birth.\n",
    "\n",
    "#ANS->\n",
    "from datetime import date\n",
    "\n",
    "birth_date = date(2000, 1, 24)  \n",
    "print(birth_date)\n"
   ]
  },
  {
   "cell_type": "code",
   "execution_count": 21,
   "id": "44637e5e",
   "metadata": {},
   "outputs": [
    {
     "name": "stdout",
     "output_type": "stream",
     "text": [
      "Monday\n"
     ]
    }
   ],
   "source": [
    "#QUES->8. What day of the week was your day of birth?\n",
    "\n",
    "#ANS->\n",
    "birth_day_of_week = birth_date.strftime(\"%A\")\n",
    "print(birth_day_of_week)\n"
   ]
  },
  {
   "cell_type": "code",
   "execution_count": 13,
   "id": "e2b6c543",
   "metadata": {},
   "outputs": [
    {
     "name": "stdout",
     "output_type": "stream",
     "text": [
      "2027-06-11\n"
     ]
    }
   ],
   "source": [
    "#QUES->9. When will you be (or when were you) 10,000 days old?\n",
    "\n",
    "#ANS->\n",
    "from datetime import timedelta\n",
    "\n",
    "future_date = birth_date + timedelta(days=10000)\n",
    "print(future_date)\n"
   ]
  }
 ],
 "metadata": {
  "kernelspec": {
   "display_name": "Python 3 (ipykernel)",
   "language": "python",
   "name": "python3"
  },
  "language_info": {
   "codemirror_mode": {
    "name": "ipython",
    "version": 3
   },
   "file_extension": ".py",
   "mimetype": "text/x-python",
   "name": "python",
   "nbconvert_exporter": "python",
   "pygments_lexer": "ipython3",
   "version": "3.10.9"
  }
 },
 "nbformat": 4,
 "nbformat_minor": 5
}
