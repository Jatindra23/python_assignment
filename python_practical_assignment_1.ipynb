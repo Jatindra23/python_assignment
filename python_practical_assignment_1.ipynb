{
 "cells": [
  {
   "cell_type": "code",
   "execution_count": 5,
   "id": "5fa9ede5",
   "metadata": {},
   "outputs": [
    {
     "name": "stdout",
     "output_type": "stream",
     "text": [
      "Hello Python\n"
     ]
    }
   ],
   "source": [
    "#QUES->1. Write a Python program to print &quot;Hello Python&quot;?\n",
    "\n",
    "#ANS->\n",
    "\n",
    "print(\"Hello Python\")\n"
   ]
  },
  {
   "cell_type": "code",
   "execution_count": 6,
   "id": "f443ecb9",
   "metadata": {},
   "outputs": [
    {
     "name": "stdout",
     "output_type": "stream",
     "text": [
      "Sum: 8\n",
      "Division: 5.0\n"
     ]
    }
   ],
   "source": [
    "#QUES->2. Write a Python program to do arithmetical operations addition and division.?\n",
    "\n",
    "#ANS->\n",
    "\n",
    "# Addition\n",
    "num1 = 5\n",
    "num2 = 3\n",
    "sum_result = num1 + num2\n",
    "print(\"Sum:\", sum_result)\n",
    "\n",
    "# Division\n",
    "num3 = 10\n",
    "num4 = 2\n",
    "div_result = num3 / num4\n",
    "print(\"Division:\", div_result)\n"
   ]
  },
  {
   "cell_type": "code",
   "execution_count": 7,
   "id": "5051bde9",
   "metadata": {},
   "outputs": [
    {
     "name": "stdout",
     "output_type": "stream",
     "text": [
      "Area of the triangle: 7.5\n"
     ]
    }
   ],
   "source": [
    "#QUES->3. Write a Python program to find the area of a triangle?\n",
    "\n",
    "#ANS->\n",
    "\n",
    "base = 5\n",
    "height = 3\n",
    "area = 0.5 * base * height\n",
    "print(\"Area of the triangle:\", area)\n"
   ]
  },
  {
   "cell_type": "code",
   "execution_count": 8,
   "id": "7e08dc0e",
   "metadata": {},
   "outputs": [
    {
     "name": "stdout",
     "output_type": "stream",
     "text": [
      "Before swapping: a = 5 and b = 3\n",
      "After swapping: a = 3 and b = 5\n"
     ]
    }
   ],
   "source": [
    "#QUES->4. Write a Python program to swap two variables?\n",
    "\n",
    "#ANS->\n",
    "\n",
    "a = 5\n",
    "b = 3\n",
    "print(\"Before swapping: a =\", a, \"and b =\", b)\n",
    "a, b = b, a\n",
    "print(\"After swapping: a =\", a, \"and b =\", b)\n"
   ]
  },
  {
   "cell_type": "code",
   "execution_count": 12,
   "id": "993a1467",
   "metadata": {},
   "outputs": [
    {
     "name": "stdout",
     "output_type": "stream",
     "text": [
      "Random number: 81\n"
     ]
    }
   ],
   "source": [
    "#QUES->5. Write a Python program to generate a random number?\n",
    "\n",
    "#ANS->\n",
    "\n",
    "import random\n",
    "\n",
    "random_number = random.randint(1, 100)\n",
    "print(\"Random number:\", random_number)\n"
   ]
  }
 ],
 "metadata": {
  "kernelspec": {
   "display_name": "Python 3 (ipykernel)",
   "language": "python",
   "name": "python3"
  },
  "language_info": {
   "codemirror_mode": {
    "name": "ipython",
    "version": 3
   },
   "file_extension": ".py",
   "mimetype": "text/x-python",
   "name": "python",
   "nbconvert_exporter": "python",
   "pygments_lexer": "ipython3",
   "version": "3.10.9"
  }
 },
 "nbformat": 4,
 "nbformat_minor": 5
}
