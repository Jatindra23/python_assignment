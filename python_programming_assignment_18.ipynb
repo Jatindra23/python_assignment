{
 "cells": [
  {
   "cell_type": "code",
   "execution_count": 2,
   "id": "b6840251",
   "metadata": {},
   "outputs": [
    {
     "name": "stdout",
     "output_type": "stream",
     "text": [
      "[1, 2]\n",
      "[13, 0, 3]\n",
      "[1, 2, 98]\n"
     ]
    }
   ],
   "source": [
    "# Question 1\n",
    "# Create a function that takes a list of non-negative integers and strings and return a new list\n",
    "# without the strings.\n",
    "\n",
    "def filter_list(lst):\n",
    "    return [x for x in lst if isinstance(x, int)]\n",
    "\n",
    "# Test cases\n",
    "print(filter_list([1, 2, \"fgh\", \"g\"]))           \n",
    "print(filter_list([13, \"e\", \"n\", 0, 3]))   \n",
    "print(filter_list([1, 2, \"good\", \"1\", \"34\", 98]))  \n"
   ]
  },
  {
   "cell_type": "code",
   "execution_count": 4,
   "id": "e799714f",
   "metadata": {},
   "outputs": [
    {
     "name": "stdout",
     "output_type": "stream",
     "text": [
      "REFICUl\n",
      "NORUEnI\n",
      "OlLeH\n"
     ]
    }
   ],
   "source": [
    "# Question 2\n",
    "# The &quot;Reverser&quot; takes a string as input and returns that string in reverse order, with the\n",
    "# opposite case.\n",
    "\n",
    "def reverse(input_str):\n",
    "    reversed_str = input_str[::-1]\n",
    "    reversed_str = reversed_str.swapcase()\n",
    "    return reversed_str\n",
    "\n",
    "# Test cases\n",
    "print(reverse(\"Lucifer\")) \n",
    "print(reverse(\"iNeuron\"))   \n",
    "print(reverse(\"hElLo\"))  \n"
   ]
  },
  {
   "cell_type": "code",
   "execution_count": 5,
   "id": "8c587268",
   "metadata": {},
   "outputs": [
    {
     "name": "stdout",
     "output_type": "stream",
     "text": [
      "1\n",
      "[2, 3, 4, 5]\n",
      "6\n"
     ]
    }
   ],
   "source": [
    "# Question 3\n",
    "# You can assign variables from lists like this:\n",
    "# lst = [1, 2, 3, 4, 5, 6]\n",
    "# first = lst[0]\n",
    "# middle = lst[1:-1]\n",
    "# last = lst[-1]\n",
    "# print(first) ➞ outputs 1\n",
    "# print(middle) ➞ outputs [2, 3, 4, 5]\n",
    "# print(last) ➞ outputs 6\n",
    "# With Python 3, you can assign variables from lists in a much more succinct way. Create\n",
    "# variables first, middle and last from the given list using destructuring assignment\n",
    "\n",
    "writeyourcodehere = [1, 2, 3, 4, 5, 6]\n",
    "first, *middle, last = writeyourcodehere\n",
    "\n",
    "print(first) \n",
    "print(middle) \n",
    "print(last)  \n"
   ]
  },
  {
   "cell_type": "code",
   "execution_count": 6,
   "id": "b5316606",
   "metadata": {},
   "outputs": [
    {
     "name": "stdout",
     "output_type": "stream",
     "text": [
      "120\n",
      "6\n",
      "1\n",
      "1\n"
     ]
    }
   ],
   "source": [
    "# Question 4\n",
    "# Write a function that calculates the factorial of a number recursively.\n",
    "\n",
    "def factorial(n):\n",
    "    if n == 0 or n == 1:\n",
    "        return 1\n",
    "    else:\n",
    "        return n * factorial(n - 1)\n",
    "\n",
    "# Test cases\n",
    "print(factorial(5)) \n",
    "print(factorial(3))  \n",
    "print(factorial(1)) \n",
    "print(factorial(0))\n"
   ]
  },
  {
   "cell_type": "code",
   "execution_count": 10,
   "id": "f3d5b720",
   "metadata": {},
   "outputs": [
    {
     "name": "stdout",
     "output_type": "stream",
     "text": [
      "[3, 2, 4, 4, 1, 1]\n",
      "[7, 8, 1, 2, 3, 4, 9]\n",
      "['a', 'a', 'b', '1']\n"
     ]
    }
   ],
   "source": [
    "# Question 5\n",
    "# Write a function that moves all elements of one type to the end of the list.\n",
    "\n",
    "def move_to_end(lst, element):\n",
    "    return [x for x in lst if x != element] + [x for x in lst if x == element]\n",
    "\n",
    "# Test cases\n",
    "print(move_to_end([1, 3, 2, 4, 4, 1], 1))       \n",
    "print(move_to_end([7, 8, 9, 1, 2, 3, 4], 9))   \n",
    "print(move_to_end([\"a\", \"1\", \"a\", \"b\"], \"1\"))  \n"
   ]
  }
 ],
 "metadata": {
  "kernelspec": {
   "display_name": "Python 3 (ipykernel)",
   "language": "python",
   "name": "python3"
  },
  "language_info": {
   "codemirror_mode": {
    "name": "ipython",
    "version": 3
   },
   "file_extension": ".py",
   "mimetype": "text/x-python",
   "name": "python",
   "nbconvert_exporter": "python",
   "pygments_lexer": "ipython3",
   "version": "3.10.9"
  }
 },
 "nbformat": 4,
 "nbformat_minor": 5
}
