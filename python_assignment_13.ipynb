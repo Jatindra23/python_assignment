{
 "cells": [
  {
   "cell_type": "raw",
   "id": "71692e9a",
   "metadata": {},
   "source": [
    "QUES->1. What advantages do Excel spreadsheets have over CSV spreadsheets?\n",
    "\n",
    "ANS->\n",
    "Excel spreadsheets have several advantages over CSV spreadsheets:\n",
    "\n",
    "a. Formatting: Excel allows you to format data with various font styles, colors, cell merging, conditional formatting, and more. CSV files only store plain text and don't support formatting.\n",
    "\n",
    "b. Multiple sheets: Excel spreadsheets can contain multiple sheets within a single file, allowing you to organize and manage data in a more structured manner. CSV files represent a single table of data and do not support multiple sheets.\n",
    "\n",
    "d. Charts and graphs: Excel allows you to create visual representations of data through charts and graphs, which can be helpful for data analysis. CSV files do not support charts or graphs.\n",
    "\n",
    "e. Data validation and protection: Excel provides features like data validation, data filtering, and cell protection to ensure data integrity and security. CSV files do not have built-in mechanisms for data validation or protection."
   ]
  },
  {
   "cell_type": "raw",
   "id": "2fc530da",
   "metadata": {},
   "source": [
    "QUES->2.What do you pass to csv.reader() and csv.writer() to create reader and writer objects?\n",
    "\n",
    "ANS->\n",
    "To create reader and writer objects using the csv.reader() and csv.writer() functions, respectively, you pass a File object as an argument. The File object represents the CSV file you want to read from or write to."
   ]
  },
  {
   "cell_type": "code",
   "execution_count": null,
   "id": "f2aa4614",
   "metadata": {},
   "outputs": [],
   "source": [
    "#example:\n",
    "\n",
    "import csv\n",
    "\n",
    "# Creating a reader object\n",
    "with open('data.csv', 'r') as file:\n",
    "    reader = csv.reader(file)\n",
    "\n",
    "# Creating a writer object\n",
    "with open('output.csv', 'w') as file:\n",
    "    writer = csv.writer(file)\n"
   ]
  },
  {
   "cell_type": "raw",
   "id": "e256cb0c",
   "metadata": {},
   "source": [
    "QUES->3. What modes do File objects for reader and writer objects need to be opened in?\n",
    "\n",
    "ANS->\n",
    "File objects for reader and writer objects need to be opened in the following modes:\n",
    "\n",
    "a. Reader: The file object for a reader should be opened in 'r' mode, which stands for read mode. This allows the reader to access the contents of the CSV file.\n",
    "\n",
    "b. Writer: The file object for a writer should be opened in 'w' mode, which stands for write mode. This allows the writer to create a new file or overwrite an existing file with the CSV data."
   ]
  },
  {
   "cell_type": "raw",
   "id": "6b7fb55c",
   "metadata": {},
   "source": [
    "QUES->4. What method takes a list argument and writes it to a CSV file?\n",
    "\n",
    "ANS->\n",
    "The writerow() method is used to write a list of values to a CSV file. It takes a list argument containing the values to be written as a row in the CSV file."
   ]
  },
  {
   "cell_type": "code",
   "execution_count": null,
   "id": "24fd90a4",
   "metadata": {},
   "outputs": [],
   "source": [
    "#example;\n",
    "\n",
    "import csv\n",
    "\n",
    "with open('output.csv', 'w') as file:\n",
    "    writer = csv.writer(file)\n",
    "    row = ['jatindra', 'paul', 'jatindra.p@example.com']\n",
    "    writer.writerow(row) \n",
    "#In this example, the list row is written as a single row in the CSV file."
   ]
  },
  {
   "cell_type": "raw",
   "id": "74bad995",
   "metadata": {},
   "source": [
    "QUES->5. What do the keyword arguments delimiter and line terminator do?\n",
    "\n",
    "ANS->\n",
    "The keyword arguments delimiter and line terminator are used to control the formatting of CSV files:\n",
    "\n",
    "a. delimiter: It specifies the character used to separate fields in the CSV file. By default, it is a comma (','), but you can specify a different delimiter character if needed.\n",
    "\n",
    "b. line terminator: It determines the character(s) used to terminate a line in the CSV file. The default line terminator is the newline character ('\\n'), but you can specify a different line terminator if required."
   ]
  },
  {
   "cell_type": "code",
   "execution_count": null,
   "id": "dd4dbca8",
   "metadata": {},
   "outputs": [],
   "source": [
    "#example:\n",
    "\n",
    "#delimeter\n",
    "import csv\n",
    "\n",
    "with open('data.csv', 'r') as file:\n",
    "    reader = csv.reader(file, delimiter=';')\n",
    "\n",
    "#line terminator\n",
    "\n",
    "with open('output.csv', 'w', newline='') as file:\n",
    "    writer = csv.writer(file, line_terminator='\\r\\n\n"
   ]
  },
  {
   "cell_type": "raw",
   "id": "39b58567",
   "metadata": {},
   "source": [
    "QUES->6. What function takes a string of JSON data and returns a Python data structure?\n",
    "\n",
    "ANS->\n",
    "The json.loads() function takes a string of JSON data and returns a Python data structure. The loads() function stands for \"load string\"."
   ]
  },
  {
   "cell_type": "code",
   "execution_count": 4,
   "id": "7206086e",
   "metadata": {},
   "outputs": [
    {
     "name": "stdout",
     "output_type": "stream",
     "text": [
      "{'name': 'jatindra', 'age': 23, 'city': 'New Delhi'}\n"
     ]
    }
   ],
   "source": [
    "#example\n",
    "\n",
    "import json\n",
    "\n",
    "json_data = '{\"name\": \"jatindra\", \"age\": 23, \"city\": \"New Delhi\"}'\n",
    "python_data = json.loads(json_data)\n",
    "\n",
    "print(python_data)\n"
   ]
  },
  {
   "cell_type": "raw",
   "id": "581846bd",
   "metadata": {},
   "source": [
    "QUES->7. What function takes a Python data structure and returns a string of JSON data?\n",
    "\n",
    "ANS->\n",
    "The json.dumps() function takes a Python data structure and returns a string of JSON data. The dumps() function stands for \"dump string\"."
   ]
  },
  {
   "cell_type": "code",
   "execution_count": 3,
   "id": "1a72eddd",
   "metadata": {},
   "outputs": [
    {
     "name": "stdout",
     "output_type": "stream",
     "text": [
      "{\"name\": \"jatindra\", \"age\": 23, \"city\": \"New Delhi\"}\n"
     ]
    }
   ],
   "source": [
    "#example:\n",
    "import json\n",
    "\n",
    "python_data = {\"name\": \"jatindra\", \"age\": 23, \"city\": \"New Delhi\"}\n",
    "json_data = json.dumps(python_data)\n",
    "\n",
    "print(json_data)\n"
   ]
  }
 ],
 "metadata": {
  "kernelspec": {
   "display_name": "Python 3 (ipykernel)",
   "language": "python",
   "name": "python3"
  },
  "language_info": {
   "codemirror_mode": {
    "name": "ipython",
    "version": 3
   },
   "file_extension": ".py",
   "mimetype": "text/x-python",
   "name": "python",
   "nbconvert_exporter": "python",
   "pygments_lexer": "ipython3",
   "version": "3.10.9"
  }
 },
 "nbformat": 4,
 "nbformat_minor": 5
}
