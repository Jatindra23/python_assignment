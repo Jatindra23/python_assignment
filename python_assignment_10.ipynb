{
 "cells": [
  {
   "cell_type": "raw",
   "id": "171d8f28",
   "metadata": {},
   "source": [
    "QUES->1. How do you distinguish between shutil.copy() and shutil.copytree()?\n",
    "\n",
    "ANS->\n",
    "shutil.copy() and shutil.copytree() are both functions from the shutil module in Python used for file operations.\n",
    "shutil.copy(src, dst): This function is used to copy a single file from the source (src) to the destination (dst). It preserves the filename and attributes of the source file in the destination.\n",
    "\n",
    "shutil.copytree(src, dst): This function is used to recursively copy an entire directory tree from the source (src) to the destination (dst). It preserves the directory structure and copies all files and subdirectories."
   ]
  },
  {
   "cell_type": "code",
   "execution_count": null,
   "id": "42c8f81b",
   "metadata": {},
   "outputs": [],
   "source": [
    "#example\n",
    "\n",
    "import shutil\n",
    "\n",
    "shutil.copy('source/file.txt', 'destination/file.txt') #copy\n",
    "\n",
    "\n",
    "\n",
    "shutil.copytree('source_dir', 'destination_dir') #copytree\n",
    "\n"
   ]
  },
  {
   "cell_type": "raw",
   "id": "869f3a7e",
   "metadata": {},
   "source": [
    "QUES->2. What function is used to rename files??\n",
    "\n",
    "ANS->\n",
    "The os.rename() function is used to rename files in Python. It is part of the os module\n",
    "\n",
    "example:\n",
    "import os\n",
    "\n",
    "os.rename('old_name.txt', 'new_name.txt')\n",
    "\n"
   ]
  },
  {
   "cell_type": "raw",
   "id": "63251cbe",
   "metadata": {},
   "source": [
    "QUES->3. What is the difference between the delete functions in the send2trash and shutil modules?\n",
    "\n",
    "ANS->\n",
    "The send2trash and shutil modules provide different approaches for deleting files:\n",
    "\n",
    "send2trash module: It moves files or directories to the operating system's trash or recycle bin, allowing potential recovery. It provides a send2trash.send2trash() function that sends the specified file or directory to the trash bin.\n",
    "\n",
    "shutil module: It provides low-level file operations, including file deletion. The shutil.rmtree() function is commonly used to delete directories and their contents recursively.\n",
    "\n",
    "The main difference is that send2trash moves the files to the trash bin, while shutil.rmtree() permanently deletes the files and directories."
   ]
  },
  {
   "cell_type": "code",
   "execution_count": null,
   "id": "33a18657",
   "metadata": {},
   "outputs": [],
   "source": [
    "#example:\n",
    "\n",
    "import send2trash\n",
    "\n",
    "send2trash.send2trash('file.txt')\n",
    "\n",
    "import shutil\n",
    "\n",
    "shutil.rmtree('directory_to_delete')\n"
   ]
  },
  {
   "cell_type": "raw",
   "id": "eab58207",
   "metadata": {},
   "source": [
    "QUES->4.ZipFile objects have a close() method just like File objects’ close() method. What ZipFile method is equivalent to File objects’ open() method?\n",
    "\n",
    "ANS->\n",
    "The equivalent method in ZipFile objects to the open() method of File objects is ZipFile.open(). It allows you to open and read the contents of a file within a ZIP archive."
   ]
  },
  {
   "cell_type": "code",
   "execution_count": null,
   "id": "46995137",
   "metadata": {},
   "outputs": [],
   "source": [
    "#example:\n",
    "\n",
    "import zipfile\n",
    "\n",
    "with zipfile.ZipFile('archive.zip', 'r') as archive:\n",
    "    with archive.open('file.txt') as file:\n",
    "        # Perform operations on the file within the ZIP archive\n",
    "        content = file.read()\n"
   ]
  },
  {
   "cell_type": "raw",
   "id": "e6609f14",
   "metadata": {},
   "source": [
    "QUES->5. Create a programme that searches a folder tree for files with a certain file extension (such as .pdf or .jpg). Copy these files from whatever location they are in to a new folder.\n"
   ]
  },
  {
   "cell_type": "code",
   "execution_count": null,
   "id": "1e433a60",
   "metadata": {},
   "outputs": [],
   "source": [
    "#ANS->\n",
    "\n",
    "import os\n",
    "import shutil\n",
    "\n",
    "def copy_files_by_extension(source_folder, destination_folder, file_extension):\n",
    "    for root, dirs, files in os.walk(source_folder):\n",
    "        for file in files:\n",
    "            if file.endswith(file_extension):\n",
    "                source_path = os.path.join(root, file)\n",
    "                destination_path = os.path.join(destination_folder, file)\n",
    "                shutil.copy(source_path, destination_path)\n",
    "                print(f\"File '{file}' copied to '{destination_folder}'\")\n",
    "\n",
    "# Example usage\n",
    "source_folder = 'path/to/source/folder'\n",
    "destination_folder = 'path/to/destination/folder'\n",
    "file_extension = '.pdf'  # Change this to the desired file extension\n",
    "\n",
    "copy_files_by_extension(source_folder, destination_folder, file_extension)\n"
   ]
  }
 ],
 "metadata": {
  "kernelspec": {
   "display_name": "Python 3 (ipykernel)",
   "language": "python",
   "name": "python3"
  },
  "language_info": {
   "codemirror_mode": {
    "name": "ipython",
    "version": 3
   },
   "file_extension": ".py",
   "mimetype": "text/x-python",
   "name": "python",
   "nbconvert_exporter": "python",
   "pygments_lexer": "ipython3",
   "version": "3.10.9"
  }
 },
 "nbformat": 4,
 "nbformat_minor": 5
}
