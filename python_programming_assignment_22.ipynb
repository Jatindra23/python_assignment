{
 "cells": [
  {
   "cell_type": "code",
   "execution_count": 4,
   "id": "20758b69",
   "metadata": {},
   "outputs": [
    {
     "name": "stdout",
     "output_type": "stream",
     "text": [
      "[5, 10, 15, 20, 25]\n",
      "[6, 9, 12]\n",
      "[30, 36, 42, 48, 54]\n"
     ]
    }
   ],
   "source": [
    "# Question1\n",
    "# Create a function that takes three parameters where:\n",
    "#  x is the start of the range (inclusive).\n",
    "#  y is the end of the range (inclusive).\n",
    "#  n is the divisor to be checked against.\n",
    "# Return an ordered list with numbers in the range that are divisible by the third parameter n.\n",
    "# Return an empty list if there are no numbers that are divisible by n.\n",
    "\n",
    "\n",
    "def list_operation(x, y, n):\n",
    "    divisible_numbers = [num for num in range(x, y+1) if num % n == 0]\n",
    "    return divisible_numbers\n",
    "\n",
    "\n",
    "print(list_operation(1, 25, 5))   \n",
    "print(list_operation(5, 12, 3))    \n",
    "print(list_operation(29, 56, 6)) \n"
   ]
  },
  {
   "cell_type": "code",
   "execution_count": 13,
   "id": "951fe5b6",
   "metadata": {},
   "outputs": [
    {
     "name": "stdout",
     "output_type": "stream",
     "text": [
      "True\n",
      "False\n",
      "False\n",
      "True\n"
     ]
    }
   ],
   "source": [
    "# Question2\n",
    "# Create a function that takes in two lists and returns True if the second list follows the first list\n",
    "# by one element, and False otherwise. In other words, determine if the second list is the first\n",
    "# list shifted to the right by 1.\n",
    "\n",
    "\n",
    "def simon_says(list1, list2):\n",
    "    if list2[1:] == list1[:-1]:\n",
    "        return True\n",
    "    else:\n",
    "        return False\n",
    "\n",
    "print(simon_says([5, 2], [2, 5]))  \n",
    "print(simon_says([4, 12], [7, 1])) \n",
    "print(simon_says([7, 6, 3, 1, 4], [1, 1, 3, 6, 1]))  \n",
    "print(simon_says([1, 2, 3, 4, 5], [0, 1, 2, 3, 4])) \n"
   ]
  },
  {
   "cell_type": "code",
   "execution_count": 30,
   "id": "f81e0997",
   "metadata": {},
   "outputs": [
    {
     "name": "stdout",
     "output_type": "stream",
     "text": [
      "btt\n",
      "ghpv\n",
      "bcsstw\n"
     ]
    }
   ],
   "source": [
    "# Question3\n",
    "# A group of friends have decided to start a secret society. The name will be the first letter of\n",
    "# each of their names, sorted in alphabetical order.\n",
    "# Create a function that takes in a list of names and returns the name of the secret society.\n",
    "\n",
    "def society_name(names):\n",
    "    secret_name = ''.join(sorted([name[0] for name in names]))\n",
    "    return secret_name\n",
    "\n",
    "# Test cases\n",
    "print(society_name([\"tony\", \"banner\", \"thor\"])) \n",
    "print(society_name([\"peter\", \"gewne\", \"veronica\", \"hulk buster\"])) \n",
    "print(society_name([\"clint\", \"steve\", \"black widow\", \"thanos\", \"wanda\", \"strange\"]))  \n"
   ]
  },
  {
   "cell_type": "code",
   "execution_count": 33,
   "id": "b5296b36",
   "metadata": {},
   "outputs": [
    {
     "name": "stdout",
     "output_type": "stream",
     "text": [
      "False\n",
      "True\n",
      "True\n"
     ]
    }
   ],
   "source": [
    "# Question4\n",
    "# An isogram is a word that has no duplicate letters. Create a function that takes a string and\n",
    "# returns either True or False depending on whether or not it's an 'isogram'.\n",
    "\n",
    "def is_isogram(string):\n",
    "    # Convert the string to lowercase to make it case-insensitive\n",
    "    lowercase_string = string.lower()\n",
    "    \n",
    "    # Create a set to store the seen characters\n",
    "    seen_characters = set()\n",
    "    \n",
    "    # Iterate through the characters of the lowercase string\n",
    "    for char in lowercase_string:\n",
    "        # If the character is already in the set, it's not an isogram\n",
    "        if char in seen_characters:\n",
    "            return False\n",
    "        # Otherwise, add the character to the set\n",
    "        seen_characters.add(char)\n",
    "    \n",
    "    # If all characters are unique, it's an isogram\n",
    "    return True\n",
    "\n",
    "\n",
    "print(is_isogram(\"Delete\")) \n",
    "print(is_isogram(\"mobile\"))\n",
    "print(is_isogram(\"biceps\")) \n",
    "\n"
   ]
  },
  {
   "cell_type": "code",
   "execution_count": 34,
   "id": "f54056a5",
   "metadata": {},
   "outputs": [
    {
     "name": "stdout",
     "output_type": "stream",
     "text": [
      "True\n",
      "True\n",
      "False\n",
      "True\n"
     ]
    }
   ],
   "source": [
    "# Question5\n",
    "# Create a function that takes a string and returns True or False, depending on whether the\n",
    "# characters are in order or not.\n",
    "\n",
    "def is_in_order(s):\n",
    "    # Convert the string to a list of characters\n",
    "    chars = list(s)\n",
    "    \n",
    "    # Sort the list of characters\n",
    "    sorted_chars = sorted(chars)\n",
    "    \n",
    "    # Compare the original string with the sorted version\n",
    "    return chars == sorted_chars\n",
    "\n",
    "# Test cases\n",
    "print(is_in_order(\"ghi\"))  \n",
    "print(is_in_order(\"bfir\")) \n",
    "print(is_in_order(\"432\"))   \n",
    "print(is_in_order(\"deef\"))  \n"
   ]
  },
  {
   "cell_type": "code",
   "execution_count": null,
   "id": "1e4d14c2",
   "metadata": {},
   "outputs": [],
   "source": []
  }
 ],
 "metadata": {
  "kernelspec": {
   "display_name": "Python 3 (ipykernel)",
   "language": "python",
   "name": "python3"
  },
  "language_info": {
   "codemirror_mode": {
    "name": "ipython",
    "version": 3
   },
   "file_extension": ".py",
   "mimetype": "text/x-python",
   "name": "python",
   "nbconvert_exporter": "python",
   "pygments_lexer": "ipython3",
   "version": "3.10.9"
  }
 },
 "nbformat": 4,
 "nbformat_minor": 5
}
