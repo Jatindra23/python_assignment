{
 "cells": [
  {
   "cell_type": "code",
   "execution_count": 7,
   "id": "504f42b0",
   "metadata": {},
   "outputs": [
    {
     "name": "stdout",
     "output_type": "stream",
     "text": [
      "Enter first number: 8\n",
      "Enter second number: 2\n",
      "The LCM of 8 and 2 is 8\n"
     ]
    }
   ],
   "source": [
    "#QUES->1. Write a Python Program to Find LCM?\n",
    "\n",
    "#ANS->\n",
    "\n",
    "def find_lcm(num1, num2):\n",
    "    if num1 > num2:\n",
    "        greater = num1\n",
    "    else:\n",
    "        greater = num2\n",
    "\n",
    "    while True:\n",
    "        if greater % num1 == 0 and greater % num2 == 0:\n",
    "            lcm = greater\n",
    "            break\n",
    "        greater += 1\n",
    "\n",
    "    return lcm\n",
    "\n",
    "\n",
    "num1 = int(input(\"Enter first number: \"))\n",
    "num2 = int(input(\"Enter second number: \"))\n",
    "\n",
    "lcm = find_lcm(num1, num2)\n",
    "print(\"The LCM of\", num1, \"and\", num2, \"is\", lcm)\n"
   ]
  },
  {
   "cell_type": "code",
   "execution_count": 8,
   "id": "75553582",
   "metadata": {},
   "outputs": [
    {
     "name": "stdout",
     "output_type": "stream",
     "text": [
      "Enter first number: 2\n",
      "Enter second number: 8\n",
      "The HCF of 2 and 8 is 2\n"
     ]
    }
   ],
   "source": [
    "#QUES->2. Write a Python Program to Find HCF?\n",
    "\n",
    "#ANS->\n",
    "def find_hcf(num1, num2):\n",
    "    while num2:\n",
    "        num1, num2 = num2, num1 % num2\n",
    "    return num1\n",
    "\n",
    "\n",
    "num1 = int(input(\"Enter first number: \"))\n",
    "num2 = int(input(\"Enter second number: \"))\n",
    "\n",
    "hcf = find_hcf(num1, num2)\n",
    "print(\"The HCF of\", num1, \"and\", num2, \"is\", hcf)\n"
   ]
  },
  {
   "cell_type": "code",
   "execution_count": 15,
   "id": "a705d15b",
   "metadata": {},
   "outputs": [
    {
     "name": "stdout",
     "output_type": "stream",
     "text": [
      "Enter a decimal number: 45\n",
      "Binary:  101101\n",
      "Octal:  55\n",
      "Hexadecimal:  2d\n"
     ]
    }
   ],
   "source": [
    "#QUES->3. Write a Python Program to Convert Decimal to Binary, Octal and Hexadecimal?\n",
    "\n",
    "#ANS->\n",
    "decimal = int(input(\"Enter a decimal number: \"))\n",
    "\n",
    "print(\"Binary: \", bin(decimal)[2:])\n",
    "print(\"Octal: \", oct(decimal)[2:])\n",
    "print(\"Hexadecimal: \", hex(decimal)[2:])\n"
   ]
  },
  {
   "cell_type": "code",
   "execution_count": 24,
   "id": "6bde35be",
   "metadata": {},
   "outputs": [
    {
     "name": "stdout",
     "output_type": "stream",
     "text": [
      "Enter a character: a\n",
      "ASCII value of a is 97\n"
     ]
    }
   ],
   "source": [
    "#QUES->4. Write a Python Program To Find ASCII value of a character?\n",
    "\n",
    "#ANS->\n",
    "\n",
    "character = input(\"Enter a character: \")\n",
    "\n",
    "print(\"ASCII value of\", character, \"is\", ord(character))\n"
   ]
  },
  {
   "cell_type": "code",
   "execution_count": 26,
   "id": "c7279c8a",
   "metadata": {},
   "outputs": [
    {
     "name": "stdout",
     "output_type": "stream",
     "text": [
      "Enter first number: 1\n",
      "Enter second number: 2\n",
      "Select operation:\n",
      "1. Addition\n",
      "2. Subtraction\n",
      "3. Multiplication\n",
      "4. Division\n",
      "\n",
      "Enter your choice (1/2/3/4): 4\n",
      "Result: 0.5\n"
     ]
    }
   ],
   "source": [
    "#QUES->5. Write a Python Program to Make a Simple Calculator with 4 basic mathematical operations?\n",
    "\n",
    "#ANS->\n",
    "\n",
    "def add(num1, num2):\n",
    "    return num1 + num2\n",
    "\n",
    "def subtract(num1, num2):\n",
    "    return num1 - num2\n",
    "\n",
    "def multiply(num1, num2):\n",
    "    return num1 * num2\n",
    "\n",
    "def divide(num1, num2):\n",
    "    return num1 / num2\n",
    "\n",
    "num1 = float(input(\"Enter first number: \"))\n",
    "num2 = float(input(\"Enter second number: \"))\n",
    "\n",
    "print(\"Select operation:\")\n",
    "print(\"1. Addition\")\n",
    "print(\"2. Subtraction\")\n",
    "print(\"3. Multiplication\")\n",
    "print(\"4. Division\")\n",
    "\n",
    "choice = input(\"\\nEnter your choice (1/2/3/4): \")\n",
    "\n",
    "if choice == '1':\n",
    "    print(\"Result:\", add(num1, num2))\n",
    "elif choice == '2':\n",
    "    print(\"Result:\", subtract(num1, num2))\n",
    "elif choice == '3':\n",
    "    print(\"Result:\", multiply(num1, num2))\n",
    "elif choice == '4':\n",
    "    print(\"Result:\", divide(num1, num2))\n",
    "else:\n",
    "    print(\"Invalid choice\")\n"
   ]
  }
 ],
 "metadata": {
  "kernelspec": {
   "display_name": "Python 3 (ipykernel)",
   "language": "python",
   "name": "python3"
  },
  "language_info": {
   "codemirror_mode": {
    "name": "ipython",
    "version": 3
   },
   "file_extension": ".py",
   "mimetype": "text/x-python",
   "name": "python",
   "nbconvert_exporter": "python",
   "pygments_lexer": "ipython3",
   "version": "3.10.9"
  }
 },
 "nbformat": 4,
 "nbformat_minor": 5
}
