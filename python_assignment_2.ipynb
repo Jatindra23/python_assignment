{
 "cells": [
  {
   "cell_type": "raw",
   "id": "3f6d796a",
   "metadata": {},
   "source": [
    "QUES->1.What are the two values of the Boolean data type? How do you write them?\n",
    "\n",
    "ANS->\n",
    "\n",
    "The Boolean data type represents a logical value and can have two possible values: true and false. In programming languages, these values are typically written as keywords or literals.\n",
    "\n",
    "In many programming languages, the keyword true represents the value for true, while the keyword false represents the \n",
    "value for false. These keywords are not enclosed in quotes and are usually case-sensitive.\n",
    "\n",
    "For example, in Python, you would write the Boolean values as follows:\n",
    "\n",
    "true: True\n",
    "false: False\n",
    "\n",
    "the capitalization of the keywords may vary depending on the programming language, so it's \n",
    "important to follow the specific syntax rules of the language you are working with, in python the first letter shold be capital."
   ]
  },
  {
   "cell_type": "raw",
   "id": "d27071ba",
   "metadata": {},
   "source": [
    "QUES->2. What are the three different types of Boolean operators?\n",
    "\n",
    "\n",
    "ANS->\n",
    "The three different types of Boolean operators are:\n",
    "\n",
    "AND operator: The AND operator, often represented as \"&&\" or \"AND,\" returns true if both operands are true. Otherwise, it returns false. Here's the truth table for the AND operator\n",
    "\n",
    "OR operator: The OR operator, often represented as \"||\" or \"OR,\" returns true if at least one of the operands is true. It returns false only when both operands are false. Here's the truth table for the OR operator:\n",
    "\n",
    "NOT operator: The NOT operator, often represented as \"!\" or \"NOT,\" is a unary operator that negates the value of its operand. If the operand is true, the NOT operator returns false. If the operand is false, the NOT operator returns true. Here's the truth table for the NOT operator:\n",
    "\n",
    "\n",
    "\n"
   ]
  },
  {
   "cell_type": "raw",
   "id": "a4da3f92",
   "metadata": {},
   "source": [
    "QUES->3. Make a list of each Boolean operator's truth tables (i.e. every possible combination of Boolean values for the operator and what it evaluate ).\n",
    "\n",
    "\n",
    "ANS-> Here's the truth table for the AND operator\n",
    "\n",
    "Operand 1\tOperand 2\tResult\n",
    "True\t     True\t     True\n",
    "True\t     False\t    False\n",
    "False\t     True\t    False\n",
    "False\t     False\t    False\n",
    "\n",
    "\n",
    "OR operator:  Here's the truth table for the OR operator:\n",
    "Operand 1\tOperand 2\t    Result\n",
    "True\t      True\t         True     \n",
    "True\t     False\t         True      \n",
    "False\t     True\t         True\n",
    "False\t     False\t        False\n",
    "\n",
    "NOT operator:Here's the truth table for the NOT operator:\n",
    "\n",
    "Operand \tResult\n",
    "True\t    False\n",
    "False\t    True\n"
   ]
  },
  {
   "cell_type": "raw",
   "id": "6b7c8314",
   "metadata": {},
   "source": [
    "QUES->4. What are the values of the following expressions?\n",
    "a)(5 > 4) and (3 == 5)\n",
    "b)not (5 > 4)\n",
    "c)(5 > 4) or (3 == 5)\n",
    "d)not ((5 > 4) or (3 == 5))\n",
    "e)(True and True) and (True == False)\n",
    "f)(not False) or (not True)\n",
    "\n",
    "\n",
    "ANS->\n",
    "a)(5 > 4) and (3 == 5)\n",
    "Value: False\n",
    "\n",
    "b)not (5 > 4)\n",
    "Value: False\n",
    "\n",
    "c)(5 > 4) or (3 == 5)\n",
    "Value: True\n",
    "\n",
    "d)not ((5 > 4) or (3 == 5))\n",
    "Value: false\n",
    "\n",
    "e)(True and True) and (True == False)\n",
    "Value: False\n",
    "\n",
    "f)(not False) or (not True)\n",
    "Value: True"
   ]
  },
  {
   "cell_type": "raw",
   "id": "a4ff6696",
   "metadata": {},
   "source": [
    "QUES->5. What are the six comparison operators?\n",
    "\n",
    "ANS->\n",
    "Equal to (==): Checks if two values are equal and returns true if they are, and false otherwise.\n",
    "\n",
    "Not equal to (!=): Checks if two values are not equal and returns true if they are not, and false otherwise.\n",
    "\n",
    "Greater than (>): Checks if the left operand is greater than the right operand and returns true if it is, and false otherwise.\n",
    "\n",
    "Less than (<): Checks if the left operand is less than the right operand and returns true if it is, and false otherwise.\n",
    "\n",
    "Greater than or equal to (>=): Checks if the left operand is greater than or equal to the right operand and returns true if it is, and false otherwise.\n",
    "\n",
    "Less than or equal to (<=): Checks if the left operand is less than or equal to the right operand and returns true if it is, and false otherwise.\n",
    "\n",
    "These comparison operators are commonly used in programming and logical expressions to compare values and determine the relationship between them."
   ]
  },
  {
   "cell_type": "raw",
   "id": "7688ebda",
   "metadata": {},
   "source": [
    "QUES->6. How do you tell the difference between the equal to and assignment operators?Describe a condition and when you would use one.\n",
    "\n",
    "\n",
    "ANS->\n",
    "Equal to operator (==): The equal to operator is used to compare two values for equality. It checks whether the values on the left and right side are equal and returns true if they are, and false otherwise. It is a comparison operator used in logical expressions."
   ]
  },
  {
   "cell_type": "code",
   "execution_count": null,
   "id": "ee1c0155",
   "metadata": {},
   "outputs": [],
   "source": [
    "int x = 5;\n",
    "int y = 10;\n",
    "if (x == y) {\n",
    "    // Code to be executed if x is equal to y\n",
    "    // This condition will not be met in this example\n",
    "} else {\n",
    "    // Code to be executed if x is not equal to y\n",
    "    // This block will be executed\n",
    "}\n",
    "#In the above example, the equal to operator (==) is used to compare the values of x and y to determine if they are equal."
   ]
  },
  {
   "cell_type": "raw",
   "id": "47cb32fd",
   "metadata": {},
   "source": [
    "Assignment operator (=): The assignment operator is used to assign a value to a variable. It assigns the value on the right side of the operator to the variable on the left side. It is not used for comparison but for assigning values.\n",
    "\n",
    "ex: x = 5\n",
    "In this example, the assignment operator (=) is used to assign the value 5 to the variable x.\n",
    "\n",
    "To summarize, the equal to operator (==) is used for comparison, while the assignment operator (=) is used for assigning values.\n"
   ]
  },
  {
   "cell_type": "raw",
   "id": "c6073967",
   "metadata": {},
   "source": [
    "QUES->7. Identify the three blocks in this code:\n",
    "spam = 0\n",
    "if spam == 10:\n",
    "print('eggs')\n",
    "if spam > 5:\n",
    "print('bacon')\n",
    "else:\n",
    "print('ham')\n",
    "print('spam')\n",
    "print('spam')\n"
   ]
  },
  {
   "cell_type": "code",
   "execution_count": 13,
   "id": "340582f2",
   "metadata": {},
   "outputs": [
    {
     "name": "stdout",
     "output_type": "stream",
     "text": [
      "ham\n",
      "spam\n",
      "spam\n"
     ]
    }
   ],
   "source": [
    "#ANS->\n",
    "\n",
    "#first block\n",
    "spam = 0\n",
    "\n",
    "#second block\n",
    "if spam==10:\n",
    "    print('eggs')\n",
    "    \n",
    "#third block\n",
    "if spam>5:\n",
    "    print('bacon')\n",
    "else:\n",
    "    print('ham')\n",
    "    print('spam')\n",
    "    print('spam')\n",
    "\n"
   ]
  },
  {
   "cell_type": "raw",
   "id": "960cf97d",
   "metadata": {},
   "source": [
    "QUES->8. Write code that prints Hello if 1 is stored in spam, prints Howdy if 2 is stored in spam, and prints Greetings! if anything else is stored in spam."
   ]
  },
  {
   "cell_type": "code",
   "execution_count": 5,
   "id": "016827dd",
   "metadata": {},
   "outputs": [
    {
     "name": "stdout",
     "output_type": "stream",
     "text": [
      "Enter the value of spam: 5\n",
      "Greetings!\n"
     ]
    }
   ],
   "source": [
    "#ans)\n",
    "spam = int(input(\"Enter the value of spam: \"))  # Assuming user input is provided\n",
    "\n",
    "if spam == 1:\n",
    "    print(\"Hello\")\n",
    "elif spam == 2:\n",
    "    print(\"Howdy\")\n",
    "else:\n",
    "    print(\"Greetings!\")\n"
   ]
  },
  {
   "cell_type": "raw",
   "id": "fd0a98ff",
   "metadata": {},
   "source": [
    "ANS->\n",
    "The code prompts the user to enter the value of spam using the input() function and converts it to an integer using int() since input() returns a string.\n",
    "The if-elif-else statement checks the value of spam using comparison operators.\n",
    "If the value of spam is equal to 1, it executes the code block under if and prints \"Hello\".\n",
    "If the value of spam is equal to 2, it executes the code block under elif and prints \"Howdy\".\n",
    "If the value of spam is anything other than 1 or 2, it executes the code block under else and prints \"Greetings!\".\n",
    "This code provides the desired output based on the value stored in the spam variable"
   ]
  },
  {
   "cell_type": "raw",
   "id": "5cef08fe",
   "metadata": {},
   "source": [
    "QUES->9.If your programme is stuck in an endless loop, what keys you’ll press?\n",
    "\n",
    "\n",
    "ANS->\n",
    "If a program is stuck in an endless loop and you want to interrupt its execution, you can typically press the following key combinations:\n",
    "\n",
    "Ctrl + C: This key combination is commonly used to send an interrupt signal to the running program. It is a universal way to terminate or break out of an infinite loop. Pressing Ctrl + C will usually stop the execution of the program and return you to the command prompt or terminate the program if you're running it in an integrated development environment (IDE).\n",
    "\n",
    "Ctrl + Break: On some systems, the Ctrl + Break combination can also be used to break out of an endless loop. This combination is often an alternative to Ctrl + C and may work in specific environments or operating systems."
   ]
  },
  {
   "cell_type": "raw",
   "id": "ecde2014",
   "metadata": {},
   "source": [
    "QUES->10. How can you tell the difference between break and continue?\n",
    "\n",
    "ANS->\n",
    "The \"break\" and \"continue\" statements are used in loops to alter the flow of execution. Here's how they differ:\n",
    "\n",
    "\"break\" statement:\n",
    "The \"break\" statement is used to exit or terminate the current loop (such as a \"for\" or \"while\" loop) prematurely. When encountered, the \"break\" statement immediately exits the loop, and the program continues with the next statement after the loop.\n",
    "\n",
    "\n",
    "\n"
   ]
  },
  {
   "cell_type": "code",
   "execution_count": 6,
   "id": "dc804f95",
   "metadata": {},
   "outputs": [
    {
     "name": "stdout",
     "output_type": "stream",
     "text": [
      "1\n",
      "2\n"
     ]
    }
   ],
   "source": [
    "for i in range(1, 6):\n",
    "    if i == 3:\n",
    "        break\n",
    "    print(i)\n"
   ]
  },
  {
   "cell_type": "raw",
   "id": "dde6c995",
   "metadata": {},
   "source": [
    "ANS->\n",
    "In the above example, when the value of i becomes 3, the \"break\" statement is encountered, causing the loop to terminate. As a result, only the numbers 1 and 2 are printed, and the loop is exited.\n",
    "\n",
    "\"continue\" statement:\n",
    "The \"continue\" statement is used to skip the rest of the current iteration of a loop and move on to the next iteration. When encountered, the \"continue\" statement skips any code below it within the loop for that iteration and proceeds to the next iteration."
   ]
  },
  {
   "cell_type": "code",
   "execution_count": 7,
   "id": "31920551",
   "metadata": {},
   "outputs": [
    {
     "name": "stdout",
     "output_type": "stream",
     "text": [
      "1\n",
      "2\n",
      "4\n",
      "5\n"
     ]
    }
   ],
   "source": [
    "for i in range(1, 6):\n",
    "    if i == 3:\n",
    "        continue\n",
    "    print(i)\n"
   ]
  },
  {
   "cell_type": "raw",
   "id": "6e1e7a6a",
   "metadata": {},
   "source": [
    "ANS->\n",
    "In the above example, when the value of i becomes 3, the \"continue\" statement is encountered. It skips the code below it for that iteration (which is the print statement) and moves on to the next iteration. As a result, the number 3 is not printed, and the loop continues with the remaining iterations"
   ]
  },
  {
   "cell_type": "raw",
   "id": "36a74c41",
   "metadata": {},
   "source": [
    "QUES->11. In a for loop, what is the difference between range(10), range(0, 10), and range(0, 10, 1)?\n",
    "\n",
    "\n",
    "ANS->\n",
    "In a for loop, the range() function is commonly used to generate a sequence of numbers. Let's explore the differences between range(10), range(0, 10), and range(0, 10, 1):\n",
    "\n",
    "range(10): This specifies a range that starts from 0 (by default) and ends at 10 (exclusive). It increments by 1 (by default). Essentially, it generates numbers from 0 to 9.\n"
   ]
  },
  {
   "cell_type": "code",
   "execution_count": 8,
   "id": "c328154f",
   "metadata": {},
   "outputs": [
    {
     "name": "stdout",
     "output_type": "stream",
     "text": [
      "0\n",
      "1\n",
      "2\n",
      "3\n",
      "4\n",
      "5\n",
      "6\n",
      "7\n",
      "8\n",
      "9\n"
     ]
    }
   ],
   "source": [
    "#for example\n",
    "for i in range(10):\n",
    "    print(i)\n"
   ]
  },
  {
   "cell_type": "raw",
   "id": "51c495bb",
   "metadata": {},
   "source": [
    "ANS->\n",
    "range(0, 10): This specifies a range that starts from 0 and ends at 10 (exclusive). It also increments by 1 (by default). This range generates the same sequence of numbers from 0 to 9 as in the previous example."
   ]
  },
  {
   "cell_type": "code",
   "execution_count": 9,
   "id": "6b11073f",
   "metadata": {},
   "outputs": [
    {
     "name": "stdout",
     "output_type": "stream",
     "text": [
      "0\n",
      "1\n",
      "2\n",
      "3\n",
      "4\n",
      "5\n",
      "6\n",
      "7\n",
      "8\n",
      "9\n"
     ]
    }
   ],
   "source": [
    "for i in range(0, 10):\n",
    "    print(i)\n"
   ]
  },
  {
   "cell_type": "raw",
   "id": "725cb47b",
   "metadata": {},
   "source": [
    "ANS->\n",
    "range(0, 10, 1): This specifies a range that starts from 0 and ends at 10 (exclusive). It explicitly specifies an increment of 1. However, since incrementing by 1 is the default behavior, it produces the same sequence of numbers as the previous examples, from 0 to 9."
   ]
  },
  {
   "cell_type": "code",
   "execution_count": 10,
   "id": "d8e46a59",
   "metadata": {},
   "outputs": [
    {
     "name": "stdout",
     "output_type": "stream",
     "text": [
      "0\n",
      "1\n",
      "2\n",
      "3\n",
      "4\n",
      "5\n",
      "6\n",
      "7\n",
      "8\n",
      "9\n"
     ]
    }
   ],
   "source": [
    "for i in range(0, 10, 1):\n",
    "    print(i)\n"
   ]
  },
  {
   "cell_type": "raw",
   "id": "e3e1bba5",
   "metadata": {},
   "source": [
    "QUES->12. Write a short program that prints the numbers 1 to 10 using a for loop. Then write an equivalent program that prints the numbers 1 to 10 using a while loop.\n",
    "\n",
    "ANS->\n",
    "n the for loop version, the range(1, 11) generates a sequence of numbers from 1 to 10 (inclusive), and the loop iterates over each number, printing it."
   ]
  },
  {
   "cell_type": "code",
   "execution_count": 11,
   "id": "4ee4eabe",
   "metadata": {},
   "outputs": [
    {
     "name": "stdout",
     "output_type": "stream",
     "text": [
      "1\n",
      "2\n",
      "3\n",
      "4\n",
      "5\n",
      "6\n",
      "7\n",
      "8\n",
      "9\n",
      "10\n"
     ]
    }
   ],
   "source": [
    "for i in range(1, 11):\n",
    "    print(i)\n"
   ]
  },
  {
   "cell_type": "raw",
   "id": "16ba5095",
   "metadata": {},
   "source": [
    "ANS->\n",
    "In the while loop version, we initialize i to 1 and keep incrementing it by 1 inside the loop until i reaches 11. The loop continues executing as long as the condition i <= 10 is true, printing the value of i at each iteration."
   ]
  },
  {
   "cell_type": "code",
   "execution_count": 12,
   "id": "f602fcc1",
   "metadata": {},
   "outputs": [
    {
     "name": "stdout",
     "output_type": "stream",
     "text": [
      "1\n",
      "2\n",
      "3\n",
      "4\n",
      "5\n",
      "6\n",
      "7\n",
      "8\n",
      "9\n",
      "10\n"
     ]
    }
   ],
   "source": [
    "ANS->\n",
    "i = 1\n",
    "while i <= 10:\n",
    "    print(i)\n",
    "    i += 1\n"
   ]
  },
  {
   "cell_type": "raw",
   "id": "4c1801fe",
   "metadata": {},
   "source": [
    "QUES->13. If you had a function named bacon() inside a module named spam, how would you call it after importing spam?\n",
    "\n",
    "ANS->\n",
    "To call the function bacon() from the spam module after importing it, you would use the following syntax:\n",
    "import spam\n",
    "\n",
    "spam.bacon()\n",
    "\n",
    "In the code above, the import spam statement imports the spam module into your Python program, making its contents accessible. Then, you can call the bacon() function using the dot notation, specifying the module name (spam) followed by the function name (bacon()).\n",
    "\n",
    "This way, you can execute the bacon() function defined within the spam module and utilize its functionality in your program.\n",
    "\n"
   ]
  }
 ],
 "metadata": {
  "kernelspec": {
   "display_name": "Python 3 (ipykernel)",
   "language": "python",
   "name": "python3"
  },
  "language_info": {
   "codemirror_mode": {
    "name": "ipython",
    "version": 3
   },
   "file_extension": ".py",
   "mimetype": "text/x-python",
   "name": "python",
   "nbconvert_exporter": "python",
   "pygments_lexer": "ipython3",
   "version": "3.10.9"
  }
 },
 "nbformat": 4,
 "nbformat_minor": 5
}
