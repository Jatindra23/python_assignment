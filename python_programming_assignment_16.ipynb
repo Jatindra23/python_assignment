{
 "cells": [
  {
   "cell_type": "code",
   "execution_count": 2,
   "id": "3f6e6b90",
   "metadata": {},
   "outputs": [
    {
     "name": "stdout",
     "output_type": "stream",
     "text": [
      "in... in... incredible?\n",
      "su... su... super?\n",
      "fa... fa... fanntastic?\n"
     ]
    }
   ],
   "source": [
    "# Question1. Write a function that stutters a word as if someone is struggling to read it. The\n",
    "# first two letters are repeated twice with an ellipsis ... and space after each, and then the\n",
    "# word is pronounced with a question mark ?.\n",
    "\n",
    "def stutter(word):\n",
    "    first_two_letters = word[:2]\n",
    "    stuttered_word = f\"{first_two_letters}... {first_two_letters}... {word}?\"\n",
    "    return stuttered_word\n",
    "\n",
    "# Test cases\n",
    "print(stutter(\"incredible\"))     \n",
    "print(stutter(\"super\"))   \n",
    "print(stutter(\"fanntastic\"))    \n"
   ]
  },
  {
   "cell_type": "code",
   "execution_count": 3,
   "id": "426327b4",
   "metadata": {},
   "outputs": [
    {
     "name": "stdout",
     "output_type": "stream",
     "text": [
      "57.3\n",
      "5156.6\n",
      "2578.3\n"
     ]
    }
   ],
   "source": [
    "# Question 2.Create a function that takes an angle in radians and returns the corresponding\n",
    "# angle in degrees rounded to one decimal place.\n",
    "\n",
    "import math\n",
    "\n",
    "def radians_to_degrees(radians):\n",
    "    degrees = radians * (180 / math.pi)\n",
    "    rounded_degrees = round(degrees, 1)\n",
    "    return rounded_degrees\n",
    "\n",
    "# Test cases\n",
    "print(radians_to_degrees(1))   \n",
    "print(radians_to_degrees(90))  \n",
    "print(radians_to_degrees(45))  \n"
   ]
  },
  {
   "cell_type": "code",
   "execution_count": 4,
   "id": "5db97b8a",
   "metadata": {},
   "outputs": [
    {
     "name": "stdout",
     "output_type": "stream",
     "text": [
      "True\n",
      "False\n",
      "True\n"
     ]
    }
   ],
   "source": [
    "# Question 3. In this challenge, establish if a given integer num is a Curzon number. If 1 plus\n",
    "# 2 elevated to num is exactly divisible by 1 plus 2 multiplied by num, then num is a Curzon\n",
    "# number.\n",
    "# Given a non-negative integer num, implement a function that returns True if num is a Curzon\n",
    "# number, or False otherwise.\n",
    "\n",
    "def is_curzon(num):\n",
    "    numerator = 2 ** num + 1\n",
    "    denominator = 2 * num + 1\n",
    "    return numerator % denominator == 0\n",
    "\n",
    "# Test cases\n",
    "print(is_curzon(5))   \n",
    "print(is_curzon(10))  \n",
    "print(is_curzon(14))  \n"
   ]
  },
  {
   "cell_type": "code",
   "execution_count": 5,
   "id": "e38f529e",
   "metadata": {},
   "outputs": [
    {
     "name": "stdout",
     "output_type": "stream",
     "text": [
      "2.6\n",
      "10.4\n",
      "23.4\n"
     ]
    }
   ],
   "source": [
    "# Question 4.Given the side length x find the area of a hexagon.\n",
    "\n",
    "import math\n",
    "\n",
    "def area_of_hexagon(x):\n",
    "    area = (3 * math.sqrt(3) * x ** 2) / 2\n",
    "    return round(area, 1)\n",
    "\n",
    "# Test cases\n",
    "print(area_of_hexagon(1))  # Output: 2.6\n",
    "print(area_of_hexagon(2))  # Output: 10.4\n",
    "print(area_of_hexagon(3))  # Output: 23.4\n"
   ]
  },
  {
   "cell_type": "code",
   "execution_count": 7,
   "id": "e89bf56e",
   "metadata": {},
   "outputs": [
    {
     "name": "stdout",
     "output_type": "stream",
     "text": [
      "1000\n",
      "10100\n",
      "1110\n"
     ]
    }
   ],
   "source": [
    "# Question 5. Create a function that returns a base-2 (binary) representation of a base-10\n",
    "# (decimal) string number. To convert is simple: ((2) means base-2 and (10) means base-10)\n",
    "\n",
    "\n",
    "def binary(decimal):\n",
    "    binary_representation = \"\"\n",
    "    \n",
    "    while decimal > 0:\n",
    "        remainder = decimal % 2\n",
    "        binary_representation = str(remainder) + binary_representation\n",
    "        decimal //= 2\n",
    "    \n",
    "    if binary_representation == \"\":\n",
    "        binary_representation = \"0\"\n",
    "    \n",
    "    return binary_representation\n",
    "\n",
    "# Test cases\n",
    "print(binary(8))  \n",
    "print(binary(20))   \n",
    "print(binary(14)) \n"
   ]
  }
 ],
 "metadata": {
  "kernelspec": {
   "display_name": "Python 3 (ipykernel)",
   "language": "python",
   "name": "python3"
  },
  "language_info": {
   "codemirror_mode": {
    "name": "ipython",
    "version": 3
   },
   "file_extension": ".py",
   "mimetype": "text/x-python",
   "name": "python",
   "nbconvert_exporter": "python",
   "pygments_lexer": "ipython3",
   "version": "3.10.9"
  }
 },
 "nbformat": 4,
 "nbformat_minor": 5
}
