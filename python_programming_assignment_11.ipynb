{
 "cells": [
  {
   "cell_type": "code",
   "execution_count": 8,
   "id": "a374914a",
   "metadata": {},
   "outputs": [
    {
     "name": "stdout",
     "output_type": "stream",
     "text": [
      "Enter a list of words separated by spaces: joy happy sad\n",
      "Enter the minimum word length: 3\n",
      "Words greater than length 3 : ['happy']\n"
     ]
    }
   ],
   "source": [
    "#1. Write a Python program to find words which are greater than given length k?\n",
    "\n",
    "#ANS-\n",
    "def find_words_greater_than_length(words, k):\n",
    "    result = []\n",
    "    for word in words:\n",
    "        if len(word) > k:\n",
    "            result.append(word)\n",
    "    return result\n",
    "\n",
    "input_words = input(\"Enter a list of words separated by spaces: \").split()\n",
    "k = int(input(\"Enter the minimum word length: \"))\n",
    "result = find_words_greater_than_length(input_words, k)\n",
    "print(\"Words greater than length\", k, \":\", result)\n"
   ]
  },
  {
   "cell_type": "code",
   "execution_count": 9,
   "id": "93f7d00c",
   "metadata": {},
   "outputs": [
    {
     "name": "stdout",
     "output_type": "stream",
     "text": [
      "Enter a string: ineuron\n",
      "Enter the index of the character to remove: 4\n",
      "Modified string: ineuon\n"
     ]
    }
   ],
   "source": [
    "#2. Write a Python program for removing i-th character from a string?\n",
    "#ANS-\n",
    "def remove_ith_character(input_string, i):\n",
    "    if i < 0 or i >= len(input_string):\n",
    "        return \"Invalid index\"\n",
    "    return input_string[:i] + input_string[i+1:]\n",
    "\n",
    "input_string = input(\"Enter a string: \")\n",
    "i = int(input(\"Enter the index of the character to remove: \"))\n",
    "result = remove_ith_character(input_string, i)\n",
    "print(\"Modified string:\", result)\n"
   ]
  },
  {
   "cell_type": "code",
   "execution_count": 13,
   "id": "66e3d948",
   "metadata": {},
   "outputs": [
    {
     "name": "stdout",
     "output_type": "stream",
     "text": [
      "Enter a string: pwskills\n",
      "Enter the delimiter: w\n",
      "Modified string: p-skills\n"
     ]
    }
   ],
   "source": [
    "#3. Write a Python program to split and join a string?\n",
    "\n",
    "#ANS-\n",
    "def split_and_join(input_string, delimiter):\n",
    "    words = input_string.split(delimiter)\n",
    "    return \"-\".join(words)\n",
    "\n",
    "input_string = input(\"Enter a string: \")\n",
    "delimiter = input(\"Enter the delimiter: \")\n",
    "result = split_and_join(input_string, delimiter)\n",
    "print(\"Modified string:\", result)\n"
   ]
  },
  {
   "cell_type": "code",
   "execution_count": 14,
   "id": "da6d7807",
   "metadata": {},
   "outputs": [
    {
     "name": "stdout",
     "output_type": "stream",
     "text": [
      "Enter a string: \n",
      "The given string is a binary string.\n"
     ]
    }
   ],
   "source": [
    "#4. Write a Python to check if a given string is binary string or not?\n",
    "\n",
    "#ANS-\n",
    "def is_binary_string(input_string):\n",
    "    for char in input_string:\n",
    "        if char != '0' and char != '1':\n",
    "            return False\n",
    "    return True\n",
    "\n",
    "input_string = input(\"Enter a string: \")\n",
    "if is_binary_string(input_string):\n",
    "    print(\"The given string is a binary string.\")\n",
    "else:\n",
    "    print(\"The given string is not a binary string.\")\n"
   ]
  },
  {
   "cell_type": "code",
   "execution_count": 15,
   "id": "9d749860",
   "metadata": {},
   "outputs": [
    {
     "name": "stdout",
     "output_type": "stream",
     "text": [
      "Enter the first string: rain\n",
      "Enter the second string: drops\n",
      "Uncommon words: ['drops', 'rain']\n"
     ]
    }
   ],
   "source": [
    "#5. Write a Python program to find uncommon words from two Strings?\n",
    "\n",
    "#ANS-\n",
    "def find_uncommon_words(str1, str2):\n",
    "    set1 = set(str1.split())\n",
    "    set2 = set(str2.split())\n",
    "    uncommon_words = (set1 | set2) - (set1 & set2)\n",
    "    return list(uncommon_words)\n",
    "\n",
    "input_str1 = input(\"Enter the first string: \")\n",
    "input_str2 = input(\"Enter the second string: \")\n",
    "result = find_uncommon_words(input_str1, input_str2)\n",
    "print(\"Uncommon words:\", result)\n"
   ]
  },
  {
   "cell_type": "code",
   "execution_count": 17,
   "id": "af2bb269",
   "metadata": {},
   "outputs": [
    {
     "name": "stdout",
     "output_type": "stream",
     "text": [
      "Enter a string: happy\n",
      "Duplicate characters: ['p']\n"
     ]
    }
   ],
   "source": [
    "#6. Write a Python to find all duplicate characters in string?\n",
    "\n",
    "#ANS-\n",
    "def find_duplicate_characters(input_string):\n",
    "    char_count = {}\n",
    "    duplicates = []\n",
    "    \n",
    "    for char in input_string:\n",
    "        if char in char_count:\n",
    "            char_count[char] += 1\n",
    "        else:\n",
    "            char_count[char] = 1\n",
    "    \n",
    "    for char, count in char_count.items():\n",
    "        if count > 1:\n",
    "            duplicates.append(char)\n",
    "    \n",
    "    return duplicates\n",
    "\n",
    "input_string = input(\"Enter a string: \")\n",
    "result = find_duplicate_characters(input_string)\n",
    "print(\"Duplicate characters:\", result)\n"
   ]
  },
  {
   "cell_type": "code",
   "execution_count": 18,
   "id": "971f4448",
   "metadata": {},
   "outputs": [
    {
     "name": "stdout",
     "output_type": "stream",
     "text": [
      "Enter a string: h@ppy\n",
      "The string contains special characters.\n"
     ]
    }
   ],
   "source": [
    "#7. Write a Python Program to check if a string contains any special character?\n",
    "\n",
    "#ANS-\n",
    "import re\n",
    "\n",
    "def has_special_characters(input_string):\n",
    "    special_chars = re.compile('[!@#$%^&*(),.?\":{}|<>]')\n",
    "    return special_chars.search(input_string) is not None\n",
    "\n",
    "input_string = input(\"Enter a string: \")\n",
    "if has_special_characters(input_string):\n",
    "    print(\"The string contains special characters.\")\n",
    "else:\n",
    "    print(\"The string does not contain special characters.\")\n"
   ]
  },
  {
   "cell_type": "code",
   "execution_count": null,
   "id": "6bef9a4f",
   "metadata": {},
   "outputs": [],
   "source": []
  }
 ],
 "metadata": {
  "kernelspec": {
   "display_name": "Python 3 (ipykernel)",
   "language": "python",
   "name": "python3"
  },
  "language_info": {
   "codemirror_mode": {
    "name": "ipython",
    "version": 3
   },
   "file_extension": ".py",
   "mimetype": "text/x-python",
   "name": "python",
   "nbconvert_exporter": "python",
   "pygments_lexer": "ipython3",
   "version": "3.10.9"
  }
 },
 "nbformat": 4,
 "nbformat_minor": 5
}
