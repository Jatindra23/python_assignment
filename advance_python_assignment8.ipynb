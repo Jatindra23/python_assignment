{
 "cells": [
  {
   "cell_type": "markdown",
   "id": "63f69ccf",
   "metadata": {},
   "source": [
    "Q1. **Latest User-Defined Exception Constraints in Python 3.X:**\n",
    "\n",
    "ANS->\n",
    "Starting from Python 3.3, there are two notable constraints for user-defined exceptions:\n",
    "1. **Inheriting from `BaseException`:** User-defined exceptions should inherit from the built-in `BaseException` class or its subclasses. This ensures that custom exceptions conform to the exception hierarchy and can be caught and handled using generic exception handlers.\n",
    "\n",
    "2. **Stricter `__init__` Signature:** The `__init__` method of user-defined exceptions must accept only a single argument – the exception's error message. This constraint encourages consistent and simple initialization of exception objects.\n",
    "\n",
    "Q2. **Matching Class-Based Exceptions to Handlers:**\n",
    "\n",
    "ANS->\n",
    "When an exception is raised, Python searches for an appropriate `except` block to handle it. For class-based exceptions, the search is based on the exception's type and its inheritance hierarchy. The interpreter looks for an `except` block whose exception type matches the raised exception type or its superclass. If a matching `except` block is found, its associated code block is executed.\n",
    "\n",
    "Q3. **Methods for Attaching Context Information to Exception Artefacts:**\n",
    "\n",
    "ANS->\n",
    "Two methods for attaching context information to exception artifacts are:\n",
    "1. **Adding Attributes to Custom Exceptions:** When defining custom exceptions, you can add attributes that provide additional context information. This information can help developers understand the circumstances under which the exception was raised.\n",
    "\n",
    "2. **Using Exception Chaining:** When catching one exception and raising a different one, you can chain the original exception using the `from` keyword. This provides a clear trail of exceptions and their context as they propagate up the call stack.\n",
    "\n",
    "Q4. **Methods for Specifying the Text of an Exception Object's Error Message:**\n",
    "\n",
    "ANS->\n",
    "Two methods for specifying the text of an exception object's error message are:\n",
    "1. **Passing a String to the Exception Constructor:** You can pass a string message as an argument to the exception's constructor when raising it. For example: `raise CustomException(\"This is an error message\")`.\n",
    "\n",
    "2. **Overriding the `__str__` Method:** You can override the `__str__` method in your custom exception class to provide a custom string representation of the exception's details. This allows you to control how the exception is displayed when converted to a string.\n",
    "\n",
    "Q5. **Reason for Not Using String-Based Exceptions:**\n",
    "\n",
    "ANS->\n",
    "String-based exceptions, where exceptions were identified by their error message strings, were less structured and harder to manage. They lacked the clear hierarchy and type-based handling that class-based exceptions provide. With class-based exceptions, you have more control over the exception hierarchy, better organization, and more informative error messages. This leads to improved readability, maintainability, and extensibility of code that handles exceptions."
   ]
  },
  {
   "cell_type": "code",
   "execution_count": null,
   "id": "ddd4867d",
   "metadata": {},
   "outputs": [],
   "source": []
  }
 ],
 "metadata": {
  "kernelspec": {
   "display_name": "Python 3 (ipykernel)",
   "language": "python",
   "name": "python3"
  },
  "language_info": {
   "codemirror_mode": {
    "name": "ipython",
    "version": 3
   },
   "file_extension": ".py",
   "mimetype": "text/x-python",
   "name": "python",
   "nbconvert_exporter": "python",
   "pygments_lexer": "ipython3",
   "version": "3.10.9"
  }
 },
 "nbformat": 4,
 "nbformat_minor": 5
}
