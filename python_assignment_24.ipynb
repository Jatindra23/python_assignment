{
 "cells": [
  {
   "cell_type": "raw",
   "id": "2be2f027",
   "metadata": {},
   "source": [
    "QUES->1. What is the relationship between def statements and lambda expressions ?\n",
    "\n",
    "ANS->\n",
    "def statements are used to define named functions with a block of code. They have a formal function signature, including the function name, parameters, and optional return statement. def statements are generally used for complex, reusable functions that require multiple statements and have a clear purpose.\n",
    "\n",
    "Lambda expressions, also known as anonymous functions, are defined using the lambda keyword. They are used to create small, one-line functions without a name. Lambda functions are often used for simple operations and can be defined inline within another expression or function call. They are particularly useful in functional programming paradigms and when a function is needed as an argument to another function."
   ]
  },
  {
   "cell_type": "raw",
   "id": "357c393d",
   "metadata": {},
   "source": [
    "QUES->2. What is the benefit of lambda?\n",
    "\n",
    "ANS->\n",
    "The benefit of using lambda expressions in Python includes:\n",
    "-Lambda expressions allow you to define functions in a compact and readable manner, especially for simple operations or       small code snippets.\n",
    "\n",
    "-They help avoid the need to define a separate named function for a short-lived or one-time use case.\n",
    "-Lambda functions can make the code more expressive and self-contained, particularly when used with higher-order functions   like map(), filter(), or reduce().\n",
    "\n",
    "-Lambda expressions are commonly used to pass functions as arguments to other functions, providing flexibility and enabling   functional programming techniques."
   ]
  },
  {
   "cell_type": "raw",
   "id": "cf04bd11",
   "metadata": {},
   "source": [
    "QUES->3. Compare and contrast map, filter, and reduce.\n",
    "\n",
    "ANS->\n",
    "map(function, iterable): It applies the specified function to each item in the iterable and returns an iterator that yields the results. The length of the returned iterator is equal to the length of the shortest input iterable.\n",
    "\n",
    "filter(function, iterable): It creates an iterator from the elements of the iterable for which the specified function returns True. It effectively filters out the elements based on the given condition.\n",
    "\n",
    "reduce(function, iterable): It applies the specified function cumulatively to the items of the iterable from left to right, reducing them to a single value. The reduce() function is not a built-in function in Python 3, but it is available in the functools module.\n",
    "\n",
    "While map() and filter() perform operations on each element independently, reduce() applies a function that aggregates the elements into a single result."
   ]
  },
  {
   "cell_type": "raw",
   "id": "e31df4c8",
   "metadata": {},
   "source": [
    "QUES->4. What are function annotations, and how are they used?\n",
    "\n",
    "ANS->\n",
    "Function annotations in Python provide a way to attach metadata to function parameters and return values. They are defined using the colon : syntax after the parameter or return value name.\n",
    "Function annotations do not enforce any type checking or affect the runtime behavior of the function. They are primarily used for documentation purposes or to provide hints about the expected types."
   ]
  },
  {
   "cell_type": "code",
   "execution_count": 1,
   "id": "be00b038",
   "metadata": {},
   "outputs": [
    {
     "data": {
      "text/plain": [
       "'Hello, ineuron!'"
      ]
     },
     "execution_count": 1,
     "metadata": {},
     "output_type": "execute_result"
    }
   ],
   "source": [
    "def greet(name: str) -> str:\n",
    "    return f\"Hello, {name}!\"\n",
    "\n",
    "greet('ineuron')"
   ]
  },
  {
   "cell_type": "raw",
   "id": "dc1db2c4",
   "metadata": {},
   "source": [
    "QUES->5. What are recursive functions, and how are they used?\n",
    "\n",
    "ANS->\n",
    "Recursive functions are functions that call themselves during their execution. They are used to solve problems that can be divided into smaller subproblems of the same type. Recursive functions typically consist of a base case (stopping condition) and a recursive case (where the function calls itself with a modified input)."
   ]
  },
  {
   "cell_type": "code",
   "execution_count": 2,
   "id": "a8561278",
   "metadata": {},
   "outputs": [
    {
     "data": {
      "text/plain": [
       "3628800"
      ]
     },
     "execution_count": 2,
     "metadata": {},
     "output_type": "execute_result"
    }
   ],
   "source": [
    "def factorial(n):\n",
    "    if n == 0:\n",
    "        return 1\n",
    "    else:\n",
    "        return  n * factorial(n - 1)\n",
    "factorial(10)"
   ]
  },
  {
   "cell_type": "raw",
   "id": "2cdd722f",
   "metadata": {},
   "source": [
    "QUES->6. What are some general design guidelines for coding functions?\n",
    "\n",
    "ANS->\n",
    "- Functions should have a clear purpose and perform a single task. They should be named descriptively to indicate their functionality.\n",
    "\n",
    "- Functions should be kept short and focused. Long functions can be hard to understand and maintain. If a function becomes too long, it may be an indication that it needs to be divided into smaller, more specialized functions.\n",
    "\n",
    "- Functions should have well-defined parameters that clearly indicate what inputs they require. Avoid using excessive parameters, as it can make the function harder to use and understand.\n",
    "\n",
    "- Functions should aim to be free of side effects, meaning they do not modify global variables or have any unintended consequences. Functions that modify global state should clearly indicate this in their documentation."
   ]
  },
  {
   "cell_type": "raw",
   "id": "e43a1b15",
   "metadata": {},
   "source": [
    "QUES->7. Name three or more ways that functions can communicate results to a caller.\n",
    "\n",
    "ANS->\n",
    "- The most common way for a function to communicate a result is by using the return statement. The function can return a single value or multiple values as a tuple.\n",
    "\n",
    "- Functions can modify mutable objects (e.g., lists, dictionaries) that are passed as arguments. The modifications made to the object inside the function will be visible to the caller.\n",
    "\n",
    "- Functions can access and modify global variables, but it is generally considered a best practice to avoid relying heavily on global state.\n",
    "\n",
    "- Exceptions: Functions can raise exceptions to indicate errors or exceptional conditions. The caller can handle these exceptions and take appropriate actions.\n"
   ]
  }
 ],
 "metadata": {
  "kernelspec": {
   "display_name": "Python 3 (ipykernel)",
   "language": "python",
   "name": "python3"
  },
  "language_info": {
   "codemirror_mode": {
    "name": "ipython",
    "version": 3
   },
   "file_extension": ".py",
   "mimetype": "text/x-python",
   "name": "python",
   "nbconvert_exporter": "python",
   "pygments_lexer": "ipython3",
   "version": "3.10.9"
  }
 },
 "nbformat": 4,
 "nbformat_minor": 5
}
