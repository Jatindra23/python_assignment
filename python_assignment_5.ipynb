{
 "cells": [
  {
   "cell_type": "raw",
   "id": "0adaaeeb",
   "metadata": {},
   "source": [
    "QUES->1. What does an empty dictionary's code look like?\n",
    "\n",
    "ANS->\n",
    "An empty dictionary's code looks like this: {}."
   ]
  },
  {
   "cell_type": "code",
   "execution_count": 2,
   "id": "b03b1ee2",
   "metadata": {},
   "outputs": [],
   "source": [
    "#example:\n",
    "\n",
    "my_dict={}"
   ]
  },
  {
   "cell_type": "raw",
   "id": "238ef1c3",
   "metadata": {},
   "source": [
    "QUES->2. What is the value of a dictionary value with the key 'foo' and the value 42?\n",
    "\n",
    "ANS->\n",
    "The value of a dictionary value with the key 'foo' and the value 42 would be 42.\n"
   ]
  },
  {
   "cell_type": "code",
   "execution_count": 6,
   "id": "66113de7",
   "metadata": {},
   "outputs": [
    {
     "data": {
      "text/plain": [
       "dict_values([42])"
      ]
     },
     "execution_count": 6,
     "metadata": {},
     "output_type": "execute_result"
    }
   ],
   "source": [
    "#example:\n",
    "dictionary  = {\"foo\":42}\n",
    "dictionary.values()"
   ]
  },
  {
   "cell_type": "raw",
   "id": "113c62a0",
   "metadata": {},
   "source": [
    "QUES->3. What is the most significant distinction between a dictionary and a list?\n",
    "\n",
    "ANS->\n",
    "The most significant distinction between a dictionary and a list is that a dictionary is an unordered collection of key-value pairs, whereas a list is an ordered collection of values. In a dictionary, values are accessed and manipulated using their corresponding keys, while in a list, values are accessed and manipulated using their indices.\n"
   ]
  },
  {
   "cell_type": "raw",
   "id": "3504a7a3",
   "metadata": {},
   "source": [
    "QUES->4. What happens if you try to access spam['foo'] if spam is {'bar': 100}?\n",
    "\n",
    "ANS->\n",
    "If you try to access spam['foo'] when spam is {'bar': 100}, you will get a KeyError because the key 'foo' does not exist in the spam dictionary."
   ]
  },
  {
   "cell_type": "code",
   "execution_count": 7,
   "id": "e6f462e7",
   "metadata": {},
   "outputs": [
    {
     "ename": "KeyError",
     "evalue": "'foo'",
     "output_type": "error",
     "traceback": [
      "\u001b[1;31m---------------------------------------------------------------------------\u001b[0m",
      "\u001b[1;31mKeyError\u001b[0m                                  Traceback (most recent call last)",
      "Cell \u001b[1;32mIn[7], line 4\u001b[0m\n\u001b[0;32m      1\u001b[0m \u001b[38;5;66;03m#example:\u001b[39;00m\n\u001b[0;32m      3\u001b[0m spam \u001b[38;5;241m=\u001b[39m {\u001b[38;5;124m'\u001b[39m\u001b[38;5;124mbar\u001b[39m\u001b[38;5;124m'\u001b[39m: \u001b[38;5;241m100\u001b[39m}\n\u001b[1;32m----> 4\u001b[0m \u001b[43mspam\u001b[49m\u001b[43m[\u001b[49m\u001b[38;5;124;43m'\u001b[39;49m\u001b[38;5;124;43mfoo\u001b[39;49m\u001b[38;5;124;43m'\u001b[39;49m\u001b[43m]\u001b[49m\n",
      "\u001b[1;31mKeyError\u001b[0m: 'foo'"
     ]
    }
   ],
   "source": [
    "#example:\n",
    "\n",
    "spam = {'bar': 100}\n",
    "spam['foo']"
   ]
  },
  {
   "cell_type": "raw",
   "id": "1b9f6f81",
   "metadata": {},
   "source": [
    "QUES->5. If a dictionary is stored in spam, what is the difference between the expressions 'cat' in spam and 'cat' in spam.keys()?\n",
    "\n",
    "ANS->\n",
    "In the expression 'cat' in spam, it checks if the string 'cat' exists as a key in the dictionary spam. If 'cat' is a key in spam, it will return True; otherwise, it will return False.\n",
    "\n",
    "In the expression 'cat' in spam.keys(), it also checks if 'cat' exists as a key in the spam dictionary. However, it explicitly calls the keys() method on spam to retrieve a list of all keys in the dictionary and then checks if 'cat' is present in that list. The result will be the same as 'cat' in spam."
   ]
  },
  {
   "cell_type": "code",
   "execution_count": 11,
   "id": "f6ee793e",
   "metadata": {},
   "outputs": [
    {
     "data": {
      "text/plain": [
       "True"
      ]
     },
     "execution_count": 11,
     "metadata": {},
     "output_type": "execute_result"
    }
   ],
   "source": [
    "spam={'cat':2}\n",
    "\n",
    "'cat' in spam\n",
    "\n",
    "'cat' in spam.keys()"
   ]
  },
  {
   "cell_type": "raw",
   "id": "5de16be7",
   "metadata": {},
   "source": [
    "QUES->7. What is a shortcut for the following code?\n",
    "if 'color' not in spam:\n",
    "spam['color'] = 'black'\n",
    "\n",
    "ANS->\n",
    "A shortcut for the given code can be achieved using the setdefault() method.\n",
    "\n",
    "The below method checks if the key 'color' exists in the spam dictionary. If it does not exist, it adds the key-value pair 'color': 'black' to the dictionary. If the key already exists, it returns the corresponding value without modifying the dictionary."
   ]
  },
  {
   "cell_type": "code",
   "execution_count": 12,
   "id": "7f33083e",
   "metadata": {},
   "outputs": [
    {
     "data": {
      "text/plain": [
       "'black'"
      ]
     },
     "execution_count": 12,
     "metadata": {},
     "output_type": "execute_result"
    }
   ],
   "source": [
    "#example:\n",
    "\n",
    "spam.setdefault('color', 'black')\n"
   ]
  },
  {
   "cell_type": "raw",
   "id": "d9f0a6c0",
   "metadata": {},
   "source": [
    "QUES->8. How do you \"pretty print\" dictionary values using which module and function?\n",
    "\n",
    "ANS->\n",
    "To \"pretty print\" dictionary values, you can use the pprint module's pprint() function.\n",
    "\n",
    "The pprint() function formats the dictionary in a more readable and structured way, especially when dealing with nested dictionaries or long dictionary values.\n"
   ]
  },
  {
   "cell_type": "code",
   "execution_count": 25,
   "id": "68750001",
   "metadata": {},
   "outputs": [
    {
     "name": "stdout",
     "output_type": "stream",
     "text": [
      "{'key1': 'value1',\n",
      " 'key2': {'nested_key1': 'nested_value1', 'nested_key2': 'nested_value2'},\n",
      " 'key3': 'value3'}\n"
     ]
    }
   ],
   "source": [
    "#example:\n",
    "\n",
    "import pprint\n",
    "\n",
    "my_dict = {\n",
    "    'key1': 'value1',\n",
    "    'key2': {\n",
    "        'nested_key1': 'nested_value1',\n",
    "        'nested_key2': 'nested_value2'\n",
    "    },\n",
    "    'key3': 'value3'\n",
    "}\n",
    "\n",
    "pprint.pprint(my_dict)\n"
   ]
  }
 ],
 "metadata": {
  "kernelspec": {
   "display_name": "Python 3 (ipykernel)",
   "language": "python",
   "name": "python3"
  },
  "language_info": {
   "codemirror_mode": {
    "name": "ipython",
    "version": 3
   },
   "file_extension": ".py",
   "mimetype": "text/x-python",
   "name": "python",
   "nbconvert_exporter": "python",
   "pygments_lexer": "ipython3",
   "version": "3.10.9"
  }
 },
 "nbformat": 4,
 "nbformat_minor": 5
}
